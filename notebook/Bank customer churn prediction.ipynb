{
 "cells": [
  {
   "cell_type": "markdown",
   "id": "cb840e0e",
   "metadata": {},
   "source": [
    "### Import Libraries"
   ]
  },
  {
   "cell_type": "code",
   "execution_count": 1,
   "id": "43ad2a3b",
   "metadata": {},
   "outputs": [],
   "source": [
    "import numpy as np\n",
    "import pandas as pd\n",
    "import matplotlib.pyplot as plt\n",
    "import seaborn as sns\n",
    "from sklearn import metrics\n",
    "from sklearn.model_selection import GridSearchCV\n",
    "\n",
    "import warnings\n",
    "warnings.filterwarnings('ignore')"
   ]
  },
  {
   "cell_type": "markdown",
   "id": "ca0ec063",
   "metadata": {},
   "source": [
    "### Import dataset"
   ]
  },
  {
   "cell_type": "code",
   "execution_count": 2,
   "id": "7162ab63",
   "metadata": {},
   "outputs": [
    {
     "data": {
      "text/html": [
       "<div>\n",
       "<style scoped>\n",
       "    .dataframe tbody tr th:only-of-type {\n",
       "        vertical-align: middle;\n",
       "    }\n",
       "\n",
       "    .dataframe tbody tr th {\n",
       "        vertical-align: top;\n",
       "    }\n",
       "\n",
       "    .dataframe thead th {\n",
       "        text-align: right;\n",
       "    }\n",
       "</style>\n",
       "<table border=\"1\" class=\"dataframe\">\n",
       "  <thead>\n",
       "    <tr style=\"text-align: right;\">\n",
       "      <th></th>\n",
       "      <th>RowNumber</th>\n",
       "      <th>CustomerId</th>\n",
       "      <th>Surname</th>\n",
       "      <th>CreditScore</th>\n",
       "      <th>Geography</th>\n",
       "      <th>Gender</th>\n",
       "      <th>Age</th>\n",
       "      <th>Tenure</th>\n",
       "      <th>Balance</th>\n",
       "      <th>NumOfProducts</th>\n",
       "      <th>HasCrCard</th>\n",
       "      <th>IsActiveMember</th>\n",
       "      <th>EstimatedSalary</th>\n",
       "      <th>Exited</th>\n",
       "    </tr>\n",
       "  </thead>\n",
       "  <tbody>\n",
       "    <tr>\n",
       "      <th>0</th>\n",
       "      <td>1</td>\n",
       "      <td>15634602</td>\n",
       "      <td>Hargrave</td>\n",
       "      <td>619</td>\n",
       "      <td>France</td>\n",
       "      <td>Female</td>\n",
       "      <td>42</td>\n",
       "      <td>2</td>\n",
       "      <td>0.00</td>\n",
       "      <td>1</td>\n",
       "      <td>1</td>\n",
       "      <td>1</td>\n",
       "      <td>101348.88</td>\n",
       "      <td>1</td>\n",
       "    </tr>\n",
       "    <tr>\n",
       "      <th>1</th>\n",
       "      <td>2</td>\n",
       "      <td>15647311</td>\n",
       "      <td>Hill</td>\n",
       "      <td>608</td>\n",
       "      <td>Spain</td>\n",
       "      <td>Female</td>\n",
       "      <td>41</td>\n",
       "      <td>1</td>\n",
       "      <td>83807.86</td>\n",
       "      <td>1</td>\n",
       "      <td>0</td>\n",
       "      <td>1</td>\n",
       "      <td>112542.58</td>\n",
       "      <td>0</td>\n",
       "    </tr>\n",
       "    <tr>\n",
       "      <th>2</th>\n",
       "      <td>3</td>\n",
       "      <td>15619304</td>\n",
       "      <td>Onio</td>\n",
       "      <td>502</td>\n",
       "      <td>France</td>\n",
       "      <td>Female</td>\n",
       "      <td>42</td>\n",
       "      <td>8</td>\n",
       "      <td>159660.80</td>\n",
       "      <td>3</td>\n",
       "      <td>1</td>\n",
       "      <td>0</td>\n",
       "      <td>113931.57</td>\n",
       "      <td>1</td>\n",
       "    </tr>\n",
       "    <tr>\n",
       "      <th>3</th>\n",
       "      <td>4</td>\n",
       "      <td>15701354</td>\n",
       "      <td>Boni</td>\n",
       "      <td>699</td>\n",
       "      <td>France</td>\n",
       "      <td>Female</td>\n",
       "      <td>39</td>\n",
       "      <td>1</td>\n",
       "      <td>0.00</td>\n",
       "      <td>2</td>\n",
       "      <td>0</td>\n",
       "      <td>0</td>\n",
       "      <td>93826.63</td>\n",
       "      <td>0</td>\n",
       "    </tr>\n",
       "    <tr>\n",
       "      <th>4</th>\n",
       "      <td>5</td>\n",
       "      <td>15737888</td>\n",
       "      <td>Mitchell</td>\n",
       "      <td>850</td>\n",
       "      <td>Spain</td>\n",
       "      <td>Female</td>\n",
       "      <td>43</td>\n",
       "      <td>2</td>\n",
       "      <td>125510.82</td>\n",
       "      <td>1</td>\n",
       "      <td>1</td>\n",
       "      <td>1</td>\n",
       "      <td>79084.10</td>\n",
       "      <td>0</td>\n",
       "    </tr>\n",
       "  </tbody>\n",
       "</table>\n",
       "</div>"
      ],
      "text/plain": [
       "   RowNumber  CustomerId   Surname  CreditScore Geography  Gender  Age  \\\n",
       "0          1    15634602  Hargrave          619    France  Female   42   \n",
       "1          2    15647311      Hill          608     Spain  Female   41   \n",
       "2          3    15619304      Onio          502    France  Female   42   \n",
       "3          4    15701354      Boni          699    France  Female   39   \n",
       "4          5    15737888  Mitchell          850     Spain  Female   43   \n",
       "\n",
       "   Tenure    Balance  NumOfProducts  HasCrCard  IsActiveMember  \\\n",
       "0       2       0.00              1          1               1   \n",
       "1       1   83807.86              1          0               1   \n",
       "2       8  159660.80              3          1               0   \n",
       "3       1       0.00              2          0               0   \n",
       "4       2  125510.82              1          1               1   \n",
       "\n",
       "   EstimatedSalary  Exited  \n",
       "0        101348.88       1  \n",
       "1        112542.58       0  \n",
       "2        113931.57       1  \n",
       "3         93826.63       0  \n",
       "4         79084.10       0  "
      ]
     },
     "execution_count": 2,
     "metadata": {},
     "output_type": "execute_result"
    }
   ],
   "source": [
    "df=pd.read_csv('Churn_Modelling.csv')\n",
    "df.head()"
   ]
  },
  {
   "cell_type": "markdown",
   "id": "c8c450be",
   "metadata": {},
   "source": [
    "### EDA steps"
   ]
  },
  {
   "cell_type": "code",
   "execution_count": 3,
   "id": "cb0c97d9",
   "metadata": {},
   "outputs": [
    {
     "data": {
      "text/plain": [
       "(10000, 14)"
      ]
     },
     "execution_count": 3,
     "metadata": {},
     "output_type": "execute_result"
    }
   ],
   "source": [
    "df.shape"
   ]
  },
  {
   "cell_type": "code",
   "execution_count": 4,
   "id": "3992a1d0",
   "metadata": {},
   "outputs": [
    {
     "name": "stdout",
     "output_type": "stream",
     "text": [
      "<class 'pandas.core.frame.DataFrame'>\n",
      "RangeIndex: 10000 entries, 0 to 9999\n",
      "Data columns (total 14 columns):\n",
      " #   Column           Non-Null Count  Dtype  \n",
      "---  ------           --------------  -----  \n",
      " 0   RowNumber        10000 non-null  int64  \n",
      " 1   CustomerId       10000 non-null  int64  \n",
      " 2   Surname          10000 non-null  object \n",
      " 3   CreditScore      10000 non-null  int64  \n",
      " 4   Geography        10000 non-null  object \n",
      " 5   Gender           10000 non-null  object \n",
      " 6   Age              10000 non-null  int64  \n",
      " 7   Tenure           10000 non-null  int64  \n",
      " 8   Balance          10000 non-null  float64\n",
      " 9   NumOfProducts    10000 non-null  int64  \n",
      " 10  HasCrCard        10000 non-null  int64  \n",
      " 11  IsActiveMember   10000 non-null  int64  \n",
      " 12  EstimatedSalary  10000 non-null  float64\n",
      " 13  Exited           10000 non-null  int64  \n",
      "dtypes: float64(2), int64(9), object(3)\n",
      "memory usage: 1.1+ MB\n"
     ]
    }
   ],
   "source": [
    "df.info()"
   ]
  },
  {
   "cell_type": "code",
   "execution_count": 5,
   "id": "a06964a2",
   "metadata": {},
   "outputs": [
    {
     "data": {
      "text/html": [
       "<div>\n",
       "<style scoped>\n",
       "    .dataframe tbody tr th:only-of-type {\n",
       "        vertical-align: middle;\n",
       "    }\n",
       "\n",
       "    .dataframe tbody tr th {\n",
       "        vertical-align: top;\n",
       "    }\n",
       "\n",
       "    .dataframe thead th {\n",
       "        text-align: right;\n",
       "    }\n",
       "</style>\n",
       "<table border=\"1\" class=\"dataframe\">\n",
       "  <thead>\n",
       "    <tr style=\"text-align: right;\">\n",
       "      <th></th>\n",
       "      <th>RowNumber</th>\n",
       "      <th>CustomerId</th>\n",
       "      <th>CreditScore</th>\n",
       "      <th>Age</th>\n",
       "      <th>Tenure</th>\n",
       "      <th>Balance</th>\n",
       "      <th>NumOfProducts</th>\n",
       "      <th>HasCrCard</th>\n",
       "      <th>IsActiveMember</th>\n",
       "      <th>EstimatedSalary</th>\n",
       "      <th>Exited</th>\n",
       "    </tr>\n",
       "  </thead>\n",
       "  <tbody>\n",
       "    <tr>\n",
       "      <th>count</th>\n",
       "      <td>10000.00000</td>\n",
       "      <td>1.000000e+04</td>\n",
       "      <td>10000.000000</td>\n",
       "      <td>10000.000000</td>\n",
       "      <td>10000.000000</td>\n",
       "      <td>10000.000000</td>\n",
       "      <td>10000.000000</td>\n",
       "      <td>10000.00000</td>\n",
       "      <td>10000.000000</td>\n",
       "      <td>10000.000000</td>\n",
       "      <td>10000.000000</td>\n",
       "    </tr>\n",
       "    <tr>\n",
       "      <th>mean</th>\n",
       "      <td>5000.50000</td>\n",
       "      <td>1.569094e+07</td>\n",
       "      <td>650.528800</td>\n",
       "      <td>38.921800</td>\n",
       "      <td>5.012800</td>\n",
       "      <td>76485.889288</td>\n",
       "      <td>1.530200</td>\n",
       "      <td>0.70550</td>\n",
       "      <td>0.515100</td>\n",
       "      <td>100090.239881</td>\n",
       "      <td>0.203700</td>\n",
       "    </tr>\n",
       "    <tr>\n",
       "      <th>std</th>\n",
       "      <td>2886.89568</td>\n",
       "      <td>7.193619e+04</td>\n",
       "      <td>96.653299</td>\n",
       "      <td>10.487806</td>\n",
       "      <td>2.892174</td>\n",
       "      <td>62397.405202</td>\n",
       "      <td>0.581654</td>\n",
       "      <td>0.45584</td>\n",
       "      <td>0.499797</td>\n",
       "      <td>57510.492818</td>\n",
       "      <td>0.402769</td>\n",
       "    </tr>\n",
       "    <tr>\n",
       "      <th>min</th>\n",
       "      <td>1.00000</td>\n",
       "      <td>1.556570e+07</td>\n",
       "      <td>350.000000</td>\n",
       "      <td>18.000000</td>\n",
       "      <td>0.000000</td>\n",
       "      <td>0.000000</td>\n",
       "      <td>1.000000</td>\n",
       "      <td>0.00000</td>\n",
       "      <td>0.000000</td>\n",
       "      <td>11.580000</td>\n",
       "      <td>0.000000</td>\n",
       "    </tr>\n",
       "    <tr>\n",
       "      <th>25%</th>\n",
       "      <td>2500.75000</td>\n",
       "      <td>1.562853e+07</td>\n",
       "      <td>584.000000</td>\n",
       "      <td>32.000000</td>\n",
       "      <td>3.000000</td>\n",
       "      <td>0.000000</td>\n",
       "      <td>1.000000</td>\n",
       "      <td>0.00000</td>\n",
       "      <td>0.000000</td>\n",
       "      <td>51002.110000</td>\n",
       "      <td>0.000000</td>\n",
       "    </tr>\n",
       "    <tr>\n",
       "      <th>50%</th>\n",
       "      <td>5000.50000</td>\n",
       "      <td>1.569074e+07</td>\n",
       "      <td>652.000000</td>\n",
       "      <td>37.000000</td>\n",
       "      <td>5.000000</td>\n",
       "      <td>97198.540000</td>\n",
       "      <td>1.000000</td>\n",
       "      <td>1.00000</td>\n",
       "      <td>1.000000</td>\n",
       "      <td>100193.915000</td>\n",
       "      <td>0.000000</td>\n",
       "    </tr>\n",
       "    <tr>\n",
       "      <th>75%</th>\n",
       "      <td>7500.25000</td>\n",
       "      <td>1.575323e+07</td>\n",
       "      <td>718.000000</td>\n",
       "      <td>44.000000</td>\n",
       "      <td>7.000000</td>\n",
       "      <td>127644.240000</td>\n",
       "      <td>2.000000</td>\n",
       "      <td>1.00000</td>\n",
       "      <td>1.000000</td>\n",
       "      <td>149388.247500</td>\n",
       "      <td>0.000000</td>\n",
       "    </tr>\n",
       "    <tr>\n",
       "      <th>max</th>\n",
       "      <td>10000.00000</td>\n",
       "      <td>1.581569e+07</td>\n",
       "      <td>850.000000</td>\n",
       "      <td>92.000000</td>\n",
       "      <td>10.000000</td>\n",
       "      <td>250898.090000</td>\n",
       "      <td>4.000000</td>\n",
       "      <td>1.00000</td>\n",
       "      <td>1.000000</td>\n",
       "      <td>199992.480000</td>\n",
       "      <td>1.000000</td>\n",
       "    </tr>\n",
       "  </tbody>\n",
       "</table>\n",
       "</div>"
      ],
      "text/plain": [
       "         RowNumber    CustomerId   CreditScore           Age        Tenure  \\\n",
       "count  10000.00000  1.000000e+04  10000.000000  10000.000000  10000.000000   \n",
       "mean    5000.50000  1.569094e+07    650.528800     38.921800      5.012800   \n",
       "std     2886.89568  7.193619e+04     96.653299     10.487806      2.892174   \n",
       "min        1.00000  1.556570e+07    350.000000     18.000000      0.000000   \n",
       "25%     2500.75000  1.562853e+07    584.000000     32.000000      3.000000   \n",
       "50%     5000.50000  1.569074e+07    652.000000     37.000000      5.000000   \n",
       "75%     7500.25000  1.575323e+07    718.000000     44.000000      7.000000   \n",
       "max    10000.00000  1.581569e+07    850.000000     92.000000     10.000000   \n",
       "\n",
       "             Balance  NumOfProducts    HasCrCard  IsActiveMember  \\\n",
       "count   10000.000000   10000.000000  10000.00000    10000.000000   \n",
       "mean    76485.889288       1.530200      0.70550        0.515100   \n",
       "std     62397.405202       0.581654      0.45584        0.499797   \n",
       "min         0.000000       1.000000      0.00000        0.000000   \n",
       "25%         0.000000       1.000000      0.00000        0.000000   \n",
       "50%     97198.540000       1.000000      1.00000        1.000000   \n",
       "75%    127644.240000       2.000000      1.00000        1.000000   \n",
       "max    250898.090000       4.000000      1.00000        1.000000   \n",
       "\n",
       "       EstimatedSalary        Exited  \n",
       "count     10000.000000  10000.000000  \n",
       "mean     100090.239881      0.203700  \n",
       "std       57510.492818      0.402769  \n",
       "min          11.580000      0.000000  \n",
       "25%       51002.110000      0.000000  \n",
       "50%      100193.915000      0.000000  \n",
       "75%      149388.247500      0.000000  \n",
       "max      199992.480000      1.000000  "
      ]
     },
     "execution_count": 5,
     "metadata": {},
     "output_type": "execute_result"
    }
   ],
   "source": [
    "df.describe()"
   ]
  },
  {
   "cell_type": "code",
   "execution_count": 6,
   "id": "c608fcd5",
   "metadata": {},
   "outputs": [
    {
     "data": {
      "text/html": [
       "<div>\n",
       "<style scoped>\n",
       "    .dataframe tbody tr th:only-of-type {\n",
       "        vertical-align: middle;\n",
       "    }\n",
       "\n",
       "    .dataframe tbody tr th {\n",
       "        vertical-align: top;\n",
       "    }\n",
       "\n",
       "    .dataframe thead th {\n",
       "        text-align: right;\n",
       "    }\n",
       "</style>\n",
       "<table border=\"1\" class=\"dataframe\">\n",
       "  <thead>\n",
       "    <tr style=\"text-align: right;\">\n",
       "      <th></th>\n",
       "      <th>Surname</th>\n",
       "      <th>Geography</th>\n",
       "      <th>Gender</th>\n",
       "    </tr>\n",
       "  </thead>\n",
       "  <tbody>\n",
       "    <tr>\n",
       "      <th>count</th>\n",
       "      <td>10000</td>\n",
       "      <td>10000</td>\n",
       "      <td>10000</td>\n",
       "    </tr>\n",
       "    <tr>\n",
       "      <th>unique</th>\n",
       "      <td>2932</td>\n",
       "      <td>3</td>\n",
       "      <td>2</td>\n",
       "    </tr>\n",
       "    <tr>\n",
       "      <th>top</th>\n",
       "      <td>Smith</td>\n",
       "      <td>France</td>\n",
       "      <td>Male</td>\n",
       "    </tr>\n",
       "    <tr>\n",
       "      <th>freq</th>\n",
       "      <td>32</td>\n",
       "      <td>5014</td>\n",
       "      <td>5457</td>\n",
       "    </tr>\n",
       "  </tbody>\n",
       "</table>\n",
       "</div>"
      ],
      "text/plain": [
       "       Surname Geography Gender\n",
       "count    10000     10000  10000\n",
       "unique    2932         3      2\n",
       "top      Smith    France   Male\n",
       "freq        32      5014   5457"
      ]
     },
     "execution_count": 6,
     "metadata": {},
     "output_type": "execute_result"
    }
   ],
   "source": [
    "df.describe(include=object)"
   ]
  },
  {
   "cell_type": "code",
   "execution_count": 7,
   "id": "e4f76888",
   "metadata": {},
   "outputs": [
    {
     "data": {
      "text/plain": [
       "RowNumber          0\n",
       "CustomerId         0\n",
       "Surname            0\n",
       "CreditScore        0\n",
       "Geography          0\n",
       "Gender             0\n",
       "Age                0\n",
       "Tenure             0\n",
       "Balance            0\n",
       "NumOfProducts      0\n",
       "HasCrCard          0\n",
       "IsActiveMember     0\n",
       "EstimatedSalary    0\n",
       "Exited             0\n",
       "dtype: int64"
      ]
     },
     "execution_count": 7,
     "metadata": {},
     "output_type": "execute_result"
    }
   ],
   "source": [
    "df.isnull().sum()"
   ]
  },
  {
   "cell_type": "code",
   "execution_count": 8,
   "id": "d1c3fb94",
   "metadata": {},
   "outputs": [
    {
     "data": {
      "text/plain": [
       "0    7963\n",
       "1    2037\n",
       "Name: Exited, dtype: int64"
      ]
     },
     "execution_count": 8,
     "metadata": {},
     "output_type": "execute_result"
    }
   ],
   "source": [
    "df['Exited'].value_counts()"
   ]
  },
  {
   "cell_type": "code",
   "execution_count": 9,
   "id": "9bec62e9",
   "metadata": {},
   "outputs": [
    {
     "name": "stdout",
     "output_type": "stream",
     "text": [
      "Dataframe dimensions: (10000, 11)\n"
     ]
    },
    {
     "data": {
      "text/html": [
       "<div>\n",
       "<style scoped>\n",
       "    .dataframe tbody tr th:only-of-type {\n",
       "        vertical-align: middle;\n",
       "    }\n",
       "\n",
       "    .dataframe tbody tr th {\n",
       "        vertical-align: top;\n",
       "    }\n",
       "\n",
       "    .dataframe thead th {\n",
       "        text-align: right;\n",
       "    }\n",
       "</style>\n",
       "<table border=\"1\" class=\"dataframe\">\n",
       "  <thead>\n",
       "    <tr style=\"text-align: right;\">\n",
       "      <th></th>\n",
       "      <th>CreditScore</th>\n",
       "      <th>Geography</th>\n",
       "      <th>Gender</th>\n",
       "      <th>Age</th>\n",
       "      <th>Tenure</th>\n",
       "      <th>Balance</th>\n",
       "      <th>NumOfProducts</th>\n",
       "      <th>HasCrCard</th>\n",
       "      <th>IsActiveMember</th>\n",
       "      <th>EstimatedSalary</th>\n",
       "      <th>Exited</th>\n",
       "    </tr>\n",
       "  </thead>\n",
       "  <tbody>\n",
       "    <tr>\n",
       "      <th>0</th>\n",
       "      <td>619</td>\n",
       "      <td>France</td>\n",
       "      <td>Female</td>\n",
       "      <td>42</td>\n",
       "      <td>2</td>\n",
       "      <td>0.00</td>\n",
       "      <td>1</td>\n",
       "      <td>1</td>\n",
       "      <td>1</td>\n",
       "      <td>101348.88</td>\n",
       "      <td>1</td>\n",
       "    </tr>\n",
       "    <tr>\n",
       "      <th>1</th>\n",
       "      <td>608</td>\n",
       "      <td>Spain</td>\n",
       "      <td>Female</td>\n",
       "      <td>41</td>\n",
       "      <td>1</td>\n",
       "      <td>83807.86</td>\n",
       "      <td>1</td>\n",
       "      <td>0</td>\n",
       "      <td>1</td>\n",
       "      <td>112542.58</td>\n",
       "      <td>0</td>\n",
       "    </tr>\n",
       "    <tr>\n",
       "      <th>2</th>\n",
       "      <td>502</td>\n",
       "      <td>France</td>\n",
       "      <td>Female</td>\n",
       "      <td>42</td>\n",
       "      <td>8</td>\n",
       "      <td>159660.80</td>\n",
       "      <td>3</td>\n",
       "      <td>1</td>\n",
       "      <td>0</td>\n",
       "      <td>113931.57</td>\n",
       "      <td>1</td>\n",
       "    </tr>\n",
       "    <tr>\n",
       "      <th>3</th>\n",
       "      <td>699</td>\n",
       "      <td>France</td>\n",
       "      <td>Female</td>\n",
       "      <td>39</td>\n",
       "      <td>1</td>\n",
       "      <td>0.00</td>\n",
       "      <td>2</td>\n",
       "      <td>0</td>\n",
       "      <td>0</td>\n",
       "      <td>93826.63</td>\n",
       "      <td>0</td>\n",
       "    </tr>\n",
       "    <tr>\n",
       "      <th>4</th>\n",
       "      <td>850</td>\n",
       "      <td>Spain</td>\n",
       "      <td>Female</td>\n",
       "      <td>43</td>\n",
       "      <td>2</td>\n",
       "      <td>125510.82</td>\n",
       "      <td>1</td>\n",
       "      <td>1</td>\n",
       "      <td>1</td>\n",
       "      <td>79084.10</td>\n",
       "      <td>0</td>\n",
       "    </tr>\n",
       "  </tbody>\n",
       "</table>\n",
       "</div>"
      ],
      "text/plain": [
       "   CreditScore Geography  Gender  Age  Tenure    Balance  NumOfProducts  \\\n",
       "0          619    France  Female   42       2       0.00              1   \n",
       "1          608     Spain  Female   41       1   83807.86              1   \n",
       "2          502    France  Female   42       8  159660.80              3   \n",
       "3          699    France  Female   39       1       0.00              2   \n",
       "4          850     Spain  Female   43       2  125510.82              1   \n",
       "\n",
       "   HasCrCard  IsActiveMember  EstimatedSalary  Exited  \n",
       "0          1               1        101348.88       1  \n",
       "1          0               1        112542.58       0  \n",
       "2          1               0        113931.57       1  \n",
       "3          0               0         93826.63       0  \n",
       "4          1               1         79084.10       0  "
      ]
     },
     "execution_count": 9,
     "metadata": {},
     "output_type": "execute_result"
    }
   ],
   "source": [
    "df.drop(['RowNumber', 'CustomerId', 'Surname'], axis=1, inplace=True)\n",
    "print(f\"Dataframe dimensions: {df.shape}\")\n",
    "df.head()"
   ]
  },
  {
   "cell_type": "code",
   "execution_count": 10,
   "id": "3ec8731f",
   "metadata": {},
   "outputs": [
    {
     "data": {
      "image/png": "[encoded data removed]",
      "text/plain": [
       "<Figure size 1008x1008 with 9 Axes>"
      ]
     },
     "metadata": {
      "needs_background": "light"
     },
     "output_type": "display_data"
    }
   ],
   "source": [
    "df.hist(figsize=(14,14))\n",
    "\n",
    "plt.show()"
   ]
  },
  {
   "cell_type": "code",
   "execution_count": 11,
   "id": "2cc890bb",
   "metadata": {},
   "outputs": [
    {
     "data": {
      "text/html": [
       "<div>\n",
       "<style scoped>\n",
       "    .dataframe tbody tr th:only-of-type {\n",
       "        vertical-align: middle;\n",
       "    }\n",
       "\n",
       "    .dataframe tbody tr th {\n",
       "        vertical-align: top;\n",
       "    }\n",
       "\n",
       "    .dataframe thead th {\n",
       "        text-align: right;\n",
       "    }\n",
       "</style>\n",
       "<table border=\"1\" class=\"dataframe\">\n",
       "  <thead>\n",
       "    <tr style=\"text-align: right;\">\n",
       "      <th></th>\n",
       "      <th></th>\n",
       "      <th>Count</th>\n",
       "    </tr>\n",
       "    <tr>\n",
       "      <th>Gender</th>\n",
       "      <th>Exited</th>\n",
       "      <th></th>\n",
       "    </tr>\n",
       "  </thead>\n",
       "  <tbody>\n",
       "    <tr>\n",
       "      <th rowspan=\"2\" valign=\"top\">Female</th>\n",
       "      <th>0</th>\n",
       "      <td>3404</td>\n",
       "    </tr>\n",
       "    <tr>\n",
       "      <th>1</th>\n",
       "      <td>1139</td>\n",
       "    </tr>\n",
       "    <tr>\n",
       "      <th rowspan=\"2\" valign=\"top\">Male</th>\n",
       "      <th>0</th>\n",
       "      <td>4559</td>\n",
       "    </tr>\n",
       "    <tr>\n",
       "      <th>1</th>\n",
       "      <td>898</td>\n",
       "    </tr>\n",
       "  </tbody>\n",
       "</table>\n",
       "</div>"
      ],
      "text/plain": [
       "               Count\n",
       "Gender Exited       \n",
       "Female 0        3404\n",
       "       1        1139\n",
       "Male   0        4559\n",
       "       1         898"
      ]
     },
     "execution_count": 11,
     "metadata": {},
     "output_type": "execute_result"
    }
   ],
   "source": [
    "grouped = df.groupby('Gender')['Exited'].agg(Count='value_counts')\n",
    "grouped"
   ]
  },
  {
   "cell_type": "code",
   "execution_count": 12,
   "id": "9cdd9570",
   "metadata": {},
   "outputs": [
    {
     "data": {
      "text/html": [
       "<div>\n",
       "<style scoped>\n",
       "    .dataframe tbody tr th:only-of-type {\n",
       "        vertical-align: middle;\n",
       "    }\n",
       "\n",
       "    .dataframe tbody tr th {\n",
       "        vertical-align: top;\n",
       "    }\n",
       "\n",
       "    .dataframe thead th {\n",
       "        text-align: right;\n",
       "    }\n",
       "</style>\n",
       "<table border=\"1\" class=\"dataframe\">\n",
       "  <thead>\n",
       "    <tr style=\"text-align: right;\">\n",
       "      <th>Exited</th>\n",
       "      <th>0</th>\n",
       "      <th>1</th>\n",
       "    </tr>\n",
       "    <tr>\n",
       "      <th>Gender</th>\n",
       "      <th></th>\n",
       "      <th></th>\n",
       "    </tr>\n",
       "  </thead>\n",
       "  <tbody>\n",
       "    <tr>\n",
       "      <th>Female</th>\n",
       "      <td>3404</td>\n",
       "      <td>1139</td>\n",
       "    </tr>\n",
       "    <tr>\n",
       "      <th>Male</th>\n",
       "      <td>4559</td>\n",
       "      <td>898</td>\n",
       "    </tr>\n",
       "  </tbody>\n",
       "</table>\n",
       "</div>"
      ],
      "text/plain": [
       "Exited     0     1\n",
       "Gender            \n",
       "Female  3404  1139\n",
       "Male    4559   898"
      ]
     },
     "execution_count": 12,
     "metadata": {},
     "output_type": "execute_result"
    }
   ],
   "source": [
    "dfgc = grouped\n",
    "dfgc = dfgc.pivot_table(values='Count', index='Gender', columns=['Exited'])\n",
    "dfgc"
   ]
  },
  {
   "cell_type": "code",
   "execution_count": 13,
   "id": "649940e5",
   "metadata": {},
   "outputs": [
    {
     "data": {
      "text/html": [
       "<div>\n",
       "<style scoped>\n",
       "    .dataframe tbody tr th:only-of-type {\n",
       "        vertical-align: middle;\n",
       "    }\n",
       "\n",
       "    .dataframe tbody tr th {\n",
       "        vertical-align: top;\n",
       "    }\n",
       "\n",
       "    .dataframe thead th {\n",
       "        text-align: right;\n",
       "    }\n",
       "</style>\n",
       "<table border=\"1\" class=\"dataframe\">\n",
       "  <thead>\n",
       "    <tr style=\"text-align: right;\">\n",
       "      <th></th>\n",
       "      <th></th>\n",
       "      <th>Percentage</th>\n",
       "    </tr>\n",
       "    <tr>\n",
       "      <th>Gender</th>\n",
       "      <th>Exited</th>\n",
       "      <th></th>\n",
       "    </tr>\n",
       "  </thead>\n",
       "  <tbody>\n",
       "    <tr>\n",
       "      <th rowspan=\"2\" valign=\"top\">Female</th>\n",
       "      <th>0</th>\n",
       "      <td>74.93</td>\n",
       "    </tr>\n",
       "    <tr>\n",
       "      <th>1</th>\n",
       "      <td>25.07</td>\n",
       "    </tr>\n",
       "    <tr>\n",
       "      <th rowspan=\"2\" valign=\"top\">Male</th>\n",
       "      <th>0</th>\n",
       "      <td>83.54</td>\n",
       "    </tr>\n",
       "    <tr>\n",
       "      <th>1</th>\n",
       "      <td>16.46</td>\n",
       "    </tr>\n",
       "  </tbody>\n",
       "</table>\n",
       "</div>"
      ],
      "text/plain": [
       "               Percentage\n",
       "Gender Exited            \n",
       "Female 0            74.93\n",
       "       1            25.07\n",
       "Male   0            83.54\n",
       "       1            16.46"
      ]
     },
     "execution_count": 13,
     "metadata": {},
     "output_type": "execute_result"
    }
   ],
   "source": [
    "dfgp = grouped.groupby(level=[0]).apply(lambda g: round(g * 100 / g.sum(), 2))\n",
    "dfgp.rename(columns={'Count': 'Percentage'}, inplace=True)\n",
    "dfgp"
   ]
  },
  {
   "cell_type": "code",
   "execution_count": 14,
   "id": "00eb53fd",
   "metadata": {},
   "outputs": [
    {
     "data": {
      "image/png": "[encoded data removed]",
      "text/plain": [
       "<Figure size 864x288 with 2 Axes>"
      ]
     },
     "metadata": {
      "needs_background": "light"
     },
     "output_type": "display_data"
    }
   ],
   "source": [
    "labels= ['Stays', 'Exits']\n",
    "\n",
    "fig, (ax1, ax2) = plt.subplots(1, 2, figsize=(12, 4))\n",
    "\n",
    "dfgc.plot(kind='bar',\n",
    "          color=['g', 'r'],\n",
    "          rot=0, \n",
    "          ax=ax1)\n",
    "ax1.legend(labels)\n",
    "ax1.set_title('Churn Risk per Gender (Count)', fontsize=14, pad=10)\n",
    "ax1.set_ylabel('Count',size=12)\n",
    "ax1.set_xlabel('Gender', size=12)\n",
    "\n",
    "\n",
    "dfgp.plot(kind='bar',\n",
    "          color=['g', 'r'],\n",
    "          rot=0, \n",
    "          ax=ax2)\n",
    "ax2.legend(labels)\n",
    "ax2.set_title('Churn Risk per Gender (Percentage)', fontsize=14, pad=10)\n",
    "ax2.set_ylabel('Percentage',size=12)\n",
    "ax2.set_xlabel('Gender', size=12)\n",
    "\n",
    "plt.show()"
   ]
  },
  {
   "cell_type": "code",
   "execution_count": 15,
   "id": "d5ddfa7b",
   "metadata": {},
   "outputs": [
    {
     "data": {
      "text/html": [
       "<div>\n",
       "<style scoped>\n",
       "    .dataframe tbody tr th:only-of-type {\n",
       "        vertical-align: middle;\n",
       "    }\n",
       "\n",
       "    .dataframe tbody tr th {\n",
       "        vertical-align: top;\n",
       "    }\n",
       "\n",
       "    .dataframe thead th {\n",
       "        text-align: right;\n",
       "    }\n",
       "</style>\n",
       "<table border=\"1\" class=\"dataframe\">\n",
       "  <thead>\n",
       "    <tr style=\"text-align: right;\">\n",
       "      <th>Exited</th>\n",
       "      <th>0</th>\n",
       "      <th>1</th>\n",
       "    </tr>\n",
       "    <tr>\n",
       "      <th>Geography</th>\n",
       "      <th></th>\n",
       "      <th></th>\n",
       "    </tr>\n",
       "  </thead>\n",
       "  <tbody>\n",
       "    <tr>\n",
       "      <th>France</th>\n",
       "      <td>4204</td>\n",
       "      <td>810</td>\n",
       "    </tr>\n",
       "    <tr>\n",
       "      <th>Germany</th>\n",
       "      <td>1695</td>\n",
       "      <td>814</td>\n",
       "    </tr>\n",
       "    <tr>\n",
       "      <th>Spain</th>\n",
       "      <td>2064</td>\n",
       "      <td>413</td>\n",
       "    </tr>\n",
       "  </tbody>\n",
       "</table>\n",
       "</div>"
      ],
      "text/plain": [
       "Exited        0    1\n",
       "Geography           \n",
       "France     4204  810\n",
       "Germany    1695  814\n",
       "Spain      2064  413"
      ]
     },
     "execution_count": 15,
     "metadata": {},
     "output_type": "execute_result"
    }
   ],
   "source": [
    "dfgeoc = df.groupby('Geography')['Exited'].agg(Count='value_counts')\n",
    "dfgeoc = dfgeoc.pivot_table(values='Count', index='Geography', columns=['Exited'])\n",
    "dfgeoc"
   ]
  },
  {
   "cell_type": "code",
   "execution_count": 16,
   "id": "4d3540a5",
   "metadata": {},
   "outputs": [
    {
     "data": {
      "text/html": [
       "<div>\n",
       "<style scoped>\n",
       "    .dataframe tbody tr th:only-of-type {\n",
       "        vertical-align: middle;\n",
       "    }\n",
       "\n",
       "    .dataframe tbody tr th {\n",
       "        vertical-align: top;\n",
       "    }\n",
       "\n",
       "    .dataframe thead th {\n",
       "        text-align: right;\n",
       "    }\n",
       "</style>\n",
       "<table border=\"1\" class=\"dataframe\">\n",
       "  <thead>\n",
       "    <tr style=\"text-align: right;\">\n",
       "      <th></th>\n",
       "      <th></th>\n",
       "      <th>Percentage</th>\n",
       "    </tr>\n",
       "    <tr>\n",
       "      <th>Gender</th>\n",
       "      <th>Exited</th>\n",
       "      <th></th>\n",
       "    </tr>\n",
       "  </thead>\n",
       "  <tbody>\n",
       "    <tr>\n",
       "      <th rowspan=\"2\" valign=\"top\">Female</th>\n",
       "      <th>0</th>\n",
       "      <td>74.93</td>\n",
       "    </tr>\n",
       "    <tr>\n",
       "      <th>1</th>\n",
       "      <td>25.07</td>\n",
       "    </tr>\n",
       "    <tr>\n",
       "      <th rowspan=\"2\" valign=\"top\">Male</th>\n",
       "      <th>0</th>\n",
       "      <td>83.54</td>\n",
       "    </tr>\n",
       "    <tr>\n",
       "      <th>1</th>\n",
       "      <td>16.46</td>\n",
       "    </tr>\n",
       "  </tbody>\n",
       "</table>\n",
       "</div>"
      ],
      "text/plain": [
       "               Percentage\n",
       "Gender Exited            \n",
       "Female 0            74.93\n",
       "       1            25.07\n",
       "Male   0            83.54\n",
       "       1            16.46"
      ]
     },
     "execution_count": 16,
     "metadata": {},
     "output_type": "execute_result"
    }
   ],
   "source": [
    "dfgeop = grouped.groupby(level=[0]).apply(lambda g: round(g * 100 / g.sum(), 2))\n",
    "dfgeop.rename(columns={'Count': 'Percentage'}, inplace=True)\n",
    "dfgeop"
   ]
  },
  {
   "cell_type": "code",
   "execution_count": 17,
   "id": "8c4c3ee1",
   "metadata": {},
   "outputs": [
    {
     "data": {
      "image/png": "[encoded data removed]",
      "text/plain": [
       "<Figure size 864x288 with 2 Axes>"
      ]
     },
     "metadata": {
      "needs_background": "light"
     },
     "output_type": "display_data"
    }
   ],
   "source": [
    "labels= ['Stays', 'Exits']\n",
    "\n",
    "fig, (ax1, ax2) = plt.subplots(1, 2, figsize=(12, 4))\n",
    "\n",
    "dfgeoc.plot(kind='bar',\n",
    "          color=['g', 'r'],\n",
    "          rot=0, \n",
    "          ax=ax1)\n",
    "ax1.legend(labels)\n",
    "ax1.set_title('Churn Risk per Geography (Count)', fontsize=14, pad=10)\n",
    "ax1.set_ylabel('Count',size=12)\n",
    "ax1.set_xlabel('Geography', size=12)\n",
    "\n",
    "\n",
    "dfgeop.plot(kind='bar',\n",
    "          color=['g', 'r'],\n",
    "          rot=0, \n",
    "          ax=ax2)\n",
    "ax2.legend(labels)\n",
    "ax2.set_title('Churn Risk per Geography (Percentage)', fontsize=14, pad=10)\n",
    "ax2.set_ylabel('Percentage',size=12)\n",
    "ax2.set_xlabel('Geography', size=12)\n",
    "\n",
    "plt.show()"
   ]
  },
  {
   "cell_type": "code",
   "execution_count": 18,
   "id": "dde7610e",
   "metadata": {},
   "outputs": [
    {
     "data": {
      "text/plain": [
       "<seaborn.axisgrid.FacetGrid at 0x23105f71600>"
      ]
     },
     "execution_count": 18,
     "metadata": {},
     "output_type": "execute_result"
    },
    {
     "data": {
      "image/png": "[encoded data removed]",
      "text/plain": [
       "<Figure size 360x360 with 1 Axes>"
      ]
     },
     "metadata": {
      "needs_background": "light"
     },
     "output_type": "display_data"
    }
   ],
   "source": [
    "sns.catplot(x='Exited',data=df, kind='count')"
   ]
  },
  {
   "cell_type": "markdown",
   "id": "c99f112a",
   "metadata": {},
   "source": [
    "## Preprocessing Steps"
   ]
  },
  {
   "cell_type": "markdown",
   "id": "81aa0df5",
   "metadata": {},
   "source": [
    "### Separate the dataset into independent and dependent variables"
   ]
  },
  {
   "cell_type": "code",
   "execution_count": 19,
   "id": "ac5013df",
   "metadata": {},
   "outputs": [
    {
     "name": "stdout",
     "output_type": "stream",
     "text": [
      "(10000, 10) (10000,)\n"
     ]
    }
   ],
   "source": [
    "y = df.Exited\n",
    "X = df.drop(['Exited'], axis=1)\n",
    "\n",
    "print(X.shape, y.shape)"
   ]
  },
  {
   "cell_type": "markdown",
   "id": "d2e42312",
   "metadata": {},
   "source": [
    "### Encoding Categorical data"
   ]
  },
  {
   "cell_type": "code",
   "execution_count": 20,
   "id": "9b74df71",
   "metadata": {},
   "outputs": [
    {
     "data": {
      "text/html": [
       "<div>\n",
       "<style scoped>\n",
       "    .dataframe tbody tr th:only-of-type {\n",
       "        vertical-align: middle;\n",
       "    }\n",
       "\n",
       "    .dataframe tbody tr th {\n",
       "        vertical-align: top;\n",
       "    }\n",
       "\n",
       "    .dataframe thead th {\n",
       "        text-align: right;\n",
       "    }\n",
       "</style>\n",
       "<table border=\"1\" class=\"dataframe\">\n",
       "  <thead>\n",
       "    <tr style=\"text-align: right;\">\n",
       "      <th></th>\n",
       "      <th>CreditScore</th>\n",
       "      <th>Geography</th>\n",
       "      <th>Gender</th>\n",
       "      <th>Age</th>\n",
       "      <th>Tenure</th>\n",
       "      <th>Balance</th>\n",
       "      <th>NumOfProducts</th>\n",
       "      <th>HasCrCard</th>\n",
       "      <th>IsActiveMember</th>\n",
       "      <th>EstimatedSalary</th>\n",
       "    </tr>\n",
       "  </thead>\n",
       "  <tbody>\n",
       "    <tr>\n",
       "      <th>5060</th>\n",
       "      <td>577</td>\n",
       "      <td>France</td>\n",
       "      <td>0</td>\n",
       "      <td>35</td>\n",
       "      <td>4</td>\n",
       "      <td>108155.49</td>\n",
       "      <td>1</td>\n",
       "      <td>1</td>\n",
       "      <td>0</td>\n",
       "      <td>105407.79</td>\n",
       "    </tr>\n",
       "    <tr>\n",
       "      <th>9316</th>\n",
       "      <td>550</td>\n",
       "      <td>Germany</td>\n",
       "      <td>1</td>\n",
       "      <td>49</td>\n",
       "      <td>0</td>\n",
       "      <td>108806.96</td>\n",
       "      <td>3</td>\n",
       "      <td>1</td>\n",
       "      <td>0</td>\n",
       "      <td>61446.92</td>\n",
       "    </tr>\n",
       "    <tr>\n",
       "      <th>6634</th>\n",
       "      <td>480</td>\n",
       "      <td>France</td>\n",
       "      <td>0</td>\n",
       "      <td>42</td>\n",
       "      <td>1</td>\n",
       "      <td>152160.21</td>\n",
       "      <td>2</td>\n",
       "      <td>1</td>\n",
       "      <td>0</td>\n",
       "      <td>101778.90</td>\n",
       "    </tr>\n",
       "    <tr>\n",
       "      <th>3971</th>\n",
       "      <td>685</td>\n",
       "      <td>Spain</td>\n",
       "      <td>1</td>\n",
       "      <td>40</td>\n",
       "      <td>7</td>\n",
       "      <td>74896.92</td>\n",
       "      <td>1</td>\n",
       "      <td>1</td>\n",
       "      <td>0</td>\n",
       "      <td>198694.20</td>\n",
       "    </tr>\n",
       "    <tr>\n",
       "      <th>6829</th>\n",
       "      <td>735</td>\n",
       "      <td>France</td>\n",
       "      <td>1</td>\n",
       "      <td>43</td>\n",
       "      <td>9</td>\n",
       "      <td>127806.91</td>\n",
       "      <td>1</td>\n",
       "      <td>1</td>\n",
       "      <td>1</td>\n",
       "      <td>73069.59</td>\n",
       "    </tr>\n",
       "  </tbody>\n",
       "</table>\n",
       "</div>"
      ],
      "text/plain": [
       "      CreditScore Geography  Gender  Age  Tenure    Balance  NumOfProducts  \\\n",
       "5060          577    France       0   35       4  108155.49              1   \n",
       "9316          550   Germany       1   49       0  108806.96              3   \n",
       "6634          480    France       0   42       1  152160.21              2   \n",
       "3971          685     Spain       1   40       7   74896.92              1   \n",
       "6829          735    France       1   43       9  127806.91              1   \n",
       "\n",
       "      HasCrCard  IsActiveMember  EstimatedSalary  \n",
       "5060          1               0        105407.79  \n",
       "9316          1               0         61446.92  \n",
       "6634          1               0        101778.90  \n",
       "3971          1               0        198694.20  \n",
       "6829          1               1         73069.59  "
      ]
     },
     "execution_count": 20,
     "metadata": {},
     "output_type": "execute_result"
    }
   ],
   "source": [
    "dict={'Female':0,'Male':1}\n",
    "X['Gender'] = X['Gender'].map(dict)\n",
    "X.sample(5)"
   ]
  },
  {
   "cell_type": "code",
   "execution_count": 21,
   "id": "4fabed33",
   "metadata": {},
   "outputs": [],
   "source": [
    "from sklearn.compose import ColumnTransformer\n",
    "from sklearn.preprocessing import OneHotEncoder\n",
    "\n",
    "# ct= ColumnTransformer(transformers = [('encoder', OneHotEncoder(),[1])],remainder='passthrough')\n",
    "# X=np.array(ct.fit_transform(X))\n",
    "\n",
    "ct = ColumnTransformer(transformers=[('encoder', OneHotEncoder(), [1])], remainder='passthrough', sparse_threshold=0)\n",
    "X = ct.fit_transform(X)\n",
    "\n",
    "column_names = ct.get_feature_names_out()  # This will get the new column names after transformation\n",
    "X = pd.DataFrame(X, columns=column_names)"
   ]
  },
  {
   "cell_type": "code",
   "execution_count": 22,
   "id": "fc61e757",
   "metadata": {},
   "outputs": [
    {
     "name": "stdout",
     "output_type": "stream",
     "text": [
      "   encoder__Geography_France  encoder__Geography_Germany  \\\n",
      "0                        1.0                         0.0   \n",
      "1                        0.0                         0.0   \n",
      "2                        1.0                         0.0   \n",
      "3                        1.0                         0.0   \n",
      "4                        0.0                         0.0   \n",
      "\n",
      "   encoder__Geography_Spain  remainder__CreditScore  remainder__Gender  \\\n",
      "0                       0.0                   619.0                0.0   \n",
      "1                       1.0                   608.0                0.0   \n",
      "2                       0.0                   502.0                0.0   \n",
      "3                       0.0                   699.0                0.0   \n",
      "4                       1.0                   850.0                0.0   \n",
      "\n",
      "   remainder__Age  remainder__Tenure  remainder__Balance  \\\n",
      "0            42.0                2.0                0.00   \n",
      "1            41.0                1.0            83807.86   \n",
      "2            42.0                8.0           159660.80   \n",
      "3            39.0                1.0                0.00   \n",
      "4            43.0                2.0           125510.82   \n",
      "\n",
      "   remainder__NumOfProducts  remainder__HasCrCard  remainder__IsActiveMember  \\\n",
      "0                       1.0                   1.0                        1.0   \n",
      "1                       1.0                   0.0                        1.0   \n",
      "2                       3.0                   1.0                        0.0   \n",
      "3                       2.0                   0.0                        0.0   \n",
      "4                       1.0                   1.0                        1.0   \n",
      "\n",
      "   remainder__EstimatedSalary  \n",
      "0                   101348.88  \n",
      "1                   112542.58  \n",
      "2                   113931.57  \n",
      "3                    93826.63  \n",
      "4                    79084.10  \n"
     ]
    }
   ],
   "source": [
    "print(X.head())"
   ]
  },
  {
   "cell_type": "code",
   "execution_count": 23,
   "id": "b90f3da5",
   "metadata": {},
   "outputs": [
    {
     "data": {
      "text/html": [
       "<div>\n",
       "<style scoped>\n",
       "    .dataframe tbody tr th:only-of-type {\n",
       "        vertical-align: middle;\n",
       "    }\n",
       "\n",
       "    .dataframe tbody tr th {\n",
       "        vertical-align: top;\n",
       "    }\n",
       "\n",
       "    .dataframe thead th {\n",
       "        text-align: right;\n",
       "    }\n",
       "</style>\n",
       "<table border=\"1\" class=\"dataframe\">\n",
       "  <thead>\n",
       "    <tr style=\"text-align: right;\">\n",
       "      <th></th>\n",
       "      <th>encoder__Geography_France</th>\n",
       "      <th>encoder__Geography_Germany</th>\n",
       "      <th>encoder__Geography_Spain</th>\n",
       "      <th>remainder__CreditScore</th>\n",
       "      <th>remainder__Gender</th>\n",
       "      <th>remainder__Age</th>\n",
       "      <th>remainder__Tenure</th>\n",
       "      <th>remainder__Balance</th>\n",
       "      <th>remainder__NumOfProducts</th>\n",
       "      <th>remainder__HasCrCard</th>\n",
       "      <th>remainder__IsActiveMember</th>\n",
       "      <th>remainder__EstimatedSalary</th>\n",
       "    </tr>\n",
       "  </thead>\n",
       "  <tbody>\n",
       "    <tr>\n",
       "      <th>0</th>\n",
       "      <td>1.0</td>\n",
       "      <td>0.0</td>\n",
       "      <td>0.0</td>\n",
       "      <td>619.0</td>\n",
       "      <td>0.0</td>\n",
       "      <td>42.0</td>\n",
       "      <td>2.0</td>\n",
       "      <td>0.00</td>\n",
       "      <td>1.0</td>\n",
       "      <td>1.0</td>\n",
       "      <td>1.0</td>\n",
       "      <td>101348.88</td>\n",
       "    </tr>\n",
       "    <tr>\n",
       "      <th>1</th>\n",
       "      <td>0.0</td>\n",
       "      <td>0.0</td>\n",
       "      <td>1.0</td>\n",
       "      <td>608.0</td>\n",
       "      <td>0.0</td>\n",
       "      <td>41.0</td>\n",
       "      <td>1.0</td>\n",
       "      <td>83807.86</td>\n",
       "      <td>1.0</td>\n",
       "      <td>0.0</td>\n",
       "      <td>1.0</td>\n",
       "      <td>112542.58</td>\n",
       "    </tr>\n",
       "    <tr>\n",
       "      <th>2</th>\n",
       "      <td>1.0</td>\n",
       "      <td>0.0</td>\n",
       "      <td>0.0</td>\n",
       "      <td>502.0</td>\n",
       "      <td>0.0</td>\n",
       "      <td>42.0</td>\n",
       "      <td>8.0</td>\n",
       "      <td>159660.80</td>\n",
       "      <td>3.0</td>\n",
       "      <td>1.0</td>\n",
       "      <td>0.0</td>\n",
       "      <td>113931.57</td>\n",
       "    </tr>\n",
       "    <tr>\n",
       "      <th>3</th>\n",
       "      <td>1.0</td>\n",
       "      <td>0.0</td>\n",
       "      <td>0.0</td>\n",
       "      <td>699.0</td>\n",
       "      <td>0.0</td>\n",
       "      <td>39.0</td>\n",
       "      <td>1.0</td>\n",
       "      <td>0.00</td>\n",
       "      <td>2.0</td>\n",
       "      <td>0.0</td>\n",
       "      <td>0.0</td>\n",
       "      <td>93826.63</td>\n",
       "    </tr>\n",
       "    <tr>\n",
       "      <th>4</th>\n",
       "      <td>0.0</td>\n",
       "      <td>0.0</td>\n",
       "      <td>1.0</td>\n",
       "      <td>850.0</td>\n",
       "      <td>0.0</td>\n",
       "      <td>43.0</td>\n",
       "      <td>2.0</td>\n",
       "      <td>125510.82</td>\n",
       "      <td>1.0</td>\n",
       "      <td>1.0</td>\n",
       "      <td>1.0</td>\n",
       "      <td>79084.10</td>\n",
       "    </tr>\n",
       "  </tbody>\n",
       "</table>\n",
       "</div>"
      ],
      "text/plain": [
       "   encoder__Geography_France  encoder__Geography_Germany  \\\n",
       "0                        1.0                         0.0   \n",
       "1                        0.0                         0.0   \n",
       "2                        1.0                         0.0   \n",
       "3                        1.0                         0.0   \n",
       "4                        0.0                         0.0   \n",
       "\n",
       "   encoder__Geography_Spain  remainder__CreditScore  remainder__Gender  \\\n",
       "0                       0.0                   619.0                0.0   \n",
       "1                       1.0                   608.0                0.0   \n",
       "2                       0.0                   502.0                0.0   \n",
       "3                       0.0                   699.0                0.0   \n",
       "4                       1.0                   850.0                0.0   \n",
       "\n",
       "   remainder__Age  remainder__Tenure  remainder__Balance  \\\n",
       "0            42.0                2.0                0.00   \n",
       "1            41.0                1.0            83807.86   \n",
       "2            42.0                8.0           159660.80   \n",
       "3            39.0                1.0                0.00   \n",
       "4            43.0                2.0           125510.82   \n",
       "\n",
       "   remainder__NumOfProducts  remainder__HasCrCard  remainder__IsActiveMember  \\\n",
       "0                       1.0                   1.0                        1.0   \n",
       "1                       1.0                   0.0                        1.0   \n",
       "2                       3.0                   1.0                        0.0   \n",
       "3                       2.0                   0.0                        0.0   \n",
       "4                       1.0                   1.0                        1.0   \n",
       "\n",
       "   remainder__EstimatedSalary  \n",
       "0                   101348.88  \n",
       "1                   112542.58  \n",
       "2                   113931.57  \n",
       "3                    93826.63  \n",
       "4                    79084.10  "
      ]
     },
     "execution_count": 23,
     "metadata": {},
     "output_type": "execute_result"
    }
   ],
   "source": [
    "X.head()"
   ]
  },
  {
   "cell_type": "code",
   "execution_count": null,
   "id": "8b380843",
   "metadata": {},
   "outputs": [],
   "source": []
  },
  {
   "cell_type": "markdown",
   "id": "e0e7d572",
   "metadata": {},
   "source": [
    "### Feature scaling"
   ]
  },
  {
   "cell_type": "code",
   "execution_count": 24,
   "id": "03d8fe24",
   "metadata": {},
   "outputs": [],
   "source": [
    "cols_to_scale = ['remainder__CreditScore', 'remainder__Age', 'remainder__Tenure', 'remainder__Balance', 'remainder__NumOfProducts', 'remainder__EstimatedSalary']\n",
    "\n",
    "from sklearn.preprocessing import MinMaxScaler\n",
    "scaler = MinMaxScaler()\n",
    "X[cols_to_scale] = scaler.fit_transform(X[cols_to_scale])"
   ]
  },
  {
   "cell_type": "code",
   "execution_count": 25,
   "id": "b76f87db",
   "metadata": {},
   "outputs": [
    {
     "data": {
      "text/html": [
       "<div>\n",
       "<style scoped>\n",
       "    .dataframe tbody tr th:only-of-type {\n",
       "        vertical-align: middle;\n",
       "    }\n",
       "\n",
       "    .dataframe tbody tr th {\n",
       "        vertical-align: top;\n",
       "    }\n",
       "\n",
       "    .dataframe thead th {\n",
       "        text-align: right;\n",
       "    }\n",
       "</style>\n",
       "<table border=\"1\" class=\"dataframe\">\n",
       "  <thead>\n",
       "    <tr style=\"text-align: right;\">\n",
       "      <th></th>\n",
       "      <th>encoder__Geography_France</th>\n",
       "      <th>encoder__Geography_Germany</th>\n",
       "      <th>encoder__Geography_Spain</th>\n",
       "      <th>remainder__CreditScore</th>\n",
       "      <th>remainder__Gender</th>\n",
       "      <th>remainder__Age</th>\n",
       "      <th>remainder__Tenure</th>\n",
       "      <th>remainder__Balance</th>\n",
       "      <th>remainder__NumOfProducts</th>\n",
       "      <th>remainder__HasCrCard</th>\n",
       "      <th>remainder__IsActiveMember</th>\n",
       "      <th>remainder__EstimatedSalary</th>\n",
       "    </tr>\n",
       "  </thead>\n",
       "  <tbody>\n",
       "    <tr>\n",
       "      <th>0</th>\n",
       "      <td>1.0</td>\n",
       "      <td>0.0</td>\n",
       "      <td>0.0</td>\n",
       "      <td>0.538</td>\n",
       "      <td>0.0</td>\n",
       "      <td>0.324324</td>\n",
       "      <td>0.2</td>\n",
       "      <td>0.000000</td>\n",
       "      <td>0.000000</td>\n",
       "      <td>1.0</td>\n",
       "      <td>1.0</td>\n",
       "      <td>0.506735</td>\n",
       "    </tr>\n",
       "    <tr>\n",
       "      <th>1</th>\n",
       "      <td>0.0</td>\n",
       "      <td>0.0</td>\n",
       "      <td>1.0</td>\n",
       "      <td>0.516</td>\n",
       "      <td>0.0</td>\n",
       "      <td>0.310811</td>\n",
       "      <td>0.1</td>\n",
       "      <td>0.334031</td>\n",
       "      <td>0.000000</td>\n",
       "      <td>0.0</td>\n",
       "      <td>1.0</td>\n",
       "      <td>0.562709</td>\n",
       "    </tr>\n",
       "    <tr>\n",
       "      <th>2</th>\n",
       "      <td>1.0</td>\n",
       "      <td>0.0</td>\n",
       "      <td>0.0</td>\n",
       "      <td>0.304</td>\n",
       "      <td>0.0</td>\n",
       "      <td>0.324324</td>\n",
       "      <td>0.8</td>\n",
       "      <td>0.636357</td>\n",
       "      <td>0.666667</td>\n",
       "      <td>1.0</td>\n",
       "      <td>0.0</td>\n",
       "      <td>0.569654</td>\n",
       "    </tr>\n",
       "    <tr>\n",
       "      <th>3</th>\n",
       "      <td>1.0</td>\n",
       "      <td>0.0</td>\n",
       "      <td>0.0</td>\n",
       "      <td>0.698</td>\n",
       "      <td>0.0</td>\n",
       "      <td>0.283784</td>\n",
       "      <td>0.1</td>\n",
       "      <td>0.000000</td>\n",
       "      <td>0.333333</td>\n",
       "      <td>0.0</td>\n",
       "      <td>0.0</td>\n",
       "      <td>0.469120</td>\n",
       "    </tr>\n",
       "    <tr>\n",
       "      <th>4</th>\n",
       "      <td>0.0</td>\n",
       "      <td>0.0</td>\n",
       "      <td>1.0</td>\n",
       "      <td>1.000</td>\n",
       "      <td>0.0</td>\n",
       "      <td>0.337838</td>\n",
       "      <td>0.2</td>\n",
       "      <td>0.500246</td>\n",
       "      <td>0.000000</td>\n",
       "      <td>1.0</td>\n",
       "      <td>1.0</td>\n",
       "      <td>0.395400</td>\n",
       "    </tr>\n",
       "  </tbody>\n",
       "</table>\n",
       "</div>"
      ],
      "text/plain": [
       "   encoder__Geography_France  encoder__Geography_Germany  \\\n",
       "0                        1.0                         0.0   \n",
       "1                        0.0                         0.0   \n",
       "2                        1.0                         0.0   \n",
       "3                        1.0                         0.0   \n",
       "4                        0.0                         0.0   \n",
       "\n",
       "   encoder__Geography_Spain  remainder__CreditScore  remainder__Gender  \\\n",
       "0                       0.0                   0.538                0.0   \n",
       "1                       1.0                   0.516                0.0   \n",
       "2                       0.0                   0.304                0.0   \n",
       "3                       0.0                   0.698                0.0   \n",
       "4                       1.0                   1.000                0.0   \n",
       "\n",
       "   remainder__Age  remainder__Tenure  remainder__Balance  \\\n",
       "0        0.324324                0.2            0.000000   \n",
       "1        0.310811                0.1            0.334031   \n",
       "2        0.324324                0.8            0.636357   \n",
       "3        0.283784                0.1            0.000000   \n",
       "4        0.337838                0.2            0.500246   \n",
       "\n",
       "   remainder__NumOfProducts  remainder__HasCrCard  remainder__IsActiveMember  \\\n",
       "0                  0.000000                   1.0                        1.0   \n",
       "1                  0.000000                   0.0                        1.0   \n",
       "2                  0.666667                   1.0                        0.0   \n",
       "3                  0.333333                   0.0                        0.0   \n",
       "4                  0.000000                   1.0                        1.0   \n",
       "\n",
       "   remainder__EstimatedSalary  \n",
       "0                    0.506735  \n",
       "1                    0.562709  \n",
       "2                    0.569654  \n",
       "3                    0.469120  \n",
       "4                    0.395400  "
      ]
     },
     "execution_count": 25,
     "metadata": {},
     "output_type": "execute_result"
    }
   ],
   "source": [
    "X.head()"
   ]
  },
  {
   "cell_type": "markdown",
   "id": "aec07ab0",
   "metadata": {},
   "source": [
    "### SMOTE"
   ]
  },
  {
   "cell_type": "code",
   "execution_count": 26,
   "id": "51bc7be7",
   "metadata": {},
   "outputs": [
    {
     "name": "stdout",
     "output_type": "stream",
     "text": [
      "Requirement already satisfied: imbalanced-learn in c:\\users\\admin\\appdata\\local\\programs\\python\\python310\\lib\\site-packages (0.12.2)\n",
      "Requirement already satisfied: numpy>=1.17.3 in c:\\users\\admin\\appdata\\local\\programs\\python\\python310\\lib\\site-packages (from imbalanced-learn) (1.23.5)\n",
      "Requirement already satisfied: scipy>=1.5.0 in c:\\users\\admin\\appdata\\local\\programs\\python\\python310\\lib\\site-packages (from imbalanced-learn) (1.10.1)\n",
      "Requirement already satisfied: scikit-learn>=1.0.2 in c:\\users\\admin\\appdata\\local\\programs\\python\\python310\\lib\\site-packages (from imbalanced-learn) (1.2.2)\n",
      "Requirement already satisfied: joblib>=1.1.1 in c:\\users\\admin\\appdata\\local\\programs\\python\\python310\\lib\\site-packages (from imbalanced-learn) (1.2.0)\n",
      "Requirement already satisfied: threadpoolctl>=2.0.0 in c:\\users\\admin\\appdata\\local\\programs\\python\\python310\\lib\\site-packages (from imbalanced-learn) (3.1.0)\n",
      "Note: you may need to restart the kernel to use updated packages.\n"
     ]
    },
    {
     "name": "stderr",
     "output_type": "stream",
     "text": [
      "\n",
      "[notice] A new release of pip is available: 23.1.2 -> 24.0\n",
      "[notice] To update, run: python.exe -m pip install --upgrade pip\n"
     ]
    }
   ],
   "source": [
    "pip install -U imbalanced-learn"
   ]
  },
  {
   "cell_type": "code",
   "execution_count": 27,
   "id": "3f38aacf",
   "metadata": {},
   "outputs": [
    {
     "data": {
      "text/plain": [
       "1    7963\n",
       "0    7963\n",
       "Name: Exited, dtype: int64"
      ]
     },
     "execution_count": 27,
     "metadata": {},
     "output_type": "execute_result"
    }
   ],
   "source": [
    "from imblearn.over_sampling import SMOTE\n",
    "\n",
    "smote = SMOTE(sampling_strategy='minority')\n",
    "X_sm, y_sm = smote.fit_resample(X, y)\n",
    "\n",
    "y_sm.value_counts()"
   ]
  },
  {
   "cell_type": "code",
   "execution_count": 28,
   "id": "8c775e73",
   "metadata": {},
   "outputs": [
    {
     "data": {
      "text/html": [
       "<div>\n",
       "<style scoped>\n",
       "    .dataframe tbody tr th:only-of-type {\n",
       "        vertical-align: middle;\n",
       "    }\n",
       "\n",
       "    .dataframe tbody tr th {\n",
       "        vertical-align: top;\n",
       "    }\n",
       "\n",
       "    .dataframe thead th {\n",
       "        text-align: right;\n",
       "    }\n",
       "</style>\n",
       "<table border=\"1\" class=\"dataframe\">\n",
       "  <thead>\n",
       "    <tr style=\"text-align: right;\">\n",
       "      <th></th>\n",
       "      <th>encoder__Geography_France</th>\n",
       "      <th>encoder__Geography_Germany</th>\n",
       "      <th>encoder__Geography_Spain</th>\n",
       "      <th>remainder__CreditScore</th>\n",
       "      <th>remainder__Gender</th>\n",
       "      <th>remainder__Age</th>\n",
       "      <th>remainder__Tenure</th>\n",
       "      <th>remainder__Balance</th>\n",
       "      <th>remainder__NumOfProducts</th>\n",
       "      <th>remainder__HasCrCard</th>\n",
       "      <th>remainder__IsActiveMember</th>\n",
       "      <th>remainder__EstimatedSalary</th>\n",
       "    </tr>\n",
       "  </thead>\n",
       "  <tbody>\n",
       "    <tr>\n",
       "      <th>0</th>\n",
       "      <td>1.0</td>\n",
       "      <td>0.0</td>\n",
       "      <td>0.0</td>\n",
       "      <td>0.538</td>\n",
       "      <td>0.0</td>\n",
       "      <td>0.324324</td>\n",
       "      <td>0.2</td>\n",
       "      <td>0.0</td>\n",
       "      <td>0.0</td>\n",
       "      <td>1.0</td>\n",
       "      <td>1.0</td>\n",
       "      <td>0.506735</td>\n",
       "    </tr>\n",
       "  </tbody>\n",
       "</table>\n",
       "</div>"
      ],
      "text/plain": [
       "   encoder__Geography_France  encoder__Geography_Germany  \\\n",
       "0                        1.0                         0.0   \n",
       "\n",
       "   encoder__Geography_Spain  remainder__CreditScore  remainder__Gender  \\\n",
       "0                       0.0                   0.538                0.0   \n",
       "\n",
       "   remainder__Age  remainder__Tenure  remainder__Balance  \\\n",
       "0        0.324324                0.2                 0.0   \n",
       "\n",
       "   remainder__NumOfProducts  remainder__HasCrCard  remainder__IsActiveMember  \\\n",
       "0                       0.0                   1.0                        1.0   \n",
       "\n",
       "   remainder__EstimatedSalary  \n",
       "0                    0.506735  "
      ]
     },
     "execution_count": 28,
     "metadata": {},
     "output_type": "execute_result"
    }
   ],
   "source": [
    "X_sm[:1]"
   ]
  },
  {
   "cell_type": "markdown",
   "id": "f1261573",
   "metadata": {},
   "source": [
    "### Spliting Data into Training and Testing"
   ]
  },
  {
   "cell_type": "code",
   "execution_count": 29,
   "id": "bce2369f",
   "metadata": {},
   "outputs": [],
   "source": [
    "from sklearn.model_selection import train_test_split\n",
    "X_train, X_test, y_train, y_test = train_test_split(X_sm, y_sm, test_size=0.2, random_state=15, stratify=y_sm)"
   ]
  },
  {
   "cell_type": "code",
   "execution_count": 30,
   "id": "1e39498c",
   "metadata": {},
   "outputs": [
    {
     "data": {
      "text/plain": [
       "0    6370\n",
       "1    6370\n",
       "Name: Exited, dtype: int64"
      ]
     },
     "execution_count": 30,
     "metadata": {},
     "output_type": "execute_result"
    }
   ],
   "source": [
    "y_train.value_counts()"
   ]
  },
  {
   "cell_type": "markdown",
   "id": "f3d6ab90",
   "metadata": {},
   "source": [
    "## Classification Model"
   ]
  },
  {
   "cell_type": "markdown",
   "id": "4b6ad80c",
   "metadata": {},
   "source": [
    "## Support Vector Machine (SVM)"
   ]
  },
  {
   "cell_type": "code",
   "execution_count": 31,
   "id": "3b872173",
   "metadata": {},
   "outputs": [
    {
     "data": {
      "text/html": [
       "<style>#sk-container-id-1 {color: black;background-color: white;}#sk-container-id-1 pre{padding: 0;}#sk-container-id-1 div.sk-toggleable {background-color: white;}#sk-container-id-1 label.sk-toggleable__label {cursor: pointer;display: block;width: 100%;margin-bottom: 0;padding: 0.3em;box-sizing: border-box;text-align: center;}#sk-container-id-1 label.sk-toggleable__label-arrow:before {content: \"▸\";float: left;margin-right: 0.25em;color: #696969;}#sk-container-id-1 label.sk-toggleable__label-arrow:hover:before {color: black;}#sk-container-id-1 div.sk-estimator:hover label.sk-toggleable__label-arrow:before {color: black;}#sk-container-id-1 div.sk-toggleable__content {max-height: 0;max-width: 0;overflow: hidden;text-align: left;background-color: #f0f8ff;}#sk-container-id-1 div.sk-toggleable__content pre {margin: 0.2em;color: black;border-radius: 0.25em;background-color: #f0f8ff;}#sk-container-id-1 input.sk-toggleable__control:checked~div.sk-toggleable__content {max-height: 200px;max-width: 100%;overflow: auto;}#sk-container-id-1 input.sk-toggleable__control:checked~label.sk-toggleable__label-arrow:before {content: \"▾\";}#sk-container-id-1 div.sk-estimator input.sk-toggleable__control:checked~label.sk-toggleable__label {background-color: #d4ebff;}#sk-container-id-1 div.sk-label input.sk-toggleable__control:checked~label.sk-toggleable__label {background-color: #d4ebff;}#sk-container-id-1 input.sk-hidden--visually {border: 0;clip: rect(1px 1px 1px 1px);clip: rect(1px, 1px, 1px, 1px);height: 1px;margin: -1px;overflow: hidden;padding: 0;position: absolute;width: 1px;}#sk-container-id-1 div.sk-estimator {font-family: monospace;background-color: #f0f8ff;border: 1px dotted black;border-radius: 0.25em;box-sizing: border-box;margin-bottom: 0.5em;}#sk-container-id-1 div.sk-estimator:hover {background-color: #d4ebff;}#sk-container-id-1 div.sk-parallel-item::after {content: \"\";width: 100%;border-bottom: 1px solid gray;flex-grow: 1;}#sk-container-id-1 div.sk-label:hover label.sk-toggleable__label {background-color: #d4ebff;}#sk-container-id-1 div.sk-serial::before {content: \"\";position: absolute;border-left: 1px solid gray;box-sizing: border-box;top: 0;bottom: 0;left: 50%;z-index: 0;}#sk-container-id-1 div.sk-serial {display: flex;flex-direction: column;align-items: center;background-color: white;padding-right: 0.2em;padding-left: 0.2em;position: relative;}#sk-container-id-1 div.sk-item {position: relative;z-index: 1;}#sk-container-id-1 div.sk-parallel {display: flex;align-items: stretch;justify-content: center;background-color: white;position: relative;}#sk-container-id-1 div.sk-item::before, #sk-container-id-1 div.sk-parallel-item::before {content: \"\";position: absolute;border-left: 1px solid gray;box-sizing: border-box;top: 0;bottom: 0;left: 50%;z-index: -1;}#sk-container-id-1 div.sk-parallel-item {display: flex;flex-direction: column;z-index: 1;position: relative;background-color: white;}#sk-container-id-1 div.sk-parallel-item:first-child::after {align-self: flex-end;width: 50%;}#sk-container-id-1 div.sk-parallel-item:last-child::after {align-self: flex-start;width: 50%;}#sk-container-id-1 div.sk-parallel-item:only-child::after {width: 0;}#sk-container-id-1 div.sk-dashed-wrapped {border: 1px dashed gray;margin: 0 0.4em 0.5em 0.4em;box-sizing: border-box;padding-bottom: 0.4em;background-color: white;}#sk-container-id-1 div.sk-label label {font-family: monospace;font-weight: bold;display: inline-block;line-height: 1.2em;}#sk-container-id-1 div.sk-label-container {text-align: center;}#sk-container-id-1 div.sk-container {/* jupyter's `normalize.less` sets `[hidden] { display: none; }` but bootstrap.min.css set `[hidden] { display: none !important; }` so we also need the `!important` here to be able to override the default hidden behavior on the sphinx rendered scikit-learn.org. See: https://github.com/scikit-learn/scikit-learn/issues/21755 */display: inline-block !important;position: relative;}#sk-container-id-1 div.sk-text-repr-fallback {display: none;}</style><div id=\"sk-container-id-1\" class=\"sk-top-container\"><div class=\"sk-text-repr-fallback\"><pre>SVC()</pre><b>In a Jupyter environment, please rerun this cell to show the HTML representation or trust the notebook. <br />On GitHub, the HTML representation is unable to render, please try loading this page with nbviewer.org.</b></div><div class=\"sk-container\" hidden><div class=\"sk-item\"><div class=\"sk-estimator sk-toggleable\"><input class=\"sk-toggleable__control sk-hidden--visually\" id=\"sk-estimator-id-1\" type=\"checkbox\" checked><label for=\"sk-estimator-id-1\" class=\"sk-toggleable__label sk-toggleable__label-arrow\">SVC</label><div class=\"sk-toggleable__content\"><pre>SVC()</pre></div></div></div></div></div>"
      ],
      "text/plain": [
       "SVC()"
      ]
     },
     "execution_count": 31,
     "metadata": {},
     "output_type": "execute_result"
    }
   ],
   "source": [
    "from sklearn.svm import SVC\n",
    "svm2=SVC()\n",
    "svm2.fit(X_train,y_train)"
   ]
  },
  {
   "cell_type": "code",
   "execution_count": 32,
   "id": "d32d9ab9",
   "metadata": {},
   "outputs": [
    {
     "name": "stdout",
     "output_type": "stream",
     "text": [
      "accuracy: 0.7677338355304457\n",
      "F1 score of svm:  0.7673927593838498\n",
      "Jaccard Score of svm:  0.6109358569926393\n"
     ]
    }
   ],
   "source": [
    "ypred=svm2.predict(X_test)\n",
    "print('accuracy:',metrics.accuracy_score(y_test,ypred))\n",
    "print('F1 score of svm: ',metrics.f1_score(y_test,ypred,average='weighted'))\n",
    "print('Jaccard Score of svm: ',metrics.jaccard_score(y_test,ypred))"
   ]
  },
  {
   "cell_type": "code",
   "execution_count": 33,
   "id": "7dac37ac",
   "metadata": {},
   "outputs": [
    {
     "name": "stdout",
     "output_type": "stream",
     "text": [
      "Fitting 5 folds for each of 48 candidates, totalling 240 fits\n",
      "[CV] END ..........................C=1, gamma=1, kernel=poly; total time=   6.0s\n",
      "[CV] END ..........................C=1, gamma=1, kernel=poly; total time=   6.2s\n",
      "[CV] END ..........................C=1, gamma=1, kernel=poly; total time=   6.5s\n",
      "[CV] END ..........................C=1, gamma=1, kernel=poly; total time=   6.0s\n",
      "[CV] END ..........................C=1, gamma=1, kernel=poly; total time=   5.8s\n",
      "[CV] END ...........................C=1, gamma=1, kernel=rbf; total time=   5.0s\n",
      "[CV] END ...........................C=1, gamma=1, kernel=rbf; total time=   4.8s\n",
      "[CV] END ...........................C=1, gamma=1, kernel=rbf; total time=   4.7s\n",
      "[CV] END ...........................C=1, gamma=1, kernel=rbf; total time=   4.5s\n",
      "[CV] END ...........................C=1, gamma=1, kernel=rbf; total time=   4.4s\n",
      "[CV] END .......................C=1, gamma=1, kernel=sigmoid; total time=   5.5s\n",
      "[CV] END .......................C=1, gamma=1, kernel=sigmoid; total time=   5.1s\n",
      "[CV] END .......................C=1, gamma=1, kernel=sigmoid; total time=   4.8s\n",
      "[CV] END .......................C=1, gamma=1, kernel=sigmoid; total time=   5.6s\n",
      "[CV] END .......................C=1, gamma=1, kernel=sigmoid; total time=   5.4s\n",
      "[CV] END .......................C=1, gamma=0.01, kernel=poly; total time=   3.9s\n",
      "[CV] END .......................C=1, gamma=0.01, kernel=poly; total time=   4.0s\n",
      "[CV] END .......................C=1, gamma=0.01, kernel=poly; total time=   4.1s\n",
      "[CV] END .......................C=1, gamma=0.01, kernel=poly; total time=   3.9s\n",
      "[CV] END .......................C=1, gamma=0.01, kernel=poly; total time=   3.7s\n",
      "[CV] END ........................C=1, gamma=0.01, kernel=rbf; total time=   5.7s\n",
      "[CV] END ........................C=1, gamma=0.01, kernel=rbf; total time=   6.4s\n",
      "[CV] END ........................C=1, gamma=0.01, kernel=rbf; total time=   6.6s\n",
      "[CV] END ........................C=1, gamma=0.01, kernel=rbf; total time=   6.0s\n",
      "[CV] END ........................C=1, gamma=0.01, kernel=rbf; total time=   5.9s\n",
      "[CV] END ....................C=1, gamma=0.01, kernel=sigmoid; total time=   4.8s\n",
      "[CV] END ....................C=1, gamma=0.01, kernel=sigmoid; total time=   4.5s\n",
      "[CV] END ....................C=1, gamma=0.01, kernel=sigmoid; total time=   4.7s\n",
      "[CV] END ....................C=1, gamma=0.01, kernel=sigmoid; total time=   4.8s\n",
      "[CV] END ....................C=1, gamma=0.01, kernel=sigmoid; total time=   4.5s\n",
      "[CV] END .......................C=1, gamma=0.03, kernel=poly; total time=   4.2s\n",
      "[CV] END .......................C=1, gamma=0.03, kernel=poly; total time=   4.6s\n",
      "[CV] END .......................C=1, gamma=0.03, kernel=poly; total time=   4.1s\n",
      "[CV] END .......................C=1, gamma=0.03, kernel=poly; total time=   4.1s\n",
      "[CV] END .......................C=1, gamma=0.03, kernel=poly; total time=   4.4s\n",
      "[CV] END ........................C=1, gamma=0.03, kernel=rbf; total time=   6.3s\n",
      "[CV] END ........................C=1, gamma=0.03, kernel=rbf; total time=   6.4s\n",
      "[CV] END ........................C=1, gamma=0.03, kernel=rbf; total time=   5.7s\n",
      "[CV] END ........................C=1, gamma=0.03, kernel=rbf; total time=   5.9s\n",
      "[CV] END ........................C=1, gamma=0.03, kernel=rbf; total time=   6.4s\n",
      "[CV] END ....................C=1, gamma=0.03, kernel=sigmoid; total time=   4.2s\n",
      "[CV] END ....................C=1, gamma=0.03, kernel=sigmoid; total time=   4.2s\n",
      "[CV] END ....................C=1, gamma=0.03, kernel=sigmoid; total time=   4.1s\n",
      "[CV] END ....................C=1, gamma=0.03, kernel=sigmoid; total time=   4.5s\n",
      "[CV] END ....................C=1, gamma=0.03, kernel=sigmoid; total time=   5.2s\n",
      "[CV] END .......................C=1, gamma=0.07, kernel=poly; total time=   4.3s\n",
      "[CV] END .......................C=1, gamma=0.07, kernel=poly; total time=   3.9s\n",
      "[CV] END .......................C=1, gamma=0.07, kernel=poly; total time=   3.7s\n",
      "[CV] END .......................C=1, gamma=0.07, kernel=poly; total time=   4.0s\n",
      "[CV] END .......................C=1, gamma=0.07, kernel=poly; total time=   3.9s\n",
      "[CV] END ........................C=1, gamma=0.07, kernel=rbf; total time=   5.5s\n",
      "[CV] END ........................C=1, gamma=0.07, kernel=rbf; total time=   5.5s\n",
      "[CV] END ........................C=1, gamma=0.07, kernel=rbf; total time=   5.3s\n",
      "[CV] END ........................C=1, gamma=0.07, kernel=rbf; total time=   5.3s\n",
      "[CV] END ........................C=1, gamma=0.07, kernel=rbf; total time=   5.8s\n",
      "[CV] END ....................C=1, gamma=0.07, kernel=sigmoid; total time=   4.4s\n",
      "[CV] END ....................C=1, gamma=0.07, kernel=sigmoid; total time=   4.3s\n",
      "[CV] END ....................C=1, gamma=0.07, kernel=sigmoid; total time=   4.4s\n",
      "[CV] END ....................C=1, gamma=0.07, kernel=sigmoid; total time=   4.1s\n",
      "[CV] END ....................C=1, gamma=0.07, kernel=sigmoid; total time=   3.9s\n",
      "[CV] END .........................C=10, gamma=1, kernel=poly; total time=  28.9s\n",
      "[CV] END .........................C=10, gamma=1, kernel=poly; total time=  32.0s\n",
      "[CV] END .........................C=10, gamma=1, kernel=poly; total time=  27.0s\n",
      "[CV] END .........................C=10, gamma=1, kernel=poly; total time=  24.4s\n",
      "[CV] END .........................C=10, gamma=1, kernel=poly; total time=  26.7s\n",
      "[CV] END ..........................C=10, gamma=1, kernel=rbf; total time=   5.0s\n",
      "[CV] END ..........................C=10, gamma=1, kernel=rbf; total time=   5.3s\n",
      "[CV] END ..........................C=10, gamma=1, kernel=rbf; total time=   5.4s\n",
      "[CV] END ..........................C=10, gamma=1, kernel=rbf; total time=   5.2s\n",
      "[CV] END ..........................C=10, gamma=1, kernel=rbf; total time=   5.1s\n",
      "[CV] END ......................C=10, gamma=1, kernel=sigmoid; total time=   5.6s\n",
      "[CV] END ......................C=10, gamma=1, kernel=sigmoid; total time=   5.1s\n",
      "[CV] END ......................C=10, gamma=1, kernel=sigmoid; total time=   4.8s\n",
      "[CV] END ......................C=10, gamma=1, kernel=sigmoid; total time=   6.0s\n",
      "[CV] END ......................C=10, gamma=1, kernel=sigmoid; total time=   5.0s\n",
      "[CV] END ......................C=10, gamma=0.01, kernel=poly; total time=   4.0s\n",
      "[CV] END ......................C=10, gamma=0.01, kernel=poly; total time=   3.7s\n",
      "[CV] END ......................C=10, gamma=0.01, kernel=poly; total time=   3.9s\n",
      "[CV] END ......................C=10, gamma=0.01, kernel=poly; total time=   4.0s\n",
      "[CV] END ......................C=10, gamma=0.01, kernel=poly; total time=   4.0s\n",
      "[CV] END .......................C=10, gamma=0.01, kernel=rbf; total time=   5.5s\n",
      "[CV] END .......................C=10, gamma=0.01, kernel=rbf; total time=   5.8s\n",
      "[CV] END .......................C=10, gamma=0.01, kernel=rbf; total time=   5.5s\n",
      "[CV] END .......................C=10, gamma=0.01, kernel=rbf; total time=   5.7s\n",
      "[CV] END .......................C=10, gamma=0.01, kernel=rbf; total time=   5.7s\n",
      "[CV] END ...................C=10, gamma=0.01, kernel=sigmoid; total time=   4.0s\n",
      "[CV] END ...................C=10, gamma=0.01, kernel=sigmoid; total time=   4.1s\n",
      "[CV] END ...................C=10, gamma=0.01, kernel=sigmoid; total time=   4.0s\n",
      "[CV] END ...................C=10, gamma=0.01, kernel=sigmoid; total time=   4.1s\n",
      "[CV] END ...................C=10, gamma=0.01, kernel=sigmoid; total time=   4.4s\n",
      "[CV] END ......................C=10, gamma=0.03, kernel=poly; total time=   3.8s\n",
      "[CV] END ......................C=10, gamma=0.03, kernel=poly; total time=   3.6s\n",
      "[CV] END ......................C=10, gamma=0.03, kernel=poly; total time=   3.8s\n",
      "[CV] END ......................C=10, gamma=0.03, kernel=poly; total time=   3.6s\n",
      "[CV] END ......................C=10, gamma=0.03, kernel=poly; total time=   3.8s\n",
      "[CV] END .......................C=10, gamma=0.03, kernel=rbf; total time=   5.3s\n",
      "[CV] END .......................C=10, gamma=0.03, kernel=rbf; total time=   5.1s\n",
      "[CV] END .......................C=10, gamma=0.03, kernel=rbf; total time=   5.2s\n",
      "[CV] END .......................C=10, gamma=0.03, kernel=rbf; total time=   5.3s\n",
      "[CV] END .......................C=10, gamma=0.03, kernel=rbf; total time=   5.1s\n",
      "[CV] END ...................C=10, gamma=0.03, kernel=sigmoid; total time=   4.0s\n"
     ]
    },
    {
     "name": "stdout",
     "output_type": "stream",
     "text": [
      "[CV] END ...................C=10, gamma=0.03, kernel=sigmoid; total time=   4.0s\n",
      "[CV] END ...................C=10, gamma=0.03, kernel=sigmoid; total time=   3.9s\n",
      "[CV] END ...................C=10, gamma=0.03, kernel=sigmoid; total time=   3.9s\n",
      "[CV] END ...................C=10, gamma=0.03, kernel=sigmoid; total time=   3.9s\n",
      "[CV] END ......................C=10, gamma=0.07, kernel=poly; total time=   2.9s\n",
      "[CV] END ......................C=10, gamma=0.07, kernel=poly; total time=   2.9s\n",
      "[CV] END ......................C=10, gamma=0.07, kernel=poly; total time=   3.0s\n",
      "[CV] END ......................C=10, gamma=0.07, kernel=poly; total time=   3.1s\n",
      "[CV] END ......................C=10, gamma=0.07, kernel=poly; total time=   2.9s\n",
      "[CV] END .......................C=10, gamma=0.07, kernel=rbf; total time=   4.7s\n",
      "[CV] END .......................C=10, gamma=0.07, kernel=rbf; total time=   5.0s\n",
      "[CV] END .......................C=10, gamma=0.07, kernel=rbf; total time=   4.8s\n",
      "[CV] END .......................C=10, gamma=0.07, kernel=rbf; total time=   4.9s\n",
      "[CV] END .......................C=10, gamma=0.07, kernel=rbf; total time=   5.2s\n",
      "[CV] END ...................C=10, gamma=0.07, kernel=sigmoid; total time=   4.8s\n",
      "[CV] END ...................C=10, gamma=0.07, kernel=sigmoid; total time=   4.7s\n",
      "[CV] END ...................C=10, gamma=0.07, kernel=sigmoid; total time=   5.0s\n",
      "[CV] END ...................C=10, gamma=0.07, kernel=sigmoid; total time=   5.6s\n",
      "[CV] END ...................C=10, gamma=0.07, kernel=sigmoid; total time=   5.4s\n",
      "[CV] END .........................C=20, gamma=1, kernel=poly; total time=  43.5s\n",
      "[CV] END .........................C=20, gamma=1, kernel=poly; total time=  42.4s\n",
      "[CV] END .........................C=20, gamma=1, kernel=poly; total time=  49.8s\n",
      "[CV] END .........................C=20, gamma=1, kernel=poly; total time=  49.9s\n",
      "[CV] END .........................C=20, gamma=1, kernel=poly; total time=  44.4s\n",
      "[CV] END ..........................C=20, gamma=1, kernel=rbf; total time=   5.3s\n",
      "[CV] END ..........................C=20, gamma=1, kernel=rbf; total time=   5.9s\n",
      "[CV] END ..........................C=20, gamma=1, kernel=rbf; total time=   6.5s\n",
      "[CV] END ..........................C=20, gamma=1, kernel=rbf; total time=   7.1s\n",
      "[CV] END ..........................C=20, gamma=1, kernel=rbf; total time=   6.6s\n",
      "[CV] END ......................C=20, gamma=1, kernel=sigmoid; total time=   6.4s\n",
      "[CV] END ......................C=20, gamma=1, kernel=sigmoid; total time=   5.5s\n",
      "[CV] END ......................C=20, gamma=1, kernel=sigmoid; total time=   6.3s\n",
      "[CV] END ......................C=20, gamma=1, kernel=sigmoid; total time=   7.5s\n",
      "[CV] END ......................C=20, gamma=1, kernel=sigmoid; total time=   6.0s\n",
      "[CV] END ......................C=20, gamma=0.01, kernel=poly; total time=   4.3s\n",
      "[CV] END ......................C=20, gamma=0.01, kernel=poly; total time=   4.6s\n",
      "[CV] END ......................C=20, gamma=0.01, kernel=poly; total time=   4.3s\n",
      "[CV] END ......................C=20, gamma=0.01, kernel=poly; total time=   4.5s\n",
      "[CV] END ......................C=20, gamma=0.01, kernel=poly; total time=   4.5s\n",
      "[CV] END .......................C=20, gamma=0.01, kernel=rbf; total time=   5.7s\n",
      "[CV] END .......................C=20, gamma=0.01, kernel=rbf; total time=   5.3s\n",
      "[CV] END .......................C=20, gamma=0.01, kernel=rbf; total time=   5.4s\n",
      "[CV] END .......................C=20, gamma=0.01, kernel=rbf; total time=   5.2s\n",
      "[CV] END .......................C=20, gamma=0.01, kernel=rbf; total time=   4.9s\n",
      "[CV] END ...................C=20, gamma=0.01, kernel=sigmoid; total time=   4.1s\n",
      "[CV] END ...................C=20, gamma=0.01, kernel=sigmoid; total time=   4.3s\n",
      "[CV] END ...................C=20, gamma=0.01, kernel=sigmoid; total time=   4.0s\n",
      "[CV] END ...................C=20, gamma=0.01, kernel=sigmoid; total time=   4.0s\n",
      "[CV] END ...................C=20, gamma=0.01, kernel=sigmoid; total time=   3.9s\n",
      "[CV] END ......................C=20, gamma=0.03, kernel=poly; total time=   3.4s\n",
      "[CV] END ......................C=20, gamma=0.03, kernel=poly; total time=   3.7s\n",
      "[CV] END ......................C=20, gamma=0.03, kernel=poly; total time=   3.5s\n",
      "[CV] END ......................C=20, gamma=0.03, kernel=poly; total time=   3.7s\n",
      "[CV] END ......................C=20, gamma=0.03, kernel=poly; total time=   3.4s\n",
      "[CV] END .......................C=20, gamma=0.03, kernel=rbf; total time=   5.3s\n",
      "[CV] END .......................C=20, gamma=0.03, kernel=rbf; total time=   5.1s\n",
      "[CV] END .......................C=20, gamma=0.03, kernel=rbf; total time=   5.1s\n",
      "[CV] END .......................C=20, gamma=0.03, kernel=rbf; total time=   5.2s\n",
      "[CV] END .......................C=20, gamma=0.03, kernel=rbf; total time=   5.1s\n",
      "[CV] END ...................C=20, gamma=0.03, kernel=sigmoid; total time=   4.3s\n",
      "[CV] END ...................C=20, gamma=0.03, kernel=sigmoid; total time=   4.9s\n",
      "[CV] END ...................C=20, gamma=0.03, kernel=sigmoid; total time=   4.8s\n",
      "[CV] END ...................C=20, gamma=0.03, kernel=sigmoid; total time=   4.5s\n",
      "[CV] END ...................C=20, gamma=0.03, kernel=sigmoid; total time=   4.3s\n",
      "[CV] END ......................C=20, gamma=0.07, kernel=poly; total time=   2.8s\n",
      "[CV] END ......................C=20, gamma=0.07, kernel=poly; total time=   2.9s\n",
      "[CV] END ......................C=20, gamma=0.07, kernel=poly; total time=   2.8s\n",
      "[CV] END ......................C=20, gamma=0.07, kernel=poly; total time=   2.9s\n",
      "[CV] END ......................C=20, gamma=0.07, kernel=poly; total time=   2.7s\n",
      "[CV] END .......................C=20, gamma=0.07, kernel=rbf; total time=   5.2s\n",
      "[CV] END .......................C=20, gamma=0.07, kernel=rbf; total time=   5.2s\n",
      "[CV] END .......................C=20, gamma=0.07, kernel=rbf; total time=   5.3s\n",
      "[CV] END .......................C=20, gamma=0.07, kernel=rbf; total time=   5.4s\n",
      "[CV] END .......................C=20, gamma=0.07, kernel=rbf; total time=   4.9s\n",
      "[CV] END ...................C=20, gamma=0.07, kernel=sigmoid; total time=   5.3s\n",
      "[CV] END ...................C=20, gamma=0.07, kernel=sigmoid; total time=   4.8s\n",
      "[CV] END ...................C=20, gamma=0.07, kernel=sigmoid; total time=   4.5s\n",
      "[CV] END ...................C=20, gamma=0.07, kernel=sigmoid; total time=   4.5s\n",
      "[CV] END ...................C=20, gamma=0.07, kernel=sigmoid; total time=   3.4s\n",
      "[CV] END .........................C=57, gamma=1, kernel=poly; total time= 1.9min\n",
      "[CV] END .........................C=57, gamma=1, kernel=poly; total time= 1.8min\n",
      "[CV] END .........................C=57, gamma=1, kernel=poly; total time= 2.0min\n",
      "[CV] END .........................C=57, gamma=1, kernel=poly; total time= 1.9min\n",
      "[CV] END .........................C=57, gamma=1, kernel=poly; total time= 1.6min\n",
      "[CV] END ..........................C=57, gamma=1, kernel=rbf; total time=   7.3s\n",
      "[CV] END ..........................C=57, gamma=1, kernel=rbf; total time=   8.8s\n",
      "[CV] END ..........................C=57, gamma=1, kernel=rbf; total time=  10.4s\n",
      "[CV] END ..........................C=57, gamma=1, kernel=rbf; total time=   8.2s\n",
      "[CV] END ..........................C=57, gamma=1, kernel=rbf; total time=   7.6s\n",
      "[CV] END ......................C=57, gamma=1, kernel=sigmoid; total time=   5.7s\n",
      "[CV] END ......................C=57, gamma=1, kernel=sigmoid; total time=   5.6s\n",
      "[CV] END ......................C=57, gamma=1, kernel=sigmoid; total time=   5.4s\n",
      "[CV] END ......................C=57, gamma=1, kernel=sigmoid; total time=   5.9s\n",
      "[CV] END ......................C=57, gamma=1, kernel=sigmoid; total time=   5.2s\n",
      "[CV] END ......................C=57, gamma=0.01, kernel=poly; total time=   3.7s\n",
      "[CV] END ......................C=57, gamma=0.01, kernel=poly; total time=   3.5s\n",
      "[CV] END ......................C=57, gamma=0.01, kernel=poly; total time=   3.9s\n",
      "[CV] END ......................C=57, gamma=0.01, kernel=poly; total time=   3.8s\n",
      "[CV] END ......................C=57, gamma=0.01, kernel=poly; total time=   3.6s\n",
      "[CV] END .......................C=57, gamma=0.01, kernel=rbf; total time=   5.0s\n",
      "[CV] END .......................C=57, gamma=0.01, kernel=rbf; total time=   5.3s\n",
      "[CV] END .......................C=57, gamma=0.01, kernel=rbf; total time=   5.3s\n"
     ]
    },
    {
     "name": "stdout",
     "output_type": "stream",
     "text": [
      "[CV] END .......................C=57, gamma=0.01, kernel=rbf; total time=   5.1s\n",
      "[CV] END .......................C=57, gamma=0.01, kernel=rbf; total time=   5.1s\n",
      "[CV] END ...................C=57, gamma=0.01, kernel=sigmoid; total time=   4.2s\n",
      "[CV] END ...................C=57, gamma=0.01, kernel=sigmoid; total time=   4.0s\n",
      "[CV] END ...................C=57, gamma=0.01, kernel=sigmoid; total time=   3.7s\n",
      "[CV] END ...................C=57, gamma=0.01, kernel=sigmoid; total time=   3.8s\n",
      "[CV] END ...................C=57, gamma=0.01, kernel=sigmoid; total time=   4.2s\n",
      "[CV] END ......................C=57, gamma=0.03, kernel=poly; total time=   3.0s\n",
      "[CV] END ......................C=57, gamma=0.03, kernel=poly; total time=   3.1s\n",
      "[CV] END ......................C=57, gamma=0.03, kernel=poly; total time=   3.1s\n",
      "[CV] END ......................C=57, gamma=0.03, kernel=poly; total time=   3.0s\n",
      "[CV] END ......................C=57, gamma=0.03, kernel=poly; total time=   3.1s\n",
      "[CV] END .......................C=57, gamma=0.03, kernel=rbf; total time=   5.5s\n",
      "[CV] END .......................C=57, gamma=0.03, kernel=rbf; total time=   5.6s\n",
      "[CV] END .......................C=57, gamma=0.03, kernel=rbf; total time=   5.6s\n",
      "[CV] END .......................C=57, gamma=0.03, kernel=rbf; total time=   5.4s\n",
      "[CV] END .......................C=57, gamma=0.03, kernel=rbf; total time=   5.2s\n",
      "[CV] END ...................C=57, gamma=0.03, kernel=sigmoid; total time=   6.2s\n",
      "[CV] END ...................C=57, gamma=0.03, kernel=sigmoid; total time=   5.6s\n",
      "[CV] END ...................C=57, gamma=0.03, kernel=sigmoid; total time=   6.1s\n",
      "[CV] END ...................C=57, gamma=0.03, kernel=sigmoid; total time=   5.9s\n",
      "[CV] END ...................C=57, gamma=0.03, kernel=sigmoid; total time=   6.4s\n",
      "[CV] END ......................C=57, gamma=0.07, kernel=poly; total time=   2.6s\n",
      "[CV] END ......................C=57, gamma=0.07, kernel=poly; total time=   2.9s\n",
      "[CV] END ......................C=57, gamma=0.07, kernel=poly; total time=   2.9s\n",
      "[CV] END ......................C=57, gamma=0.07, kernel=poly; total time=   2.8s\n",
      "[CV] END ......................C=57, gamma=0.07, kernel=poly; total time=   2.6s\n",
      "[CV] END .......................C=57, gamma=0.07, kernel=rbf; total time=   5.3s\n",
      "[CV] END .......................C=57, gamma=0.07, kernel=rbf; total time=   5.8s\n",
      "[CV] END .......................C=57, gamma=0.07, kernel=rbf; total time=   5.6s\n",
      "[CV] END .......................C=57, gamma=0.07, kernel=rbf; total time=   6.6s\n",
      "[CV] END .......................C=57, gamma=0.07, kernel=rbf; total time=   5.9s\n",
      "[CV] END ...................C=57, gamma=0.07, kernel=sigmoid; total time=   3.3s\n",
      "[CV] END ...................C=57, gamma=0.07, kernel=sigmoid; total time=   3.1s\n",
      "[CV] END ...................C=57, gamma=0.07, kernel=sigmoid; total time=   3.4s\n",
      "[CV] END ...................C=57, gamma=0.07, kernel=sigmoid; total time=   3.7s\n",
      "[CV] END ...................C=57, gamma=0.07, kernel=sigmoid; total time=   3.9s\n"
     ]
    },
    {
     "data": {
      "text/html": [
       "<style>#sk-container-id-2 {color: black;background-color: white;}#sk-container-id-2 pre{padding: 0;}#sk-container-id-2 div.sk-toggleable {background-color: white;}#sk-container-id-2 label.sk-toggleable__label {cursor: pointer;display: block;width: 100%;margin-bottom: 0;padding: 0.3em;box-sizing: border-box;text-align: center;}#sk-container-id-2 label.sk-toggleable__label-arrow:before {content: \"▸\";float: left;margin-right: 0.25em;color: #696969;}#sk-container-id-2 label.sk-toggleable__label-arrow:hover:before {color: black;}#sk-container-id-2 div.sk-estimator:hover label.sk-toggleable__label-arrow:before {color: black;}#sk-container-id-2 div.sk-toggleable__content {max-height: 0;max-width: 0;overflow: hidden;text-align: left;background-color: #f0f8ff;}#sk-container-id-2 div.sk-toggleable__content pre {margin: 0.2em;color: black;border-radius: 0.25em;background-color: #f0f8ff;}#sk-container-id-2 input.sk-toggleable__control:checked~div.sk-toggleable__content {max-height: 200px;max-width: 100%;overflow: auto;}#sk-container-id-2 input.sk-toggleable__control:checked~label.sk-toggleable__label-arrow:before {content: \"▾\";}#sk-container-id-2 div.sk-estimator input.sk-toggleable__control:checked~label.sk-toggleable__label {background-color: #d4ebff;}#sk-container-id-2 div.sk-label input.sk-toggleable__control:checked~label.sk-toggleable__label {background-color: #d4ebff;}#sk-container-id-2 input.sk-hidden--visually {border: 0;clip: rect(1px 1px 1px 1px);clip: rect(1px, 1px, 1px, 1px);height: 1px;margin: -1px;overflow: hidden;padding: 0;position: absolute;width: 1px;}#sk-container-id-2 div.sk-estimator {font-family: monospace;background-color: #f0f8ff;border: 1px dotted black;border-radius: 0.25em;box-sizing: border-box;margin-bottom: 0.5em;}#sk-container-id-2 div.sk-estimator:hover {background-color: #d4ebff;}#sk-container-id-2 div.sk-parallel-item::after {content: \"\";width: 100%;border-bottom: 1px solid gray;flex-grow: 1;}#sk-container-id-2 div.sk-label:hover label.sk-toggleable__label {background-color: #d4ebff;}#sk-container-id-2 div.sk-serial::before {content: \"\";position: absolute;border-left: 1px solid gray;box-sizing: border-box;top: 0;bottom: 0;left: 50%;z-index: 0;}#sk-container-id-2 div.sk-serial {display: flex;flex-direction: column;align-items: center;background-color: white;padding-right: 0.2em;padding-left: 0.2em;position: relative;}#sk-container-id-2 div.sk-item {position: relative;z-index: 1;}#sk-container-id-2 div.sk-parallel {display: flex;align-items: stretch;justify-content: center;background-color: white;position: relative;}#sk-container-id-2 div.sk-item::before, #sk-container-id-2 div.sk-parallel-item::before {content: \"\";position: absolute;border-left: 1px solid gray;box-sizing: border-box;top: 0;bottom: 0;left: 50%;z-index: -1;}#sk-container-id-2 div.sk-parallel-item {display: flex;flex-direction: column;z-index: 1;position: relative;background-color: white;}#sk-container-id-2 div.sk-parallel-item:first-child::after {align-self: flex-end;width: 50%;}#sk-container-id-2 div.sk-parallel-item:last-child::after {align-self: flex-start;width: 50%;}#sk-container-id-2 div.sk-parallel-item:only-child::after {width: 0;}#sk-container-id-2 div.sk-dashed-wrapped {border: 1px dashed gray;margin: 0 0.4em 0.5em 0.4em;box-sizing: border-box;padding-bottom: 0.4em;background-color: white;}#sk-container-id-2 div.sk-label label {font-family: monospace;font-weight: bold;display: inline-block;line-height: 1.2em;}#sk-container-id-2 div.sk-label-container {text-align: center;}#sk-container-id-2 div.sk-container {/* jupyter's `normalize.less` sets `[hidden] { display: none; }` but bootstrap.min.css set `[hidden] { display: none !important; }` so we also need the `!important` here to be able to override the default hidden behavior on the sphinx rendered scikit-learn.org. See: https://github.com/scikit-learn/scikit-learn/issues/21755 */display: inline-block !important;position: relative;}#sk-container-id-2 div.sk-text-repr-fallback {display: none;}</style><div id=\"sk-container-id-2\" class=\"sk-top-container\"><div class=\"sk-text-repr-fallback\"><pre>GridSearchCV(estimator=SVC(),\n",
       "             param_grid={&#x27;C&#x27;: [1, 10, 20, 57], &#x27;gamma&#x27;: [1, 0.01, 0.03, 0.07],\n",
       "                         &#x27;kernel&#x27;: [&#x27;poly&#x27;, &#x27;rbf&#x27;, &#x27;sigmoid&#x27;]},\n",
       "             verbose=2)</pre><b>In a Jupyter environment, please rerun this cell to show the HTML representation or trust the notebook. <br />On GitHub, the HTML representation is unable to render, please try loading this page with nbviewer.org.</b></div><div class=\"sk-container\" hidden><div class=\"sk-item sk-dashed-wrapped\"><div class=\"sk-label-container\"><div class=\"sk-label sk-toggleable\"><input class=\"sk-toggleable__control sk-hidden--visually\" id=\"sk-estimator-id-2\" type=\"checkbox\" ><label for=\"sk-estimator-id-2\" class=\"sk-toggleable__label sk-toggleable__label-arrow\">GridSearchCV</label><div class=\"sk-toggleable__content\"><pre>GridSearchCV(estimator=SVC(),\n",
       "             param_grid={&#x27;C&#x27;: [1, 10, 20, 57], &#x27;gamma&#x27;: [1, 0.01, 0.03, 0.07],\n",
       "                         &#x27;kernel&#x27;: [&#x27;poly&#x27;, &#x27;rbf&#x27;, &#x27;sigmoid&#x27;]},\n",
       "             verbose=2)</pre></div></div></div><div class=\"sk-parallel\"><div class=\"sk-parallel-item\"><div class=\"sk-item\"><div class=\"sk-label-container\"><div class=\"sk-label sk-toggleable\"><input class=\"sk-toggleable__control sk-hidden--visually\" id=\"sk-estimator-id-3\" type=\"checkbox\" ><label for=\"sk-estimator-id-3\" class=\"sk-toggleable__label sk-toggleable__label-arrow\">estimator: SVC</label><div class=\"sk-toggleable__content\"><pre>SVC()</pre></div></div></div><div class=\"sk-serial\"><div class=\"sk-item\"><div class=\"sk-estimator sk-toggleable\"><input class=\"sk-toggleable__control sk-hidden--visually\" id=\"sk-estimator-id-4\" type=\"checkbox\" ><label for=\"sk-estimator-id-4\" class=\"sk-toggleable__label sk-toggleable__label-arrow\">SVC</label><div class=\"sk-toggleable__content\"><pre>SVC()</pre></div></div></div></div></div></div></div></div></div></div>"
      ],
      "text/plain": [
       "GridSearchCV(estimator=SVC(),\n",
       "             param_grid={'C': [1, 10, 20, 57], 'gamma': [1, 0.01, 0.03, 0.07],\n",
       "                         'kernel': ['poly', 'rbf', 'sigmoid']},\n",
       "             verbose=2)"
      ]
     },
     "execution_count": 33,
     "metadata": {},
     "output_type": "execute_result"
    }
   ],
   "source": [
    "from sklearn.model_selection import GridSearchCV\n",
    "svm_clf = {'C':[1,10,20,57],\n",
    "           'gamma':[1,0.01,0.03,0.07],\n",
    "           'kernel':['poly','rbf','sigmoid'],\n",
    "            }\n",
    "\n",
    "svm_grid = GridSearchCV(SVC(),svm_clf,refit=True,verbose=2)\n",
    "svm_grid.fit(X_train,y_train)"
   ]
  },
  {
   "cell_type": "code",
   "execution_count": 34,
   "id": "aaf890f3",
   "metadata": {},
   "outputs": [
    {
     "name": "stdout",
     "output_type": "stream",
     "text": [
      "Tuned Parameters:  {'C': 57, 'gamma': 1, 'kernel': 'rbf'}\n",
      "Accuracy :  0.8395604395604395\n"
     ]
    }
   ],
   "source": [
    "print(\"Tuned Parameters: \",svm_grid.best_params_)\n",
    "print(\"Accuracy : \", svm_grid.best_score_)"
   ]
  },
  {
   "cell_type": "code",
   "execution_count": 35,
   "id": "f1e3fca1",
   "metadata": {},
   "outputs": [
    {
     "name": "stdout",
     "output_type": "stream",
     "text": [
      "SVC(C=57, gamma=1, probability=True)\n"
     ]
    }
   ],
   "source": [
    "svm=SVC(C=57,kernel='rbf',gamma=1,probability=True)\n",
    "print(svm)"
   ]
  },
  {
   "cell_type": "code",
   "execution_count": 36,
   "id": "d156dd23",
   "metadata": {},
   "outputs": [
    {
     "data": {
      "text/html": [
       "<style>#sk-container-id-3 {color: black;background-color: white;}#sk-container-id-3 pre{padding: 0;}#sk-container-id-3 div.sk-toggleable {background-color: white;}#sk-container-id-3 label.sk-toggleable__label {cursor: pointer;display: block;width: 100%;margin-bottom: 0;padding: 0.3em;box-sizing: border-box;text-align: center;}#sk-container-id-3 label.sk-toggleable__label-arrow:before {content: \"▸\";float: left;margin-right: 0.25em;color: #696969;}#sk-container-id-3 label.sk-toggleable__label-arrow:hover:before {color: black;}#sk-container-id-3 div.sk-estimator:hover label.sk-toggleable__label-arrow:before {color: black;}#sk-container-id-3 div.sk-toggleable__content {max-height: 0;max-width: 0;overflow: hidden;text-align: left;background-color: #f0f8ff;}#sk-container-id-3 div.sk-toggleable__content pre {margin: 0.2em;color: black;border-radius: 0.25em;background-color: #f0f8ff;}#sk-container-id-3 input.sk-toggleable__control:checked~div.sk-toggleable__content {max-height: 200px;max-width: 100%;overflow: auto;}#sk-container-id-3 input.sk-toggleable__control:checked~label.sk-toggleable__label-arrow:before {content: \"▾\";}#sk-container-id-3 div.sk-estimator input.sk-toggleable__control:checked~label.sk-toggleable__label {background-color: #d4ebff;}#sk-container-id-3 div.sk-label input.sk-toggleable__control:checked~label.sk-toggleable__label {background-color: #d4ebff;}#sk-container-id-3 input.sk-hidden--visually {border: 0;clip: rect(1px 1px 1px 1px);clip: rect(1px, 1px, 1px, 1px);height: 1px;margin: -1px;overflow: hidden;padding: 0;position: absolute;width: 1px;}#sk-container-id-3 div.sk-estimator {font-family: monospace;background-color: #f0f8ff;border: 1px dotted black;border-radius: 0.25em;box-sizing: border-box;margin-bottom: 0.5em;}#sk-container-id-3 div.sk-estimator:hover {background-color: #d4ebff;}#sk-container-id-3 div.sk-parallel-item::after {content: \"\";width: 100%;border-bottom: 1px solid gray;flex-grow: 1;}#sk-container-id-3 div.sk-label:hover label.sk-toggleable__label {background-color: #d4ebff;}#sk-container-id-3 div.sk-serial::before {content: \"\";position: absolute;border-left: 1px solid gray;box-sizing: border-box;top: 0;bottom: 0;left: 50%;z-index: 0;}#sk-container-id-3 div.sk-serial {display: flex;flex-direction: column;align-items: center;background-color: white;padding-right: 0.2em;padding-left: 0.2em;position: relative;}#sk-container-id-3 div.sk-item {position: relative;z-index: 1;}#sk-container-id-3 div.sk-parallel {display: flex;align-items: stretch;justify-content: center;background-color: white;position: relative;}#sk-container-id-3 div.sk-item::before, #sk-container-id-3 div.sk-parallel-item::before {content: \"\";position: absolute;border-left: 1px solid gray;box-sizing: border-box;top: 0;bottom: 0;left: 50%;z-index: -1;}#sk-container-id-3 div.sk-parallel-item {display: flex;flex-direction: column;z-index: 1;position: relative;background-color: white;}#sk-container-id-3 div.sk-parallel-item:first-child::after {align-self: flex-end;width: 50%;}#sk-container-id-3 div.sk-parallel-item:last-child::after {align-self: flex-start;width: 50%;}#sk-container-id-3 div.sk-parallel-item:only-child::after {width: 0;}#sk-container-id-3 div.sk-dashed-wrapped {border: 1px dashed gray;margin: 0 0.4em 0.5em 0.4em;box-sizing: border-box;padding-bottom: 0.4em;background-color: white;}#sk-container-id-3 div.sk-label label {font-family: monospace;font-weight: bold;display: inline-block;line-height: 1.2em;}#sk-container-id-3 div.sk-label-container {text-align: center;}#sk-container-id-3 div.sk-container {/* jupyter's `normalize.less` sets `[hidden] { display: none; }` but bootstrap.min.css set `[hidden] { display: none !important; }` so we also need the `!important` here to be able to override the default hidden behavior on the sphinx rendered scikit-learn.org. See: https://github.com/scikit-learn/scikit-learn/issues/21755 */display: inline-block !important;position: relative;}#sk-container-id-3 div.sk-text-repr-fallback {display: none;}</style><div id=\"sk-container-id-3\" class=\"sk-top-container\"><div class=\"sk-text-repr-fallback\"><pre>SVC(C=57, gamma=1, probability=True)</pre><b>In a Jupyter environment, please rerun this cell to show the HTML representation or trust the notebook. <br />On GitHub, the HTML representation is unable to render, please try loading this page with nbviewer.org.</b></div><div class=\"sk-container\" hidden><div class=\"sk-item\"><div class=\"sk-estimator sk-toggleable\"><input class=\"sk-toggleable__control sk-hidden--visually\" id=\"sk-estimator-id-5\" type=\"checkbox\" checked><label for=\"sk-estimator-id-5\" class=\"sk-toggleable__label sk-toggleable__label-arrow\">SVC</label><div class=\"sk-toggleable__content\"><pre>SVC(C=57, gamma=1, probability=True)</pre></div></div></div></div></div>"
      ],
      "text/plain": [
       "SVC(C=57, gamma=1, probability=True)"
      ]
     },
     "execution_count": 36,
     "metadata": {},
     "output_type": "execute_result"
    }
   ],
   "source": [
    "svm.fit(X_train,y_train)"
   ]
  },
  {
   "cell_type": "code",
   "execution_count": 37,
   "id": "15bddb4d",
   "metadata": {},
   "outputs": [
    {
     "name": "stdout",
     "output_type": "stream",
     "text": [
      "Accuracy of svm:  0.8440050219711237\n",
      "F1 score of svm:  0.8438886143160222\n",
      "Jaccard Score of svm:  0.7235817575083426\n",
      "The accuracy of the svm classifier on training data is 0.89 out of 1\n",
      "The accuracy of the svm classifier on test data is 0.84 out of 1\n"
     ]
    }
   ],
   "source": [
    "svm_ypred = svm.predict(X_test)\n",
    "svm_accuracy=metrics.accuracy_score(y_test,svm_ypred)\n",
    "svm_f1_score=metrics.f1_score(y_test,svm_ypred,average='weighted')\n",
    "svm_jaccard_score=metrics.jaccard_score(y_test,svm_ypred,pos_label=0)\n",
    "\n",
    "print('Accuracy of svm: ',svm_accuracy)\n",
    "print('F1 score of svm: ',svm_f1_score)\n",
    "print('Jaccard Score of svm: ',svm_jaccard_score)\n",
    "\n",
    "print('The accuracy of the svm classifier on training data is {:.2f} out of 1'.format(svm.score(X_train, y_train)))\n",
    "print('The accuracy of the svm classifier on test data is {:.2f} out of 1'.format(svm.score(X_test, y_test)))"
   ]
  },
  {
   "cell_type": "markdown",
   "id": "2c619643",
   "metadata": {},
   "source": [
    "### Logistic Regression"
   ]
  },
  {
   "cell_type": "code",
   "execution_count": 38,
   "id": "07b4ec71",
   "metadata": {},
   "outputs": [],
   "source": [
    "from sklearn.linear_model import LogisticRegression\n",
    "\n",
    "# instantiate the model (using the default parameters)\n",
    "logreg = LogisticRegression(random_state=16)\n",
    "\n",
    "# fit the model with data\n",
    "logreg.fit(X_train, y_train)\n",
    "\n",
    "y_predlr = logreg.predict(X_test)"
   ]
  },
  {
   "cell_type": "code",
   "execution_count": 39,
   "id": "11e72a9f",
   "metadata": {},
   "outputs": [
    {
     "name": "stdout",
     "output_type": "stream",
     "text": [
      "Accuracy of LR:  0.697112366603892\n",
      "F1 score of LR:  0.6969444269480909\n",
      "Jaccard Score of LR:  0.5433033601514434\n"
     ]
    }
   ],
   "source": [
    "lraccuracy=metrics.accuracy_score(y_test,y_predlr)\n",
    "lrf1_score=metrics.f1_score(y_test,y_predlr,average='weighted')\n",
    "lrjaccard_score=metrics.jaccard_score(y_test,y_predlr,pos_label=0)\n",
    "\n",
    "print('Accuracy of LR: ',lraccuracy)\n",
    "print('F1 score of LR: ',lrf1_score)\n",
    "print('Jaccard Score of LR: ',lrjaccard_score)"
   ]
  },
  {
   "cell_type": "code",
   "execution_count": 40,
   "id": "9a3aa0ea",
   "metadata": {},
   "outputs": [
    {
     "data": {
      "text/html": [
       "<style>#sk-container-id-4 {color: black;background-color: white;}#sk-container-id-4 pre{padding: 0;}#sk-container-id-4 div.sk-toggleable {background-color: white;}#sk-container-id-4 label.sk-toggleable__label {cursor: pointer;display: block;width: 100%;margin-bottom: 0;padding: 0.3em;box-sizing: border-box;text-align: center;}#sk-container-id-4 label.sk-toggleable__label-arrow:before {content: \"▸\";float: left;margin-right: 0.25em;color: #696969;}#sk-container-id-4 label.sk-toggleable__label-arrow:hover:before {color: black;}#sk-container-id-4 div.sk-estimator:hover label.sk-toggleable__label-arrow:before {color: black;}#sk-container-id-4 div.sk-toggleable__content {max-height: 0;max-width: 0;overflow: hidden;text-align: left;background-color: #f0f8ff;}#sk-container-id-4 div.sk-toggleable__content pre {margin: 0.2em;color: black;border-radius: 0.25em;background-color: #f0f8ff;}#sk-container-id-4 input.sk-toggleable__control:checked~div.sk-toggleable__content {max-height: 200px;max-width: 100%;overflow: auto;}#sk-container-id-4 input.sk-toggleable__control:checked~label.sk-toggleable__label-arrow:before {content: \"▾\";}#sk-container-id-4 div.sk-estimator input.sk-toggleable__control:checked~label.sk-toggleable__label {background-color: #d4ebff;}#sk-container-id-4 div.sk-label input.sk-toggleable__control:checked~label.sk-toggleable__label {background-color: #d4ebff;}#sk-container-id-4 input.sk-hidden--visually {border: 0;clip: rect(1px 1px 1px 1px);clip: rect(1px, 1px, 1px, 1px);height: 1px;margin: -1px;overflow: hidden;padding: 0;position: absolute;width: 1px;}#sk-container-id-4 div.sk-estimator {font-family: monospace;background-color: #f0f8ff;border: 1px dotted black;border-radius: 0.25em;box-sizing: border-box;margin-bottom: 0.5em;}#sk-container-id-4 div.sk-estimator:hover {background-color: #d4ebff;}#sk-container-id-4 div.sk-parallel-item::after {content: \"\";width: 100%;border-bottom: 1px solid gray;flex-grow: 1;}#sk-container-id-4 div.sk-label:hover label.sk-toggleable__label {background-color: #d4ebff;}#sk-container-id-4 div.sk-serial::before {content: \"\";position: absolute;border-left: 1px solid gray;box-sizing: border-box;top: 0;bottom: 0;left: 50%;z-index: 0;}#sk-container-id-4 div.sk-serial {display: flex;flex-direction: column;align-items: center;background-color: white;padding-right: 0.2em;padding-left: 0.2em;position: relative;}#sk-container-id-4 div.sk-item {position: relative;z-index: 1;}#sk-container-id-4 div.sk-parallel {display: flex;align-items: stretch;justify-content: center;background-color: white;position: relative;}#sk-container-id-4 div.sk-item::before, #sk-container-id-4 div.sk-parallel-item::before {content: \"\";position: absolute;border-left: 1px solid gray;box-sizing: border-box;top: 0;bottom: 0;left: 50%;z-index: -1;}#sk-container-id-4 div.sk-parallel-item {display: flex;flex-direction: column;z-index: 1;position: relative;background-color: white;}#sk-container-id-4 div.sk-parallel-item:first-child::after {align-self: flex-end;width: 50%;}#sk-container-id-4 div.sk-parallel-item:last-child::after {align-self: flex-start;width: 50%;}#sk-container-id-4 div.sk-parallel-item:only-child::after {width: 0;}#sk-container-id-4 div.sk-dashed-wrapped {border: 1px dashed gray;margin: 0 0.4em 0.5em 0.4em;box-sizing: border-box;padding-bottom: 0.4em;background-color: white;}#sk-container-id-4 div.sk-label label {font-family: monospace;font-weight: bold;display: inline-block;line-height: 1.2em;}#sk-container-id-4 div.sk-label-container {text-align: center;}#sk-container-id-4 div.sk-container {/* jupyter's `normalize.less` sets `[hidden] { display: none; }` but bootstrap.min.css set `[hidden] { display: none !important; }` so we also need the `!important` here to be able to override the default hidden behavior on the sphinx rendered scikit-learn.org. See: https://github.com/scikit-learn/scikit-learn/issues/21755 */display: inline-block !important;position: relative;}#sk-container-id-4 div.sk-text-repr-fallback {display: none;}</style><div id=\"sk-container-id-4\" class=\"sk-top-container\"><div class=\"sk-text-repr-fallback\"><pre>GridSearchCV(cv=5, estimator=LogisticRegression(),\n",
       "             param_grid={&#x27;C&#x27;: array([  1000.        ,   2154.43469003,   4641.58883361,  10000.        ,\n",
       "        21544.34690032,  46415.88833613, 100000.        ]),\n",
       "                         &#x27;penalty&#x27;: [&#x27;l1&#x27;, &#x27;l2&#x27;],\n",
       "                         &#x27;solver&#x27;: [&#x27;lbfgs&#x27;, &#x27;liblinear&#x27;, &#x27;newton-cg&#x27;]},\n",
       "             scoring=&#x27;accuracy&#x27;)</pre><b>In a Jupyter environment, please rerun this cell to show the HTML representation or trust the notebook. <br />On GitHub, the HTML representation is unable to render, please try loading this page with nbviewer.org.</b></div><div class=\"sk-container\" hidden><div class=\"sk-item sk-dashed-wrapped\"><div class=\"sk-label-container\"><div class=\"sk-label sk-toggleable\"><input class=\"sk-toggleable__control sk-hidden--visually\" id=\"sk-estimator-id-6\" type=\"checkbox\" ><label for=\"sk-estimator-id-6\" class=\"sk-toggleable__label sk-toggleable__label-arrow\">GridSearchCV</label><div class=\"sk-toggleable__content\"><pre>GridSearchCV(cv=5, estimator=LogisticRegression(),\n",
       "             param_grid={&#x27;C&#x27;: array([  1000.        ,   2154.43469003,   4641.58883361,  10000.        ,\n",
       "        21544.34690032,  46415.88833613, 100000.        ]),\n",
       "                         &#x27;penalty&#x27;: [&#x27;l1&#x27;, &#x27;l2&#x27;],\n",
       "                         &#x27;solver&#x27;: [&#x27;lbfgs&#x27;, &#x27;liblinear&#x27;, &#x27;newton-cg&#x27;]},\n",
       "             scoring=&#x27;accuracy&#x27;)</pre></div></div></div><div class=\"sk-parallel\"><div class=\"sk-parallel-item\"><div class=\"sk-item\"><div class=\"sk-label-container\"><div class=\"sk-label sk-toggleable\"><input class=\"sk-toggleable__control sk-hidden--visually\" id=\"sk-estimator-id-7\" type=\"checkbox\" ><label for=\"sk-estimator-id-7\" class=\"sk-toggleable__label sk-toggleable__label-arrow\">estimator: LogisticRegression</label><div class=\"sk-toggleable__content\"><pre>LogisticRegression()</pre></div></div></div><div class=\"sk-serial\"><div class=\"sk-item\"><div class=\"sk-estimator sk-toggleable\"><input class=\"sk-toggleable__control sk-hidden--visually\" id=\"sk-estimator-id-8\" type=\"checkbox\" ><label for=\"sk-estimator-id-8\" class=\"sk-toggleable__label sk-toggleable__label-arrow\">LogisticRegression</label><div class=\"sk-toggleable__content\"><pre>LogisticRegression()</pre></div></div></div></div></div></div></div></div></div></div>"
      ],
      "text/plain": [
       "GridSearchCV(cv=5, estimator=LogisticRegression(),\n",
       "             param_grid={'C': array([  1000.        ,   2154.43469003,   4641.58883361,  10000.        ,\n",
       "        21544.34690032,  46415.88833613, 100000.        ]),\n",
       "                         'penalty': ['l1', 'l2'],\n",
       "                         'solver': ['lbfgs', 'liblinear', 'newton-cg']},\n",
       "             scoring='accuracy')"
      ]
     },
     "execution_count": 40,
     "metadata": {},
     "output_type": "execute_result"
    }
   ],
   "source": [
    "from sklearn.linear_model import LogisticRegression\n",
    "from sklearn.model_selection import GridSearchCV\n",
    "\n",
    "lrParameters={\n",
    "    'penalty':['l1','l2'],\n",
    "    'C':np.logspace(3,5,7),\n",
    "    'solver':['lbfgs', 'liblinear', 'newton-cg']\n",
    "}\n",
    "lr=LogisticRegression()\n",
    "lr_grid = GridSearchCV(lr,lrParameters,scoring='accuracy',cv=5)\n",
    "lr_grid.fit(X_train,y_train)"
   ]
  },
  {
   "cell_type": "code",
   "execution_count": 41,
   "id": "b7b74151",
   "metadata": {},
   "outputs": [
    {
     "name": "stdout",
     "output_type": "stream",
     "text": [
      "Tunned Parmeter :  {'C': 1000.0, 'penalty': 'l1', 'solver': 'liblinear'}\n",
      "Accuracy : 0.7131868131868132\n"
     ]
    }
   ],
   "source": [
    "print(\"Tunned Parmeter : \", lr_grid.best_params_)\n",
    "print(\"Accuracy :\",lr_grid.best_score_)"
   ]
  },
  {
   "cell_type": "code",
   "execution_count": 42,
   "id": "368f70d1",
   "metadata": {},
   "outputs": [
    {
     "data": {
      "text/html": [
       "<style>#sk-container-id-5 {color: black;background-color: white;}#sk-container-id-5 pre{padding: 0;}#sk-container-id-5 div.sk-toggleable {background-color: white;}#sk-container-id-5 label.sk-toggleable__label {cursor: pointer;display: block;width: 100%;margin-bottom: 0;padding: 0.3em;box-sizing: border-box;text-align: center;}#sk-container-id-5 label.sk-toggleable__label-arrow:before {content: \"▸\";float: left;margin-right: 0.25em;color: #696969;}#sk-container-id-5 label.sk-toggleable__label-arrow:hover:before {color: black;}#sk-container-id-5 div.sk-estimator:hover label.sk-toggleable__label-arrow:before {color: black;}#sk-container-id-5 div.sk-toggleable__content {max-height: 0;max-width: 0;overflow: hidden;text-align: left;background-color: #f0f8ff;}#sk-container-id-5 div.sk-toggleable__content pre {margin: 0.2em;color: black;border-radius: 0.25em;background-color: #f0f8ff;}#sk-container-id-5 input.sk-toggleable__control:checked~div.sk-toggleable__content {max-height: 200px;max-width: 100%;overflow: auto;}#sk-container-id-5 input.sk-toggleable__control:checked~label.sk-toggleable__label-arrow:before {content: \"▾\";}#sk-container-id-5 div.sk-estimator input.sk-toggleable__control:checked~label.sk-toggleable__label {background-color: #d4ebff;}#sk-container-id-5 div.sk-label input.sk-toggleable__control:checked~label.sk-toggleable__label {background-color: #d4ebff;}#sk-container-id-5 input.sk-hidden--visually {border: 0;clip: rect(1px 1px 1px 1px);clip: rect(1px, 1px, 1px, 1px);height: 1px;margin: -1px;overflow: hidden;padding: 0;position: absolute;width: 1px;}#sk-container-id-5 div.sk-estimator {font-family: monospace;background-color: #f0f8ff;border: 1px dotted black;border-radius: 0.25em;box-sizing: border-box;margin-bottom: 0.5em;}#sk-container-id-5 div.sk-estimator:hover {background-color: #d4ebff;}#sk-container-id-5 div.sk-parallel-item::after {content: \"\";width: 100%;border-bottom: 1px solid gray;flex-grow: 1;}#sk-container-id-5 div.sk-label:hover label.sk-toggleable__label {background-color: #d4ebff;}#sk-container-id-5 div.sk-serial::before {content: \"\";position: absolute;border-left: 1px solid gray;box-sizing: border-box;top: 0;bottom: 0;left: 50%;z-index: 0;}#sk-container-id-5 div.sk-serial {display: flex;flex-direction: column;align-items: center;background-color: white;padding-right: 0.2em;padding-left: 0.2em;position: relative;}#sk-container-id-5 div.sk-item {position: relative;z-index: 1;}#sk-container-id-5 div.sk-parallel {display: flex;align-items: stretch;justify-content: center;background-color: white;position: relative;}#sk-container-id-5 div.sk-item::before, #sk-container-id-5 div.sk-parallel-item::before {content: \"\";position: absolute;border-left: 1px solid gray;box-sizing: border-box;top: 0;bottom: 0;left: 50%;z-index: -1;}#sk-container-id-5 div.sk-parallel-item {display: flex;flex-direction: column;z-index: 1;position: relative;background-color: white;}#sk-container-id-5 div.sk-parallel-item:first-child::after {align-self: flex-end;width: 50%;}#sk-container-id-5 div.sk-parallel-item:last-child::after {align-self: flex-start;width: 50%;}#sk-container-id-5 div.sk-parallel-item:only-child::after {width: 0;}#sk-container-id-5 div.sk-dashed-wrapped {border: 1px dashed gray;margin: 0 0.4em 0.5em 0.4em;box-sizing: border-box;padding-bottom: 0.4em;background-color: white;}#sk-container-id-5 div.sk-label label {font-family: monospace;font-weight: bold;display: inline-block;line-height: 1.2em;}#sk-container-id-5 div.sk-label-container {text-align: center;}#sk-container-id-5 div.sk-container {/* jupyter's `normalize.less` sets `[hidden] { display: none; }` but bootstrap.min.css set `[hidden] { display: none !important; }` so we also need the `!important` here to be able to override the default hidden behavior on the sphinx rendered scikit-learn.org. See: https://github.com/scikit-learn/scikit-learn/issues/21755 */display: inline-block !important;position: relative;}#sk-container-id-5 div.sk-text-repr-fallback {display: none;}</style><div id=\"sk-container-id-5\" class=\"sk-top-container\"><div class=\"sk-text-repr-fallback\"><pre>LogisticRegression(C=1000.0, penalty=&#x27;l1&#x27;, solver=&#x27;liblinear&#x27;)</pre><b>In a Jupyter environment, please rerun this cell to show the HTML representation or trust the notebook. <br />On GitHub, the HTML representation is unable to render, please try loading this page with nbviewer.org.</b></div><div class=\"sk-container\" hidden><div class=\"sk-item\"><div class=\"sk-estimator sk-toggleable\"><input class=\"sk-toggleable__control sk-hidden--visually\" id=\"sk-estimator-id-9\" type=\"checkbox\" checked><label for=\"sk-estimator-id-9\" class=\"sk-toggleable__label sk-toggleable__label-arrow\">LogisticRegression</label><div class=\"sk-toggleable__content\"><pre>LogisticRegression(C=1000.0, penalty=&#x27;l1&#x27;, solver=&#x27;liblinear&#x27;)</pre></div></div></div></div></div>"
      ],
      "text/plain": [
       "LogisticRegression(C=1000.0, penalty='l1', solver='liblinear')"
      ]
     },
     "execution_count": 42,
     "metadata": {},
     "output_type": "execute_result"
    }
   ],
   "source": [
    "log_reg_tunned = lr_grid.best_estimator_\n",
    "log_reg_tunned.fit(X_train,y_train)"
   ]
  },
  {
   "cell_type": "code",
   "execution_count": 44,
   "id": "f52da715",
   "metadata": {},
   "outputs": [
    {
     "name": "stdout",
     "output_type": "stream",
     "text": [
      "Accuracy of LR:  0.6980539861895794\n",
      "F1 score of LR:  0.6978910057249199\n",
      "Jaccard Score of LR:  0.5442918048318333\n"
     ]
    }
   ],
   "source": [
    "lr_predicted=log_reg_tunned.predict(X_test)\n",
    "lr_accuracy=metrics.accuracy_score(y_test,lr_predicted)\n",
    "lr_f1_score=metrics.f1_score(y_test,lr_predicted,average='weighted')\n",
    "lr_jaccard_score=metrics.jaccard_score(y_test,lr_predicted,pos_label=0)\n",
    "\n",
    "print('Accuracy of LR: ',lr_accuracy)\n",
    "print('F1 score of LR: ',lr_f1_score)\n",
    "print('Jaccard Score of LR: ',lr_jaccard_score)"
   ]
  },
  {
   "cell_type": "markdown",
   "id": "f1c39477",
   "metadata": {},
   "source": [
    "### Hyperparameter tunning for RandomForestClassifier and DecisionTreeClassifier"
   ]
  },
  {
   "cell_type": "code",
   "execution_count": 45,
   "id": "0b1af9f8",
   "metadata": {},
   "outputs": [],
   "source": [
    "from sklearn.ensemble import RandomForestClassifier\n",
    "from sklearn.tree import DecisionTreeClassifier"
   ]
  },
  {
   "cell_type": "code",
   "execution_count": 46,
   "id": "6c2fc592",
   "metadata": {},
   "outputs": [],
   "source": [
    "model_param={\n",
    "    'random_forest':{\n",
    "        'model': RandomForestClassifier(),\n",
    "        'params': {\n",
    "            'n_estimators':[10,25,30,50,100,200],\n",
    "            'max_depth': [2,3,5,10,20],\n",
    "            'min_samples_leaf': [5,10,20,50,100,200]\n",
    "        }\n",
    "    },\n",
    "    \n",
    "    'decision_tree': {\n",
    "        'model': DecisionTreeClassifier(),\n",
    "        'params': {\n",
    "            'criterion':['gini','entropy'],\n",
    "            'max_features':['auto','sqrt','log2'],\n",
    "            'max_depth':[6,7,8,9],\n",
    "            'ccp_alpha': [0.1, .01, .001]\n",
    "        }\n",
    "    }\n",
    "}"
   ]
  },
  {
   "cell_type": "code",
   "execution_count": 47,
   "id": "6882fabe",
   "metadata": {},
   "outputs": [],
   "source": [
    "scores=[]\n",
    "for model_name,mp in model_param.items():\n",
    "    clf=GridSearchCV(mp['model'], mp['params'])\n",
    "    clf.fit(X_train,y_train)\n",
    "    scores.append({\n",
    "        'model':model_name,\n",
    "        'best_score':clf.best_score_,\n",
    "        'best_params':clf.best_params_\n",
    "    })"
   ]
  },
  {
   "cell_type": "code",
   "execution_count": 48,
   "id": "b4c9cf1b",
   "metadata": {},
   "outputs": [
    {
     "data": {
      "text/plain": [
       "[{'model': 'random_forest',\n",
       "  'best_score': 0.863657770800628,\n",
       "  'best_params': {'max_depth': 20,\n",
       "   'min_samples_leaf': 5,\n",
       "   'n_estimators': 100}},\n",
       " {'model': 'decision_tree',\n",
       "  'best_score': 0.783751962323391,\n",
       "  'best_params': {'ccp_alpha': 0.001,\n",
       "   'criterion': 'entropy',\n",
       "   'max_depth': 8,\n",
       "   'max_features': 'auto'}}]"
      ]
     },
     "execution_count": 48,
     "metadata": {},
     "output_type": "execute_result"
    }
   ],
   "source": [
    "scores"
   ]
  },
  {
   "cell_type": "markdown",
   "id": "a3291895",
   "metadata": {},
   "source": [
    "### Random Forest Classifier"
   ]
  },
  {
   "cell_type": "code",
   "execution_count": 49,
   "id": "504d252a",
   "metadata": {},
   "outputs": [
    {
     "data": {
      "text/html": [
       "<style>#sk-container-id-6 {color: black;background-color: white;}#sk-container-id-6 pre{padding: 0;}#sk-container-id-6 div.sk-toggleable {background-color: white;}#sk-container-id-6 label.sk-toggleable__label {cursor: pointer;display: block;width: 100%;margin-bottom: 0;padding: 0.3em;box-sizing: border-box;text-align: center;}#sk-container-id-6 label.sk-toggleable__label-arrow:before {content: \"▸\";float: left;margin-right: 0.25em;color: #696969;}#sk-container-id-6 label.sk-toggleable__label-arrow:hover:before {color: black;}#sk-container-id-6 div.sk-estimator:hover label.sk-toggleable__label-arrow:before {color: black;}#sk-container-id-6 div.sk-toggleable__content {max-height: 0;max-width: 0;overflow: hidden;text-align: left;background-color: #f0f8ff;}#sk-container-id-6 div.sk-toggleable__content pre {margin: 0.2em;color: black;border-radius: 0.25em;background-color: #f0f8ff;}#sk-container-id-6 input.sk-toggleable__control:checked~div.sk-toggleable__content {max-height: 200px;max-width: 100%;overflow: auto;}#sk-container-id-6 input.sk-toggleable__control:checked~label.sk-toggleable__label-arrow:before {content: \"▾\";}#sk-container-id-6 div.sk-estimator input.sk-toggleable__control:checked~label.sk-toggleable__label {background-color: #d4ebff;}#sk-container-id-6 div.sk-label input.sk-toggleable__control:checked~label.sk-toggleable__label {background-color: #d4ebff;}#sk-container-id-6 input.sk-hidden--visually {border: 0;clip: rect(1px 1px 1px 1px);clip: rect(1px, 1px, 1px, 1px);height: 1px;margin: -1px;overflow: hidden;padding: 0;position: absolute;width: 1px;}#sk-container-id-6 div.sk-estimator {font-family: monospace;background-color: #f0f8ff;border: 1px dotted black;border-radius: 0.25em;box-sizing: border-box;margin-bottom: 0.5em;}#sk-container-id-6 div.sk-estimator:hover {background-color: #d4ebff;}#sk-container-id-6 div.sk-parallel-item::after {content: \"\";width: 100%;border-bottom: 1px solid gray;flex-grow: 1;}#sk-container-id-6 div.sk-label:hover label.sk-toggleable__label {background-color: #d4ebff;}#sk-container-id-6 div.sk-serial::before {content: \"\";position: absolute;border-left: 1px solid gray;box-sizing: border-box;top: 0;bottom: 0;left: 50%;z-index: 0;}#sk-container-id-6 div.sk-serial {display: flex;flex-direction: column;align-items: center;background-color: white;padding-right: 0.2em;padding-left: 0.2em;position: relative;}#sk-container-id-6 div.sk-item {position: relative;z-index: 1;}#sk-container-id-6 div.sk-parallel {display: flex;align-items: stretch;justify-content: center;background-color: white;position: relative;}#sk-container-id-6 div.sk-item::before, #sk-container-id-6 div.sk-parallel-item::before {content: \"\";position: absolute;border-left: 1px solid gray;box-sizing: border-box;top: 0;bottom: 0;left: 50%;z-index: -1;}#sk-container-id-6 div.sk-parallel-item {display: flex;flex-direction: column;z-index: 1;position: relative;background-color: white;}#sk-container-id-6 div.sk-parallel-item:first-child::after {align-self: flex-end;width: 50%;}#sk-container-id-6 div.sk-parallel-item:last-child::after {align-self: flex-start;width: 50%;}#sk-container-id-6 div.sk-parallel-item:only-child::after {width: 0;}#sk-container-id-6 div.sk-dashed-wrapped {border: 1px dashed gray;margin: 0 0.4em 0.5em 0.4em;box-sizing: border-box;padding-bottom: 0.4em;background-color: white;}#sk-container-id-6 div.sk-label label {font-family: monospace;font-weight: bold;display: inline-block;line-height: 1.2em;}#sk-container-id-6 div.sk-label-container {text-align: center;}#sk-container-id-6 div.sk-container {/* jupyter's `normalize.less` sets `[hidden] { display: none; }` but bootstrap.min.css set `[hidden] { display: none !important; }` so we also need the `!important` here to be able to override the default hidden behavior on the sphinx rendered scikit-learn.org. See: https://github.com/scikit-learn/scikit-learn/issues/21755 */display: inline-block !important;position: relative;}#sk-container-id-6 div.sk-text-repr-fallback {display: none;}</style><div id=\"sk-container-id-6\" class=\"sk-top-container\"><div class=\"sk-text-repr-fallback\"><pre>RandomForestClassifier(max_depth=20, min_samples_leaf=5)</pre><b>In a Jupyter environment, please rerun this cell to show the HTML representation or trust the notebook. <br />On GitHub, the HTML representation is unable to render, please try loading this page with nbviewer.org.</b></div><div class=\"sk-container\" hidden><div class=\"sk-item\"><div class=\"sk-estimator sk-toggleable\"><input class=\"sk-toggleable__control sk-hidden--visually\" id=\"sk-estimator-id-10\" type=\"checkbox\" checked><label for=\"sk-estimator-id-10\" class=\"sk-toggleable__label sk-toggleable__label-arrow\">RandomForestClassifier</label><div class=\"sk-toggleable__content\"><pre>RandomForestClassifier(max_depth=20, min_samples_leaf=5)</pre></div></div></div></div></div>"
      ],
      "text/plain": [
       "RandomForestClassifier(max_depth=20, min_samples_leaf=5)"
      ]
     },
     "execution_count": 49,
     "metadata": {},
     "output_type": "execute_result"
    }
   ],
   "source": [
    "rf_classifier = RandomForestClassifier(max_depth= 20,\n",
    "   min_samples_leaf= 5,\n",
    "   n_estimators= 100)\n",
    "rf_classifier.fit(X_train,y_train)"
   ]
  },
  {
   "cell_type": "code",
   "execution_count": 50,
   "id": "25237c31",
   "metadata": {},
   "outputs": [
    {
     "name": "stdout",
     "output_type": "stream",
     "text": [
      "Accuracy of Random Forest:  0.8772755806654112\n",
      "F1 score of Random Forest:  0.8772746013379615\n",
      "Jaccard Score of Random Forest:  0.780829596412556\n"
     ]
    }
   ],
   "source": [
    "rf_ypred = rf_classifier.predict(X_test)\n",
    "\n",
    "rf_accuracy=metrics.accuracy_score(y_test,rf_ypred)\n",
    "rf_f1_score=metrics.f1_score(y_test,rf_ypred,average='weighted')\n",
    "rf_jaccard_score=metrics.jaccard_score(y_test,rf_ypred,pos_label=0)\n",
    "\n",
    "print('Accuracy of Random Forest: ',rf_accuracy)\n",
    "print('F1 score of Random Forest: ',rf_f1_score)\n",
    "print('Jaccard Score of Random Forest: ',rf_jaccard_score)"
   ]
  },
  {
   "cell_type": "markdown",
   "id": "ccfdad43",
   "metadata": {},
   "source": [
    "### Decision Tree Classifier"
   ]
  },
  {
   "cell_type": "code",
   "execution_count": 51,
   "id": "d4fe793b",
   "metadata": {},
   "outputs": [
    {
     "data": {
      "text/html": [
       "<style>#sk-container-id-7 {color: black;background-color: white;}#sk-container-id-7 pre{padding: 0;}#sk-container-id-7 div.sk-toggleable {background-color: white;}#sk-container-id-7 label.sk-toggleable__label {cursor: pointer;display: block;width: 100%;margin-bottom: 0;padding: 0.3em;box-sizing: border-box;text-align: center;}#sk-container-id-7 label.sk-toggleable__label-arrow:before {content: \"▸\";float: left;margin-right: 0.25em;color: #696969;}#sk-container-id-7 label.sk-toggleable__label-arrow:hover:before {color: black;}#sk-container-id-7 div.sk-estimator:hover label.sk-toggleable__label-arrow:before {color: black;}#sk-container-id-7 div.sk-toggleable__content {max-height: 0;max-width: 0;overflow: hidden;text-align: left;background-color: #f0f8ff;}#sk-container-id-7 div.sk-toggleable__content pre {margin: 0.2em;color: black;border-radius: 0.25em;background-color: #f0f8ff;}#sk-container-id-7 input.sk-toggleable__control:checked~div.sk-toggleable__content {max-height: 200px;max-width: 100%;overflow: auto;}#sk-container-id-7 input.sk-toggleable__control:checked~label.sk-toggleable__label-arrow:before {content: \"▾\";}#sk-container-id-7 div.sk-estimator input.sk-toggleable__control:checked~label.sk-toggleable__label {background-color: #d4ebff;}#sk-container-id-7 div.sk-label input.sk-toggleable__control:checked~label.sk-toggleable__label {background-color: #d4ebff;}#sk-container-id-7 input.sk-hidden--visually {border: 0;clip: rect(1px 1px 1px 1px);clip: rect(1px, 1px, 1px, 1px);height: 1px;margin: -1px;overflow: hidden;padding: 0;position: absolute;width: 1px;}#sk-container-id-7 div.sk-estimator {font-family: monospace;background-color: #f0f8ff;border: 1px dotted black;border-radius: 0.25em;box-sizing: border-box;margin-bottom: 0.5em;}#sk-container-id-7 div.sk-estimator:hover {background-color: #d4ebff;}#sk-container-id-7 div.sk-parallel-item::after {content: \"\";width: 100%;border-bottom: 1px solid gray;flex-grow: 1;}#sk-container-id-7 div.sk-label:hover label.sk-toggleable__label {background-color: #d4ebff;}#sk-container-id-7 div.sk-serial::before {content: \"\";position: absolute;border-left: 1px solid gray;box-sizing: border-box;top: 0;bottom: 0;left: 50%;z-index: 0;}#sk-container-id-7 div.sk-serial {display: flex;flex-direction: column;align-items: center;background-color: white;padding-right: 0.2em;padding-left: 0.2em;position: relative;}#sk-container-id-7 div.sk-item {position: relative;z-index: 1;}#sk-container-id-7 div.sk-parallel {display: flex;align-items: stretch;justify-content: center;background-color: white;position: relative;}#sk-container-id-7 div.sk-item::before, #sk-container-id-7 div.sk-parallel-item::before {content: \"\";position: absolute;border-left: 1px solid gray;box-sizing: border-box;top: 0;bottom: 0;left: 50%;z-index: -1;}#sk-container-id-7 div.sk-parallel-item {display: flex;flex-direction: column;z-index: 1;position: relative;background-color: white;}#sk-container-id-7 div.sk-parallel-item:first-child::after {align-self: flex-end;width: 50%;}#sk-container-id-7 div.sk-parallel-item:last-child::after {align-self: flex-start;width: 50%;}#sk-container-id-7 div.sk-parallel-item:only-child::after {width: 0;}#sk-container-id-7 div.sk-dashed-wrapped {border: 1px dashed gray;margin: 0 0.4em 0.5em 0.4em;box-sizing: border-box;padding-bottom: 0.4em;background-color: white;}#sk-container-id-7 div.sk-label label {font-family: monospace;font-weight: bold;display: inline-block;line-height: 1.2em;}#sk-container-id-7 div.sk-label-container {text-align: center;}#sk-container-id-7 div.sk-container {/* jupyter's `normalize.less` sets `[hidden] { display: none; }` but bootstrap.min.css set `[hidden] { display: none !important; }` so we also need the `!important` here to be able to override the default hidden behavior on the sphinx rendered scikit-learn.org. See: https://github.com/scikit-learn/scikit-learn/issues/21755 */display: inline-block !important;position: relative;}#sk-container-id-7 div.sk-text-repr-fallback {display: none;}</style><div id=\"sk-container-id-7\" class=\"sk-top-container\"><div class=\"sk-text-repr-fallback\"><pre>DecisionTreeClassifier(ccp_alpha=0.001, criterion=&#x27;entropy&#x27;, max_depth=8,\n",
       "                       max_features=&#x27;auto&#x27;)</pre><b>In a Jupyter environment, please rerun this cell to show the HTML representation or trust the notebook. <br />On GitHub, the HTML representation is unable to render, please try loading this page with nbviewer.org.</b></div><div class=\"sk-container\" hidden><div class=\"sk-item\"><div class=\"sk-estimator sk-toggleable\"><input class=\"sk-toggleable__control sk-hidden--visually\" id=\"sk-estimator-id-11\" type=\"checkbox\" checked><label for=\"sk-estimator-id-11\" class=\"sk-toggleable__label sk-toggleable__label-arrow\">DecisionTreeClassifier</label><div class=\"sk-toggleable__content\"><pre>DecisionTreeClassifier(ccp_alpha=0.001, criterion=&#x27;entropy&#x27;, max_depth=8,\n",
       "                       max_features=&#x27;auto&#x27;)</pre></div></div></div></div></div>"
      ],
      "text/plain": [
       "DecisionTreeClassifier(ccp_alpha=0.001, criterion='entropy', max_depth=8,\n",
       "                       max_features='auto')"
      ]
     },
     "execution_count": 51,
     "metadata": {},
     "output_type": "execute_result"
    }
   ],
   "source": [
    "dt_classifier = DecisionTreeClassifier(ccp_alpha= 0.001,\n",
    "   criterion= 'entropy',\n",
    "   max_depth= 8,\n",
    "   max_features= 'auto')\n",
    "dt_classifier.fit(X_train,y_train)"
   ]
  },
  {
   "cell_type": "code",
   "execution_count": 52,
   "id": "8077dd18",
   "metadata": {},
   "outputs": [
    {
     "name": "stdout",
     "output_type": "stream",
     "text": [
      "Accuracy of Decision Tree:  0.7919020715630886\n",
      "F1 score of Decision Tree:  0.7919010670065366\n",
      "Jaccard Score of  Decision Tree:  0.6561203319502075\n"
     ]
    }
   ],
   "source": [
    "dt_ypred = dt_classifier.predict(X_test)\n",
    "\n",
    "dt_accuracy=metrics.accuracy_score(y_test,dt_ypred)\n",
    "dt_f1_score=metrics.f1_score(y_test,dt_ypred,average='weighted')\n",
    "dt_jaccard_score=metrics.jaccard_score(y_test,dt_ypred,pos_label=0)\n",
    "\n",
    "print('Accuracy of Decision Tree: ',dt_accuracy)\n",
    "print('F1 score of Decision Tree: ',dt_f1_score)\n",
    "print('Jaccard Score of  Decision Tree: ',dt_jaccard_score)"
   ]
  },
  {
   "cell_type": "markdown",
   "id": "24f0a695",
   "metadata": {},
   "source": [
    "### XGBoost Classifier"
   ]
  },
  {
   "cell_type": "code",
   "execution_count": 56,
   "id": "872bbc6c",
   "metadata": {},
   "outputs": [
    {
     "name": "stdout",
     "output_type": "stream",
     "text": [
      "Collecting xgboost\n",
      "  Downloading xgboost-2.0.3-py3-none-win_amd64.whl (99.8 MB)\n",
      "     -------------------------------------- 99.8/99.8 MB 637.6 kB/s eta 0:00:00\n",
      "Requirement already satisfied: numpy in c:\\users\\admin\\appdata\\local\\programs\\python\\python310\\lib\\site-packages (from xgboost) (1.23.5)\n",
      "Requirement already satisfied: scipy in c:\\users\\admin\\appdata\\local\\programs\\python\\python310\\lib\\site-packages (from xgboost) (1.10.1)\n",
      "Installing collected packages: xgboost\n",
      "Successfully installed xgboost-2.0.3\n"
     ]
    },
    {
     "name": "stderr",
     "output_type": "stream",
     "text": [
      "\n",
      "[notice] A new release of pip is available: 23.1.2 -> 24.0\n",
      "[notice] To update, run: python.exe -m pip install --upgrade pip\n"
     ]
    }
   ],
   "source": [
    "!pip install xgboost"
   ]
  },
  {
   "cell_type": "code",
   "execution_count": 58,
   "id": "233bd82d",
   "metadata": {},
   "outputs": [],
   "source": [
    "import xgboost as xgb\n",
    "param_grid = {'xgbclassifier__gamma': [0.5, 0.8, 1],\n",
    "              'xgbclassifier__max_depth': [3, 4, 5, 6],\n",
    "              'xgbclassifier__n_estimators': [50, 100, 200]\n",
    "        }\n",
    "grid = GridSearchCV(xgb.XGBClassifier(), param_grid, verbose=3, cv= 5, n_jobs=4, scoring='f1_macro')"
   ]
  },
  {
   "cell_type": "code",
   "execution_count": 60,
   "id": "4e115226",
   "metadata": {},
   "outputs": [
    {
     "name": "stdout",
     "output_type": "stream",
     "text": [
      "Fitting 5 folds for each of 36 candidates, totalling 180 fits\n"
     ]
    },
    {
     "data": {
      "text/html": [
       "<style>#sk-container-id-8 {color: black;background-color: white;}#sk-container-id-8 pre{padding: 0;}#sk-container-id-8 div.sk-toggleable {background-color: white;}#sk-container-id-8 label.sk-toggleable__label {cursor: pointer;display: block;width: 100%;margin-bottom: 0;padding: 0.3em;box-sizing: border-box;text-align: center;}#sk-container-id-8 label.sk-toggleable__label-arrow:before {content: \"▸\";float: left;margin-right: 0.25em;color: #696969;}#sk-container-id-8 label.sk-toggleable__label-arrow:hover:before {color: black;}#sk-container-id-8 div.sk-estimator:hover label.sk-toggleable__label-arrow:before {color: black;}#sk-container-id-8 div.sk-toggleable__content {max-height: 0;max-width: 0;overflow: hidden;text-align: left;background-color: #f0f8ff;}#sk-container-id-8 div.sk-toggleable__content pre {margin: 0.2em;color: black;border-radius: 0.25em;background-color: #f0f8ff;}#sk-container-id-8 input.sk-toggleable__control:checked~div.sk-toggleable__content {max-height: 200px;max-width: 100%;overflow: auto;}#sk-container-id-8 input.sk-toggleable__control:checked~label.sk-toggleable__label-arrow:before {content: \"▾\";}#sk-container-id-8 div.sk-estimator input.sk-toggleable__control:checked~label.sk-toggleable__label {background-color: #d4ebff;}#sk-container-id-8 div.sk-label input.sk-toggleable__control:checked~label.sk-toggleable__label {background-color: #d4ebff;}#sk-container-id-8 input.sk-hidden--visually {border: 0;clip: rect(1px 1px 1px 1px);clip: rect(1px, 1px, 1px, 1px);height: 1px;margin: -1px;overflow: hidden;padding: 0;position: absolute;width: 1px;}#sk-container-id-8 div.sk-estimator {font-family: monospace;background-color: #f0f8ff;border: 1px dotted black;border-radius: 0.25em;box-sizing: border-box;margin-bottom: 0.5em;}#sk-container-id-8 div.sk-estimator:hover {background-color: #d4ebff;}#sk-container-id-8 div.sk-parallel-item::after {content: \"\";width: 100%;border-bottom: 1px solid gray;flex-grow: 1;}#sk-container-id-8 div.sk-label:hover label.sk-toggleable__label {background-color: #d4ebff;}#sk-container-id-8 div.sk-serial::before {content: \"\";position: absolute;border-left: 1px solid gray;box-sizing: border-box;top: 0;bottom: 0;left: 50%;z-index: 0;}#sk-container-id-8 div.sk-serial {display: flex;flex-direction: column;align-items: center;background-color: white;padding-right: 0.2em;padding-left: 0.2em;position: relative;}#sk-container-id-8 div.sk-item {position: relative;z-index: 1;}#sk-container-id-8 div.sk-parallel {display: flex;align-items: stretch;justify-content: center;background-color: white;position: relative;}#sk-container-id-8 div.sk-item::before, #sk-container-id-8 div.sk-parallel-item::before {content: \"\";position: absolute;border-left: 1px solid gray;box-sizing: border-box;top: 0;bottom: 0;left: 50%;z-index: -1;}#sk-container-id-8 div.sk-parallel-item {display: flex;flex-direction: column;z-index: 1;position: relative;background-color: white;}#sk-container-id-8 div.sk-parallel-item:first-child::after {align-self: flex-end;width: 50%;}#sk-container-id-8 div.sk-parallel-item:last-child::after {align-self: flex-start;width: 50%;}#sk-container-id-8 div.sk-parallel-item:only-child::after {width: 0;}#sk-container-id-8 div.sk-dashed-wrapped {border: 1px dashed gray;margin: 0 0.4em 0.5em 0.4em;box-sizing: border-box;padding-bottom: 0.4em;background-color: white;}#sk-container-id-8 div.sk-label label {font-family: monospace;font-weight: bold;display: inline-block;line-height: 1.2em;}#sk-container-id-8 div.sk-label-container {text-align: center;}#sk-container-id-8 div.sk-container {/* jupyter's `normalize.less` sets `[hidden] { display: none; }` but bootstrap.min.css set `[hidden] { display: none !important; }` so we also need the `!important` here to be able to override the default hidden behavior on the sphinx rendered scikit-learn.org. See: https://github.com/scikit-learn/scikit-learn/issues/21755 */display: inline-block !important;position: relative;}#sk-container-id-8 div.sk-text-repr-fallback {display: none;}</style><div id=\"sk-container-id-8\" class=\"sk-top-container\"><div class=\"sk-text-repr-fallback\"><pre>GridSearchCV(cv=5,\n",
       "             estimator=XGBClassifier(base_score=None, booster=None,\n",
       "                                     callbacks=None, colsample_bylevel=None,\n",
       "                                     colsample_bynode=None,\n",
       "                                     colsample_bytree=None, device=None,\n",
       "                                     early_stopping_rounds=None,\n",
       "                                     enable_categorical=False, eval_metric=None,\n",
       "                                     feature_types=None, gamma=None,\n",
       "                                     grow_policy=None, importance_type=None,\n",
       "                                     interaction_constraints=None,\n",
       "                                     learning_rate=None,...\n",
       "                                     max_delta_step=None, max_depth=None,\n",
       "                                     max_leaves=None, min_child_weight=None,\n",
       "                                     missing=nan, monotone_constraints=None,\n",
       "                                     multi_strategy=None, n_estimators=None,\n",
       "                                     n_jobs=None, num_parallel_tree=None,\n",
       "                                     random_state=None, ...),\n",
       "             n_jobs=4,\n",
       "             param_grid={&#x27;xgbclassifier__gamma&#x27;: [0.5, 0.8, 1],\n",
       "                         &#x27;xgbclassifier__max_depth&#x27;: [3, 4, 5, 6],\n",
       "                         &#x27;xgbclassifier__n_estimators&#x27;: [50, 100, 200]},\n",
       "             scoring=&#x27;f1_macro&#x27;, verbose=3)</pre><b>In a Jupyter environment, please rerun this cell to show the HTML representation or trust the notebook. <br />On GitHub, the HTML representation is unable to render, please try loading this page with nbviewer.org.</b></div><div class=\"sk-container\" hidden><div class=\"sk-item sk-dashed-wrapped\"><div class=\"sk-label-container\"><div class=\"sk-label sk-toggleable\"><input class=\"sk-toggleable__control sk-hidden--visually\" id=\"sk-estimator-id-12\" type=\"checkbox\" ><label for=\"sk-estimator-id-12\" class=\"sk-toggleable__label sk-toggleable__label-arrow\">GridSearchCV</label><div class=\"sk-toggleable__content\"><pre>GridSearchCV(cv=5,\n",
       "             estimator=XGBClassifier(base_score=None, booster=None,\n",
       "                                     callbacks=None, colsample_bylevel=None,\n",
       "                                     colsample_bynode=None,\n",
       "                                     colsample_bytree=None, device=None,\n",
       "                                     early_stopping_rounds=None,\n",
       "                                     enable_categorical=False, eval_metric=None,\n",
       "                                     feature_types=None, gamma=None,\n",
       "                                     grow_policy=None, importance_type=None,\n",
       "                                     interaction_constraints=None,\n",
       "                                     learning_rate=None,...\n",
       "                                     max_delta_step=None, max_depth=None,\n",
       "                                     max_leaves=None, min_child_weight=None,\n",
       "                                     missing=nan, monotone_constraints=None,\n",
       "                                     multi_strategy=None, n_estimators=None,\n",
       "                                     n_jobs=None, num_parallel_tree=None,\n",
       "                                     random_state=None, ...),\n",
       "             n_jobs=4,\n",
       "             param_grid={&#x27;xgbclassifier__gamma&#x27;: [0.5, 0.8, 1],\n",
       "                         &#x27;xgbclassifier__max_depth&#x27;: [3, 4, 5, 6],\n",
       "                         &#x27;xgbclassifier__n_estimators&#x27;: [50, 100, 200]},\n",
       "             scoring=&#x27;f1_macro&#x27;, verbose=3)</pre></div></div></div><div class=\"sk-parallel\"><div class=\"sk-parallel-item\"><div class=\"sk-item\"><div class=\"sk-label-container\"><div class=\"sk-label sk-toggleable\"><input class=\"sk-toggleable__control sk-hidden--visually\" id=\"sk-estimator-id-13\" type=\"checkbox\" ><label for=\"sk-estimator-id-13\" class=\"sk-toggleable__label sk-toggleable__label-arrow\">estimator: XGBClassifier</label><div class=\"sk-toggleable__content\"><pre>XGBClassifier(base_score=None, booster=None, callbacks=None,\n",
       "              colsample_bylevel=None, colsample_bynode=None,\n",
       "              colsample_bytree=None, device=None, early_stopping_rounds=None,\n",
       "              enable_categorical=False, eval_metric=None, feature_types=None,\n",
       "              gamma=None, grow_policy=None, importance_type=None,\n",
       "              interaction_constraints=None, learning_rate=None, max_bin=None,\n",
       "              max_cat_threshold=None, max_cat_to_onehot=None,\n",
       "              max_delta_step=None, max_depth=None, max_leaves=None,\n",
       "              min_child_weight=None, missing=nan, monotone_constraints=None,\n",
       "              multi_strategy=None, n_estimators=None, n_jobs=None,\n",
       "              num_parallel_tree=None, random_state=None, ...)</pre></div></div></div><div class=\"sk-serial\"><div class=\"sk-item\"><div class=\"sk-estimator sk-toggleable\"><input class=\"sk-toggleable__control sk-hidden--visually\" id=\"sk-estimator-id-14\" type=\"checkbox\" ><label for=\"sk-estimator-id-14\" class=\"sk-toggleable__label sk-toggleable__label-arrow\">XGBClassifier</label><div class=\"sk-toggleable__content\"><pre>XGBClassifier(base_score=None, booster=None, callbacks=None,\n",
       "              colsample_bylevel=None, colsample_bynode=None,\n",
       "              colsample_bytree=None, device=None, early_stopping_rounds=None,\n",
       "              enable_categorical=False, eval_metric=None, feature_types=None,\n",
       "              gamma=None, grow_policy=None, importance_type=None,\n",
       "              interaction_constraints=None, learning_rate=None, max_bin=None,\n",
       "              max_cat_threshold=None, max_cat_to_onehot=None,\n",
       "              max_delta_step=None, max_depth=None, max_leaves=None,\n",
       "              min_child_weight=None, missing=nan, monotone_constraints=None,\n",
       "              multi_strategy=None, n_estimators=None, n_jobs=None,\n",
       "              num_parallel_tree=None, random_state=None, ...)</pre></div></div></div></div></div></div></div></div></div></div>"
      ],
      "text/plain": [
       "GridSearchCV(cv=5,\n",
       "             estimator=XGBClassifier(base_score=None, booster=None,\n",
       "                                     callbacks=None, colsample_bylevel=None,\n",
       "                                     colsample_bynode=None,\n",
       "                                     colsample_bytree=None, device=None,\n",
       "                                     early_stopping_rounds=None,\n",
       "                                     enable_categorical=False, eval_metric=None,\n",
       "                                     feature_types=None, gamma=None,\n",
       "                                     grow_policy=None, importance_type=None,\n",
       "                                     interaction_constraints=None,\n",
       "                                     learning_rate=None,...\n",
       "                                     max_delta_step=None, max_depth=None,\n",
       "                                     max_leaves=None, min_child_weight=None,\n",
       "                                     missing=nan, monotone_constraints=None,\n",
       "                                     multi_strategy=None, n_estimators=None,\n",
       "                                     n_jobs=None, num_parallel_tree=None,\n",
       "                                     random_state=None, ...),\n",
       "             n_jobs=4,\n",
       "             param_grid={'xgbclassifier__gamma': [0.5, 0.8, 1],\n",
       "                         'xgbclassifier__max_depth': [3, 4, 5, 6],\n",
       "                         'xgbclassifier__n_estimators': [50, 100, 200]},\n",
       "             scoring='f1_macro', verbose=3)"
      ]
     },
     "execution_count": 60,
     "metadata": {},
     "output_type": "execute_result"
    }
   ],
   "source": [
    "grid.fit(X_train, y_train)"
   ]
  },
  {
   "cell_type": "code",
   "execution_count": 61,
   "id": "f41c12ff",
   "metadata": {},
   "outputs": [
    {
     "name": "stdout",
     "output_type": "stream",
     "text": [
      "{'xgbclassifier__gamma': 0.5, 'xgbclassifier__max_depth': 3, 'xgbclassifier__n_estimators': 50}\n"
     ]
    }
   ],
   "source": [
    "print(grid.best_params_)"
   ]
  },
  {
   "cell_type": "code",
   "execution_count": 62,
   "id": "b31bfb32",
   "metadata": {},
   "outputs": [
    {
     "name": "stdout",
     "output_type": "stream",
     "text": [
      "0.895072209629163\n"
     ]
    }
   ],
   "source": [
    "print(grid.best_score_)"
   ]
  },
  {
   "cell_type": "code",
   "execution_count": 65,
   "id": "34be76e1",
   "metadata": {
    "scrolled": true
   },
   "outputs": [
    {
     "data": {
      "text/html": [
       "<style>#sk-container-id-10 {color: black;background-color: white;}#sk-container-id-10 pre{padding: 0;}#sk-container-id-10 div.sk-toggleable {background-color: white;}#sk-container-id-10 label.sk-toggleable__label {cursor: pointer;display: block;width: 100%;margin-bottom: 0;padding: 0.3em;box-sizing: border-box;text-align: center;}#sk-container-id-10 label.sk-toggleable__label-arrow:before {content: \"▸\";float: left;margin-right: 0.25em;color: #696969;}#sk-container-id-10 label.sk-toggleable__label-arrow:hover:before {color: black;}#sk-container-id-10 div.sk-estimator:hover label.sk-toggleable__label-arrow:before {color: black;}#sk-container-id-10 div.sk-toggleable__content {max-height: 0;max-width: 0;overflow: hidden;text-align: left;background-color: #f0f8ff;}#sk-container-id-10 div.sk-toggleable__content pre {margin: 0.2em;color: black;border-radius: 0.25em;background-color: #f0f8ff;}#sk-container-id-10 input.sk-toggleable__control:checked~div.sk-toggleable__content {max-height: 200px;max-width: 100%;overflow: auto;}#sk-container-id-10 input.sk-toggleable__control:checked~label.sk-toggleable__label-arrow:before {content: \"▾\";}#sk-container-id-10 div.sk-estimator input.sk-toggleable__control:checked~label.sk-toggleable__label {background-color: #d4ebff;}#sk-container-id-10 div.sk-label input.sk-toggleable__control:checked~label.sk-toggleable__label {background-color: #d4ebff;}#sk-container-id-10 input.sk-hidden--visually {border: 0;clip: rect(1px 1px 1px 1px);clip: rect(1px, 1px, 1px, 1px);height: 1px;margin: -1px;overflow: hidden;padding: 0;position: absolute;width: 1px;}#sk-container-id-10 div.sk-estimator {font-family: monospace;background-color: #f0f8ff;border: 1px dotted black;border-radius: 0.25em;box-sizing: border-box;margin-bottom: 0.5em;}#sk-container-id-10 div.sk-estimator:hover {background-color: #d4ebff;}#sk-container-id-10 div.sk-parallel-item::after {content: \"\";width: 100%;border-bottom: 1px solid gray;flex-grow: 1;}#sk-container-id-10 div.sk-label:hover label.sk-toggleable__label {background-color: #d4ebff;}#sk-container-id-10 div.sk-serial::before {content: \"\";position: absolute;border-left: 1px solid gray;box-sizing: border-box;top: 0;bottom: 0;left: 50%;z-index: 0;}#sk-container-id-10 div.sk-serial {display: flex;flex-direction: column;align-items: center;background-color: white;padding-right: 0.2em;padding-left: 0.2em;position: relative;}#sk-container-id-10 div.sk-item {position: relative;z-index: 1;}#sk-container-id-10 div.sk-parallel {display: flex;align-items: stretch;justify-content: center;background-color: white;position: relative;}#sk-container-id-10 div.sk-item::before, #sk-container-id-10 div.sk-parallel-item::before {content: \"\";position: absolute;border-left: 1px solid gray;box-sizing: border-box;top: 0;bottom: 0;left: 50%;z-index: -1;}#sk-container-id-10 div.sk-parallel-item {display: flex;flex-direction: column;z-index: 1;position: relative;background-color: white;}#sk-container-id-10 div.sk-parallel-item:first-child::after {align-self: flex-end;width: 50%;}#sk-container-id-10 div.sk-parallel-item:last-child::after {align-self: flex-start;width: 50%;}#sk-container-id-10 div.sk-parallel-item:only-child::after {width: 0;}#sk-container-id-10 div.sk-dashed-wrapped {border: 1px dashed gray;margin: 0 0.4em 0.5em 0.4em;box-sizing: border-box;padding-bottom: 0.4em;background-color: white;}#sk-container-id-10 div.sk-label label {font-family: monospace;font-weight: bold;display: inline-block;line-height: 1.2em;}#sk-container-id-10 div.sk-label-container {text-align: center;}#sk-container-id-10 div.sk-container {/* jupyter's `normalize.less` sets `[hidden] { display: none; }` but bootstrap.min.css set `[hidden] { display: none !important; }` so we also need the `!important` here to be able to override the default hidden behavior on the sphinx rendered scikit-learn.org. See: https://github.com/scikit-learn/scikit-learn/issues/21755 */display: inline-block !important;position: relative;}#sk-container-id-10 div.sk-text-repr-fallback {display: none;}</style><div id=\"sk-container-id-10\" class=\"sk-top-container\"><div class=\"sk-text-repr-fallback\"><pre>XGBClassifier(base_score=None, booster=None, callbacks=None,\n",
       "              colsample_bylevel=None, colsample_bynode=None,\n",
       "              colsample_bytree=None, device=None, early_stopping_rounds=None,\n",
       "              enable_categorical=False, eval_metric=None, feature_types=None,\n",
       "              gamma=None, grow_policy=None, importance_type=None,\n",
       "              interaction_constraints=None, learning_rate=None, max_bin=None,\n",
       "              max_cat_threshold=None, max_cat_to_onehot=None,\n",
       "              max_delta_step=None, max_depth=None, max_leaves=None,\n",
       "              min_child_weight=None, missing=nan, monotone_constraints=None,\n",
       "              multi_strategy=None, n_estimators=None, n_jobs=None,\n",
       "              num_parallel_tree=None, random_state=None, ...)</pre><b>In a Jupyter environment, please rerun this cell to show the HTML representation or trust the notebook. <br />On GitHub, the HTML representation is unable to render, please try loading this page with nbviewer.org.</b></div><div class=\"sk-container\" hidden><div class=\"sk-item\"><div class=\"sk-estimator sk-toggleable\"><input class=\"sk-toggleable__control sk-hidden--visually\" id=\"sk-estimator-id-16\" type=\"checkbox\" checked><label for=\"sk-estimator-id-16\" class=\"sk-toggleable__label sk-toggleable__label-arrow\">XGBClassifier</label><div class=\"sk-toggleable__content\"><pre>XGBClassifier(base_score=None, booster=None, callbacks=None,\n",
       "              colsample_bylevel=None, colsample_bynode=None,\n",
       "              colsample_bytree=None, device=None, early_stopping_rounds=None,\n",
       "              enable_categorical=False, eval_metric=None, feature_types=None,\n",
       "              gamma=None, grow_policy=None, importance_type=None,\n",
       "              interaction_constraints=None, learning_rate=None, max_bin=None,\n",
       "              max_cat_threshold=None, max_cat_to_onehot=None,\n",
       "              max_delta_step=None, max_depth=None, max_leaves=None,\n",
       "              min_child_weight=None, missing=nan, monotone_constraints=None,\n",
       "              multi_strategy=None, n_estimators=None, n_jobs=None,\n",
       "              num_parallel_tree=None, random_state=None, ...)</pre></div></div></div></div></div>"
      ],
      "text/plain": [
       "XGBClassifier(base_score=None, booster=None, callbacks=None,\n",
       "              colsample_bylevel=None, colsample_bynode=None,\n",
       "              colsample_bytree=None, device=None, early_stopping_rounds=None,\n",
       "              enable_categorical=False, eval_metric=None, feature_types=None,\n",
       "              gamma=None, grow_policy=None, importance_type=None,\n",
       "              interaction_constraints=None, learning_rate=None, max_bin=None,\n",
       "              max_cat_threshold=None, max_cat_to_onehot=None,\n",
       "              max_delta_step=None, max_depth=None, max_leaves=None,\n",
       "              min_child_weight=None, missing=nan, monotone_constraints=None,\n",
       "              multi_strategy=None, n_estimators=None, n_jobs=None,\n",
       "              num_parallel_tree=None, random_state=None, ...)"
      ]
     },
     "execution_count": 65,
     "metadata": {},
     "output_type": "execute_result"
    }
   ],
   "source": [
    "xgbClassifier=grid.best_estimator_\n",
    "xgbClassifier.fit(X_train, y_train)"
   ]
  },
  {
   "cell_type": "code",
   "execution_count": 66,
   "id": "c83fe706",
   "metadata": {},
   "outputs": [
    {
     "name": "stdout",
     "output_type": "stream",
     "text": [
      "Accuracy of xgbClassifier:  0.9023854362837413\n",
      "F1 score of xgbClassifier:  0.9023125936665654\n",
      "Jaccard Score of xgbClassifier:  0.8264508928571429\n"
     ]
    }
   ],
   "source": [
    "xgbClassifier_predicted=xgbClassifier.predict(X_test)\n",
    "xgbClassifier_accuracy=metrics.accuracy_score(y_test,xgbClassifier_predicted)\n",
    "xgbClassifier_f1_score=metrics.f1_score(y_test,xgbClassifier_predicted,average='weighted')\n",
    "xgbClassifier_jaccard_score=metrics.jaccard_score(y_test,xgbClassifier_predicted,pos_label=0)\n",
    "\n",
    "print('Accuracy of xgbClassifier: ',xgbClassifier_accuracy)\n",
    "print('F1 score of xgbClassifier: ',xgbClassifier_f1_score)\n",
    "print('Jaccard Score of xgbClassifier: ',xgbClassifier_jaccard_score)"
   ]
  },
  {
   "cell_type": "markdown",
   "id": "e734b78b",
   "metadata": {},
   "source": [
    "### KNN classifier"
   ]
  },
  {
   "cell_type": "code",
   "execution_count": 71,
   "id": "83acbbe2",
   "metadata": {},
   "outputs": [],
   "source": [
    "from sklearn.neighbors import KNeighborsClassifier\n",
    "kn_param_grid = {\n",
    "    'n_neighbors' : [1, 2, 3, 4, 5],\n",
    "    'weights' : ['uniform', 'distance'],\n",
    "    'algorithm' : ['auto', 'ball_tree', 'kd_tree', 'brute']\n",
    "}\n",
    "kn_grid = GridSearchCV(KNeighborsClassifier(), kn_param_grid, verbose=3, cv= 5, scoring='accuracy')"
   ]
  },
  {
   "cell_type": "code",
   "execution_count": 72,
   "id": "45dce38a",
   "metadata": {},
   "outputs": [
    {
     "name": "stdout",
     "output_type": "stream",
     "text": [
      "Fitting 5 folds for each of 40 candidates, totalling 200 fits\n",
      "[CV 1/5] END algorithm=auto, n_neighbors=1, weights=uniform;, score=0.880 total time=   0.3s\n",
      "[CV 2/5] END algorithm=auto, n_neighbors=1, weights=uniform;, score=0.892 total time=   0.3s\n",
      "[CV 3/5] END algorithm=auto, n_neighbors=1, weights=uniform;, score=0.878 total time=   0.3s\n",
      "[CV 4/5] END algorithm=auto, n_neighbors=1, weights=uniform;, score=0.876 total time=   0.3s\n",
      "[CV 5/5] END algorithm=auto, n_neighbors=1, weights=uniform;, score=0.863 total time=   0.3s\n",
      "[CV 1/5] END algorithm=auto, n_neighbors=1, weights=distance;, score=0.880 total time=   0.2s\n",
      "[CV 2/5] END algorithm=auto, n_neighbors=1, weights=distance;, score=0.892 total time=   0.2s\n",
      "[CV 3/5] END algorithm=auto, n_neighbors=1, weights=distance;, score=0.878 total time=   0.1s\n",
      "[CV 4/5] END algorithm=auto, n_neighbors=1, weights=distance;, score=0.876 total time=   0.1s\n",
      "[CV 5/5] END algorithm=auto, n_neighbors=1, weights=distance;, score=0.863 total time=   0.1s\n",
      "[CV 1/5] END algorithm=auto, n_neighbors=2, weights=uniform;, score=0.869 total time=   0.3s\n",
      "[CV 2/5] END algorithm=auto, n_neighbors=2, weights=uniform;, score=0.876 total time=   0.3s\n",
      "[CV 3/5] END algorithm=auto, n_neighbors=2, weights=uniform;, score=0.856 total time=   0.3s\n",
      "[CV 4/5] END algorithm=auto, n_neighbors=2, weights=uniform;, score=0.864 total time=   0.3s\n",
      "[CV 5/5] END algorithm=auto, n_neighbors=2, weights=uniform;, score=0.849 total time=   0.3s\n",
      "[CV 1/5] END algorithm=auto, n_neighbors=2, weights=distance;, score=0.880 total time=   0.2s\n",
      "[CV 2/5] END algorithm=auto, n_neighbors=2, weights=distance;, score=0.892 total time=   0.2s\n",
      "[CV 3/5] END algorithm=auto, n_neighbors=2, weights=distance;, score=0.878 total time=   0.2s\n",
      "[CV 4/5] END algorithm=auto, n_neighbors=2, weights=distance;, score=0.876 total time=   0.2s\n",
      "[CV 5/5] END algorithm=auto, n_neighbors=2, weights=distance;, score=0.863 total time=   0.2s\n",
      "[CV 1/5] END algorithm=auto, n_neighbors=3, weights=uniform;, score=0.845 total time=   0.3s\n",
      "[CV 2/5] END algorithm=auto, n_neighbors=3, weights=uniform;, score=0.856 total time=   0.3s\n",
      "[CV 3/5] END algorithm=auto, n_neighbors=3, weights=uniform;, score=0.846 total time=   0.3s\n",
      "[CV 4/5] END algorithm=auto, n_neighbors=3, weights=uniform;, score=0.839 total time=   0.3s\n",
      "[CV 5/5] END algorithm=auto, n_neighbors=3, weights=uniform;, score=0.825 total time=   0.3s\n",
      "[CV 1/5] END algorithm=auto, n_neighbors=3, weights=distance;, score=0.856 total time=   0.2s\n",
      "[CV 2/5] END algorithm=auto, n_neighbors=3, weights=distance;, score=0.868 total time=   0.2s\n",
      "[CV 3/5] END algorithm=auto, n_neighbors=3, weights=distance;, score=0.859 total time=   0.2s\n",
      "[CV 4/5] END algorithm=auto, n_neighbors=3, weights=distance;, score=0.849 total time=   0.2s\n",
      "[CV 5/5] END algorithm=auto, n_neighbors=3, weights=distance;, score=0.839 total time=   0.2s\n",
      "[CV 1/5] END algorithm=auto, n_neighbors=4, weights=uniform;, score=0.835 total time=   0.3s\n",
      "[CV 2/5] END algorithm=auto, n_neighbors=4, weights=uniform;, score=0.843 total time=   0.3s\n",
      "[CV 3/5] END algorithm=auto, n_neighbors=4, weights=uniform;, score=0.841 total time=   0.3s\n",
      "[CV 4/5] END algorithm=auto, n_neighbors=4, weights=uniform;, score=0.837 total time=   0.3s\n",
      "[CV 5/5] END algorithm=auto, n_neighbors=4, weights=uniform;, score=0.827 total time=   0.3s\n",
      "[CV 1/5] END algorithm=auto, n_neighbors=4, weights=distance;, score=0.863 total time=   0.2s\n",
      "[CV 2/5] END algorithm=auto, n_neighbors=4, weights=distance;, score=0.872 total time=   0.2s\n",
      "[CV 3/5] END algorithm=auto, n_neighbors=4, weights=distance;, score=0.867 total time=   0.2s\n",
      "[CV 4/5] END algorithm=auto, n_neighbors=4, weights=distance;, score=0.858 total time=   0.2s\n",
      "[CV 5/5] END algorithm=auto, n_neighbors=4, weights=distance;, score=0.844 total time=   0.2s\n",
      "[CV 1/5] END algorithm=auto, n_neighbors=5, weights=uniform;, score=0.825 total time=   0.3s\n",
      "[CV 2/5] END algorithm=auto, n_neighbors=5, weights=uniform;, score=0.827 total time=   0.3s\n",
      "[CV 3/5] END algorithm=auto, n_neighbors=5, weights=uniform;, score=0.822 total time=   0.3s\n",
      "[CV 4/5] END algorithm=auto, n_neighbors=5, weights=uniform;, score=0.823 total time=   0.3s\n",
      "[CV 5/5] END algorithm=auto, n_neighbors=5, weights=uniform;, score=0.816 total time=   0.3s\n",
      "[CV 1/5] END algorithm=auto, n_neighbors=5, weights=distance;, score=0.850 total time=   0.2s\n",
      "[CV 2/5] END algorithm=auto, n_neighbors=5, weights=distance;, score=0.852 total time=   0.2s\n",
      "[CV 3/5] END algorithm=auto, n_neighbors=5, weights=distance;, score=0.848 total time=   0.2s\n",
      "[CV 4/5] END algorithm=auto, n_neighbors=5, weights=distance;, score=0.846 total time=   0.2s\n",
      "[CV 5/5] END algorithm=auto, n_neighbors=5, weights=distance;, score=0.839 total time=   0.2s\n",
      "[CV 1/5] END algorithm=ball_tree, n_neighbors=1, weights=uniform;, score=0.880 total time=   0.3s\n",
      "[CV 2/5] END algorithm=ball_tree, n_neighbors=1, weights=uniform;, score=0.892 total time=   0.3s\n",
      "[CV 3/5] END algorithm=ball_tree, n_neighbors=1, weights=uniform;, score=0.878 total time=   0.3s\n",
      "[CV 4/5] END algorithm=ball_tree, n_neighbors=1, weights=uniform;, score=0.876 total time=   0.3s\n",
      "[CV 5/5] END algorithm=ball_tree, n_neighbors=1, weights=uniform;, score=0.863 total time=   0.3s\n",
      "[CV 1/5] END algorithm=ball_tree, n_neighbors=1, weights=distance;, score=0.880 total time=   0.3s\n",
      "[CV 2/5] END algorithm=ball_tree, n_neighbors=1, weights=distance;, score=0.892 total time=   0.2s\n",
      "[CV 3/5] END algorithm=ball_tree, n_neighbors=1, weights=distance;, score=0.878 total time=   0.3s\n",
      "[CV 4/5] END algorithm=ball_tree, n_neighbors=1, weights=distance;, score=0.876 total time=   0.2s\n",
      "[CV 5/5] END algorithm=ball_tree, n_neighbors=1, weights=distance;, score=0.863 total time=   0.2s\n",
      "[CV 1/5] END algorithm=ball_tree, n_neighbors=2, weights=uniform;, score=0.869 total time=   0.4s\n",
      "[CV 2/5] END algorithm=ball_tree, n_neighbors=2, weights=uniform;, score=0.876 total time=   0.4s\n",
      "[CV 3/5] END algorithm=ball_tree, n_neighbors=2, weights=uniform;, score=0.856 total time=   0.4s\n",
      "[CV 4/5] END algorithm=ball_tree, n_neighbors=2, weights=uniform;, score=0.864 total time=   0.4s\n",
      "[CV 5/5] END algorithm=ball_tree, n_neighbors=2, weights=uniform;, score=0.849 total time=   0.4s\n",
      "[CV 1/5] END algorithm=ball_tree, n_neighbors=2, weights=distance;, score=0.880 total time=   0.3s\n",
      "[CV 2/5] END algorithm=ball_tree, n_neighbors=2, weights=distance;, score=0.892 total time=   0.2s\n",
      "[CV 3/5] END algorithm=ball_tree, n_neighbors=2, weights=distance;, score=0.878 total time=   0.3s\n",
      "[CV 4/5] END algorithm=ball_tree, n_neighbors=2, weights=distance;, score=0.876 total time=   0.3s\n",
      "[CV 5/5] END algorithm=ball_tree, n_neighbors=2, weights=distance;, score=0.863 total time=   0.3s\n",
      "[CV 1/5] END algorithm=ball_tree, n_neighbors=3, weights=uniform;, score=0.845 total time=   0.4s\n",
      "[CV 2/5] END algorithm=ball_tree, n_neighbors=3, weights=uniform;, score=0.856 total time=   0.4s\n",
      "[CV 3/5] END algorithm=ball_tree, n_neighbors=3, weights=uniform;, score=0.846 total time=   0.4s\n",
      "[CV 4/5] END algorithm=ball_tree, n_neighbors=3, weights=uniform;, score=0.839 total time=   0.4s\n",
      "[CV 5/5] END algorithm=ball_tree, n_neighbors=3, weights=uniform;, score=0.825 total time=   0.4s\n",
      "[CV 1/5] END algorithm=ball_tree, n_neighbors=3, weights=distance;, score=0.856 total time=   0.3s\n",
      "[CV 2/5] END algorithm=ball_tree, n_neighbors=3, weights=distance;, score=0.868 total time=   0.3s\n",
      "[CV 3/5] END algorithm=ball_tree, n_neighbors=3, weights=distance;, score=0.859 total time=   0.3s\n",
      "[CV 4/5] END algorithm=ball_tree, n_neighbors=3, weights=distance;, score=0.849 total time=   0.3s\n",
      "[CV 5/5] END algorithm=ball_tree, n_neighbors=3, weights=distance;, score=0.839 total time=   0.3s\n",
      "[CV 1/5] END algorithm=ball_tree, n_neighbors=4, weights=uniform;, score=0.835 total time=   0.4s\n",
      "[CV 2/5] END algorithm=ball_tree, n_neighbors=4, weights=uniform;, score=0.843 total time=   0.4s\n",
      "[CV 3/5] END algorithm=ball_tree, n_neighbors=4, weights=uniform;, score=0.841 total time=   0.4s\n",
      "[CV 4/5] END algorithm=ball_tree, n_neighbors=4, weights=uniform;, score=0.837 total time=   0.4s\n",
      "[CV 5/5] END algorithm=ball_tree, n_neighbors=4, weights=uniform;, score=0.827 total time=   0.4s\n",
      "[CV 1/5] END algorithm=ball_tree, n_neighbors=4, weights=distance;, score=0.863 total time=   0.3s\n"
     ]
    },
    {
     "name": "stdout",
     "output_type": "stream",
     "text": [
      "[CV 2/5] END algorithm=ball_tree, n_neighbors=4, weights=distance;, score=0.872 total time=   0.3s\n",
      "[CV 3/5] END algorithm=ball_tree, n_neighbors=4, weights=distance;, score=0.867 total time=   0.3s\n",
      "[CV 4/5] END algorithm=ball_tree, n_neighbors=4, weights=distance;, score=0.858 total time=   0.3s\n",
      "[CV 5/5] END algorithm=ball_tree, n_neighbors=4, weights=distance;, score=0.844 total time=   0.3s\n",
      "[CV 1/5] END algorithm=ball_tree, n_neighbors=5, weights=uniform;, score=0.825 total time=   0.4s\n",
      "[CV 2/5] END algorithm=ball_tree, n_neighbors=5, weights=uniform;, score=0.827 total time=   0.4s\n",
      "[CV 3/5] END algorithm=ball_tree, n_neighbors=5, weights=uniform;, score=0.822 total time=   0.4s\n",
      "[CV 4/5] END algorithm=ball_tree, n_neighbors=5, weights=uniform;, score=0.823 total time=   0.4s\n",
      "[CV 5/5] END algorithm=ball_tree, n_neighbors=5, weights=uniform;, score=0.816 total time=   0.5s\n",
      "[CV 1/5] END algorithm=ball_tree, n_neighbors=5, weights=distance;, score=0.850 total time=   0.3s\n",
      "[CV 2/5] END algorithm=ball_tree, n_neighbors=5, weights=distance;, score=0.852 total time=   0.3s\n",
      "[CV 3/5] END algorithm=ball_tree, n_neighbors=5, weights=distance;, score=0.848 total time=   0.3s\n",
      "[CV 4/5] END algorithm=ball_tree, n_neighbors=5, weights=distance;, score=0.846 total time=   0.3s\n",
      "[CV 5/5] END algorithm=ball_tree, n_neighbors=5, weights=distance;, score=0.839 total time=   0.4s\n",
      "[CV 1/5] END algorithm=kd_tree, n_neighbors=1, weights=uniform;, score=0.880 total time=   0.2s\n",
      "[CV 2/5] END algorithm=kd_tree, n_neighbors=1, weights=uniform;, score=0.892 total time=   0.2s\n",
      "[CV 3/5] END algorithm=kd_tree, n_neighbors=1, weights=uniform;, score=0.878 total time=   0.2s\n",
      "[CV 4/5] END algorithm=kd_tree, n_neighbors=1, weights=uniform;, score=0.876 total time=   0.2s\n",
      "[CV 5/5] END algorithm=kd_tree, n_neighbors=1, weights=uniform;, score=0.863 total time=   0.2s\n",
      "[CV 1/5] END algorithm=kd_tree, n_neighbors=1, weights=distance;, score=0.880 total time=   0.2s\n",
      "[CV 2/5] END algorithm=kd_tree, n_neighbors=1, weights=distance;, score=0.892 total time=   0.1s\n",
      "[CV 3/5] END algorithm=kd_tree, n_neighbors=1, weights=distance;, score=0.878 total time=   0.1s\n",
      "[CV 4/5] END algorithm=kd_tree, n_neighbors=1, weights=distance;, score=0.876 total time=   0.1s\n",
      "[CV 5/5] END algorithm=kd_tree, n_neighbors=1, weights=distance;, score=0.863 total time=   0.1s\n",
      "[CV 1/5] END algorithm=kd_tree, n_neighbors=2, weights=uniform;, score=0.869 total time=   0.3s\n",
      "[CV 2/5] END algorithm=kd_tree, n_neighbors=2, weights=uniform;, score=0.876 total time=   0.3s\n",
      "[CV 3/5] END algorithm=kd_tree, n_neighbors=2, weights=uniform;, score=0.856 total time=   0.2s\n",
      "[CV 4/5] END algorithm=kd_tree, n_neighbors=2, weights=uniform;, score=0.864 total time=   0.3s\n",
      "[CV 5/5] END algorithm=kd_tree, n_neighbors=2, weights=uniform;, score=0.849 total time=   0.3s\n",
      "[CV 1/5] END algorithm=kd_tree, n_neighbors=2, weights=distance;, score=0.880 total time=   0.2s\n",
      "[CV 2/5] END algorithm=kd_tree, n_neighbors=2, weights=distance;, score=0.892 total time=   0.2s\n",
      "[CV 3/5] END algorithm=kd_tree, n_neighbors=2, weights=distance;, score=0.878 total time=   0.2s\n",
      "[CV 4/5] END algorithm=kd_tree, n_neighbors=2, weights=distance;, score=0.876 total time=   0.2s\n",
      "[CV 5/5] END algorithm=kd_tree, n_neighbors=2, weights=distance;, score=0.863 total time=   0.2s\n",
      "[CV 1/5] END algorithm=kd_tree, n_neighbors=3, weights=uniform;, score=0.845 total time=   0.3s\n",
      "[CV 2/5] END algorithm=kd_tree, n_neighbors=3, weights=uniform;, score=0.856 total time=   0.3s\n",
      "[CV 3/5] END algorithm=kd_tree, n_neighbors=3, weights=uniform;, score=0.846 total time=   0.3s\n",
      "[CV 4/5] END algorithm=kd_tree, n_neighbors=3, weights=uniform;, score=0.839 total time=   0.3s\n",
      "[CV 5/5] END algorithm=kd_tree, n_neighbors=3, weights=uniform;, score=0.825 total time=   0.3s\n",
      "[CV 1/5] END algorithm=kd_tree, n_neighbors=3, weights=distance;, score=0.856 total time=   0.2s\n",
      "[CV 2/5] END algorithm=kd_tree, n_neighbors=3, weights=distance;, score=0.868 total time=   0.2s\n",
      "[CV 3/5] END algorithm=kd_tree, n_neighbors=3, weights=distance;, score=0.859 total time=   0.2s\n",
      "[CV 4/5] END algorithm=kd_tree, n_neighbors=3, weights=distance;, score=0.849 total time=   0.2s\n",
      "[CV 5/5] END algorithm=kd_tree, n_neighbors=3, weights=distance;, score=0.839 total time=   0.1s\n",
      "[CV 1/5] END algorithm=kd_tree, n_neighbors=4, weights=uniform;, score=0.835 total time=   0.3s\n",
      "[CV 2/5] END algorithm=kd_tree, n_neighbors=4, weights=uniform;, score=0.843 total time=   0.2s\n",
      "[CV 3/5] END algorithm=kd_tree, n_neighbors=4, weights=uniform;, score=0.841 total time=   0.3s\n",
      "[CV 4/5] END algorithm=kd_tree, n_neighbors=4, weights=uniform;, score=0.837 total time=   0.3s\n",
      "[CV 5/5] END algorithm=kd_tree, n_neighbors=4, weights=uniform;, score=0.827 total time=   0.3s\n",
      "[CV 1/5] END algorithm=kd_tree, n_neighbors=4, weights=distance;, score=0.863 total time=   0.1s\n",
      "[CV 2/5] END algorithm=kd_tree, n_neighbors=4, weights=distance;, score=0.872 total time=   0.2s\n",
      "[CV 3/5] END algorithm=kd_tree, n_neighbors=4, weights=distance;, score=0.867 total time=   0.2s\n",
      "[CV 4/5] END algorithm=kd_tree, n_neighbors=4, weights=distance;, score=0.858 total time=   0.2s\n",
      "[CV 5/5] END algorithm=kd_tree, n_neighbors=4, weights=distance;, score=0.844 total time=   0.1s\n",
      "[CV 1/5] END algorithm=kd_tree, n_neighbors=5, weights=uniform;, score=0.825 total time=   0.3s\n",
      "[CV 2/5] END algorithm=kd_tree, n_neighbors=5, weights=uniform;, score=0.827 total time=   0.3s\n",
      "[CV 3/5] END algorithm=kd_tree, n_neighbors=5, weights=uniform;, score=0.822 total time=   0.3s\n",
      "[CV 4/5] END algorithm=kd_tree, n_neighbors=5, weights=uniform;, score=0.823 total time=   0.3s\n",
      "[CV 5/5] END algorithm=kd_tree, n_neighbors=5, weights=uniform;, score=0.816 total time=   0.3s\n",
      "[CV 1/5] END algorithm=kd_tree, n_neighbors=5, weights=distance;, score=0.850 total time=   0.2s\n",
      "[CV 2/5] END algorithm=kd_tree, n_neighbors=5, weights=distance;, score=0.852 total time=   0.2s\n",
      "[CV 3/5] END algorithm=kd_tree, n_neighbors=5, weights=distance;, score=0.848 total time=   0.1s\n",
      "[CV 4/5] END algorithm=kd_tree, n_neighbors=5, weights=distance;, score=0.846 total time=   0.2s\n",
      "[CV 5/5] END algorithm=kd_tree, n_neighbors=5, weights=distance;, score=0.839 total time=   0.2s\n",
      "[CV 1/5] END algorithm=brute, n_neighbors=1, weights=uniform;, score=0.880 total time=   0.4s\n",
      "[CV 2/5] END algorithm=brute, n_neighbors=1, weights=uniform;, score=0.892 total time=   0.1s\n",
      "[CV 3/5] END algorithm=brute, n_neighbors=1, weights=uniform;, score=0.878 total time=   0.1s\n",
      "[CV 4/5] END algorithm=brute, n_neighbors=1, weights=uniform;, score=0.876 total time=   0.1s\n",
      "[CV 5/5] END algorithm=brute, n_neighbors=1, weights=uniform;, score=0.863 total time=   0.1s\n",
      "[CV 1/5] END algorithm=brute, n_neighbors=1, weights=distance;, score=0.880 total time=   0.0s\n",
      "[CV 2/5] END algorithm=brute, n_neighbors=1, weights=distance;, score=0.892 total time=   0.0s\n",
      "[CV 3/5] END algorithm=brute, n_neighbors=1, weights=distance;, score=0.878 total time=   0.0s\n",
      "[CV 4/5] END algorithm=brute, n_neighbors=1, weights=distance;, score=0.876 total time=   0.0s\n",
      "[CV 5/5] END algorithm=brute, n_neighbors=1, weights=distance;, score=0.863 total time=   0.0s\n",
      "[CV 1/5] END algorithm=brute, n_neighbors=2, weights=uniform;, score=0.869 total time=   0.1s\n",
      "[CV 2/5] END algorithm=brute, n_neighbors=2, weights=uniform;, score=0.876 total time=   0.1s\n",
      "[CV 3/5] END algorithm=brute, n_neighbors=2, weights=uniform;, score=0.856 total time=   0.1s\n",
      "[CV 4/5] END algorithm=brute, n_neighbors=2, weights=uniform;, score=0.864 total time=   0.1s\n",
      "[CV 5/5] END algorithm=brute, n_neighbors=2, weights=uniform;, score=0.849 total time=   0.1s\n",
      "[CV 1/5] END algorithm=brute, n_neighbors=2, weights=distance;, score=0.880 total time=   0.0s\n",
      "[CV 2/5] END algorithm=brute, n_neighbors=2, weights=distance;, score=0.892 total time=   0.0s\n",
      "[CV 3/5] END algorithm=brute, n_neighbors=2, weights=distance;, score=0.878 total time=   0.0s\n",
      "[CV 4/5] END algorithm=brute, n_neighbors=2, weights=distance;, score=0.876 total time=   0.0s\n",
      "[CV 5/5] END algorithm=brute, n_neighbors=2, weights=distance;, score=0.863 total time=   0.0s\n",
      "[CV 1/5] END algorithm=brute, n_neighbors=3, weights=uniform;, score=0.845 total time=   0.1s\n",
      "[CV 2/5] END algorithm=brute, n_neighbors=3, weights=uniform;, score=0.856 total time=   0.1s\n"
     ]
    },
    {
     "name": "stdout",
     "output_type": "stream",
     "text": [
      "[CV 3/5] END algorithm=brute, n_neighbors=3, weights=uniform;, score=0.846 total time=   0.1s\n",
      "[CV 4/5] END algorithm=brute, n_neighbors=3, weights=uniform;, score=0.839 total time=   0.1s\n",
      "[CV 5/5] END algorithm=brute, n_neighbors=3, weights=uniform;, score=0.825 total time=   0.1s\n",
      "[CV 1/5] END algorithm=brute, n_neighbors=3, weights=distance;, score=0.856 total time=   0.0s\n",
      "[CV 2/5] END algorithm=brute, n_neighbors=3, weights=distance;, score=0.868 total time=   0.0s\n",
      "[CV 3/5] END algorithm=brute, n_neighbors=3, weights=distance;, score=0.859 total time=   0.0s\n",
      "[CV 4/5] END algorithm=brute, n_neighbors=3, weights=distance;, score=0.849 total time=   0.0s\n",
      "[CV 5/5] END algorithm=brute, n_neighbors=3, weights=distance;, score=0.839 total time=   0.0s\n",
      "[CV 1/5] END algorithm=brute, n_neighbors=4, weights=uniform;, score=0.835 total time=   0.1s\n",
      "[CV 2/5] END algorithm=brute, n_neighbors=4, weights=uniform;, score=0.843 total time=   0.1s\n",
      "[CV 3/5] END algorithm=brute, n_neighbors=4, weights=uniform;, score=0.841 total time=   0.1s\n",
      "[CV 4/5] END algorithm=brute, n_neighbors=4, weights=uniform;, score=0.837 total time=   0.1s\n",
      "[CV 5/5] END algorithm=brute, n_neighbors=4, weights=uniform;, score=0.827 total time=   0.1s\n",
      "[CV 1/5] END algorithm=brute, n_neighbors=4, weights=distance;, score=0.863 total time=   0.0s\n",
      "[CV 2/5] END algorithm=brute, n_neighbors=4, weights=distance;, score=0.872 total time=   0.0s\n",
      "[CV 3/5] END algorithm=brute, n_neighbors=4, weights=distance;, score=0.867 total time=   0.0s\n",
      "[CV 4/5] END algorithm=brute, n_neighbors=4, weights=distance;, score=0.858 total time=   0.0s\n",
      "[CV 5/5] END algorithm=brute, n_neighbors=4, weights=distance;, score=0.844 total time=   0.0s\n",
      "[CV 1/5] END algorithm=brute, n_neighbors=5, weights=uniform;, score=0.825 total time=   0.1s\n",
      "[CV 2/5] END algorithm=brute, n_neighbors=5, weights=uniform;, score=0.827 total time=   0.1s\n",
      "[CV 3/5] END algorithm=brute, n_neighbors=5, weights=uniform;, score=0.822 total time=   0.1s\n",
      "[CV 4/5] END algorithm=brute, n_neighbors=5, weights=uniform;, score=0.823 total time=   0.1s\n",
      "[CV 5/5] END algorithm=brute, n_neighbors=5, weights=uniform;, score=0.816 total time=   0.2s\n",
      "[CV 1/5] END algorithm=brute, n_neighbors=5, weights=distance;, score=0.850 total time=   0.0s\n",
      "[CV 2/5] END algorithm=brute, n_neighbors=5, weights=distance;, score=0.852 total time=   0.0s\n",
      "[CV 3/5] END algorithm=brute, n_neighbors=5, weights=distance;, score=0.848 total time=   0.0s\n",
      "[CV 4/5] END algorithm=brute, n_neighbors=5, weights=distance;, score=0.846 total time=   0.0s\n",
      "[CV 5/5] END algorithm=brute, n_neighbors=5, weights=distance;, score=0.839 total time=   0.0s\n"
     ]
    },
    {
     "data": {
      "text/html": [
       "<style>#sk-container-id-11 {color: black;background-color: white;}#sk-container-id-11 pre{padding: 0;}#sk-container-id-11 div.sk-toggleable {background-color: white;}#sk-container-id-11 label.sk-toggleable__label {cursor: pointer;display: block;width: 100%;margin-bottom: 0;padding: 0.3em;box-sizing: border-box;text-align: center;}#sk-container-id-11 label.sk-toggleable__label-arrow:before {content: \"▸\";float: left;margin-right: 0.25em;color: #696969;}#sk-container-id-11 label.sk-toggleable__label-arrow:hover:before {color: black;}#sk-container-id-11 div.sk-estimator:hover label.sk-toggleable__label-arrow:before {color: black;}#sk-container-id-11 div.sk-toggleable__content {max-height: 0;max-width: 0;overflow: hidden;text-align: left;background-color: #f0f8ff;}#sk-container-id-11 div.sk-toggleable__content pre {margin: 0.2em;color: black;border-radius: 0.25em;background-color: #f0f8ff;}#sk-container-id-11 input.sk-toggleable__control:checked~div.sk-toggleable__content {max-height: 200px;max-width: 100%;overflow: auto;}#sk-container-id-11 input.sk-toggleable__control:checked~label.sk-toggleable__label-arrow:before {content: \"▾\";}#sk-container-id-11 div.sk-estimator input.sk-toggleable__control:checked~label.sk-toggleable__label {background-color: #d4ebff;}#sk-container-id-11 div.sk-label input.sk-toggleable__control:checked~label.sk-toggleable__label {background-color: #d4ebff;}#sk-container-id-11 input.sk-hidden--visually {border: 0;clip: rect(1px 1px 1px 1px);clip: rect(1px, 1px, 1px, 1px);height: 1px;margin: -1px;overflow: hidden;padding: 0;position: absolute;width: 1px;}#sk-container-id-11 div.sk-estimator {font-family: monospace;background-color: #f0f8ff;border: 1px dotted black;border-radius: 0.25em;box-sizing: border-box;margin-bottom: 0.5em;}#sk-container-id-11 div.sk-estimator:hover {background-color: #d4ebff;}#sk-container-id-11 div.sk-parallel-item::after {content: \"\";width: 100%;border-bottom: 1px solid gray;flex-grow: 1;}#sk-container-id-11 div.sk-label:hover label.sk-toggleable__label {background-color: #d4ebff;}#sk-container-id-11 div.sk-serial::before {content: \"\";position: absolute;border-left: 1px solid gray;box-sizing: border-box;top: 0;bottom: 0;left: 50%;z-index: 0;}#sk-container-id-11 div.sk-serial {display: flex;flex-direction: column;align-items: center;background-color: white;padding-right: 0.2em;padding-left: 0.2em;position: relative;}#sk-container-id-11 div.sk-item {position: relative;z-index: 1;}#sk-container-id-11 div.sk-parallel {display: flex;align-items: stretch;justify-content: center;background-color: white;position: relative;}#sk-container-id-11 div.sk-item::before, #sk-container-id-11 div.sk-parallel-item::before {content: \"\";position: absolute;border-left: 1px solid gray;box-sizing: border-box;top: 0;bottom: 0;left: 50%;z-index: -1;}#sk-container-id-11 div.sk-parallel-item {display: flex;flex-direction: column;z-index: 1;position: relative;background-color: white;}#sk-container-id-11 div.sk-parallel-item:first-child::after {align-self: flex-end;width: 50%;}#sk-container-id-11 div.sk-parallel-item:last-child::after {align-self: flex-start;width: 50%;}#sk-container-id-11 div.sk-parallel-item:only-child::after {width: 0;}#sk-container-id-11 div.sk-dashed-wrapped {border: 1px dashed gray;margin: 0 0.4em 0.5em 0.4em;box-sizing: border-box;padding-bottom: 0.4em;background-color: white;}#sk-container-id-11 div.sk-label label {font-family: monospace;font-weight: bold;display: inline-block;line-height: 1.2em;}#sk-container-id-11 div.sk-label-container {text-align: center;}#sk-container-id-11 div.sk-container {/* jupyter's `normalize.less` sets `[hidden] { display: none; }` but bootstrap.min.css set `[hidden] { display: none !important; }` so we also need the `!important` here to be able to override the default hidden behavior on the sphinx rendered scikit-learn.org. See: https://github.com/scikit-learn/scikit-learn/issues/21755 */display: inline-block !important;position: relative;}#sk-container-id-11 div.sk-text-repr-fallback {display: none;}</style><div id=\"sk-container-id-11\" class=\"sk-top-container\"><div class=\"sk-text-repr-fallback\"><pre>GridSearchCV(cv=5, estimator=KNeighborsClassifier(),\n",
       "             param_grid={&#x27;algorithm&#x27;: [&#x27;auto&#x27;, &#x27;ball_tree&#x27;, &#x27;kd_tree&#x27;, &#x27;brute&#x27;],\n",
       "                         &#x27;n_neighbors&#x27;: [1, 2, 3, 4, 5],\n",
       "                         &#x27;weights&#x27;: [&#x27;uniform&#x27;, &#x27;distance&#x27;]},\n",
       "             scoring=&#x27;accuracy&#x27;, verbose=3)</pre><b>In a Jupyter environment, please rerun this cell to show the HTML representation or trust the notebook. <br />On GitHub, the HTML representation is unable to render, please try loading this page with nbviewer.org.</b></div><div class=\"sk-container\" hidden><div class=\"sk-item sk-dashed-wrapped\"><div class=\"sk-label-container\"><div class=\"sk-label sk-toggleable\"><input class=\"sk-toggleable__control sk-hidden--visually\" id=\"sk-estimator-id-17\" type=\"checkbox\" ><label for=\"sk-estimator-id-17\" class=\"sk-toggleable__label sk-toggleable__label-arrow\">GridSearchCV</label><div class=\"sk-toggleable__content\"><pre>GridSearchCV(cv=5, estimator=KNeighborsClassifier(),\n",
       "             param_grid={&#x27;algorithm&#x27;: [&#x27;auto&#x27;, &#x27;ball_tree&#x27;, &#x27;kd_tree&#x27;, &#x27;brute&#x27;],\n",
       "                         &#x27;n_neighbors&#x27;: [1, 2, 3, 4, 5],\n",
       "                         &#x27;weights&#x27;: [&#x27;uniform&#x27;, &#x27;distance&#x27;]},\n",
       "             scoring=&#x27;accuracy&#x27;, verbose=3)</pre></div></div></div><div class=\"sk-parallel\"><div class=\"sk-parallel-item\"><div class=\"sk-item\"><div class=\"sk-label-container\"><div class=\"sk-label sk-toggleable\"><input class=\"sk-toggleable__control sk-hidden--visually\" id=\"sk-estimator-id-18\" type=\"checkbox\" ><label for=\"sk-estimator-id-18\" class=\"sk-toggleable__label sk-toggleable__label-arrow\">estimator: KNeighborsClassifier</label><div class=\"sk-toggleable__content\"><pre>KNeighborsClassifier()</pre></div></div></div><div class=\"sk-serial\"><div class=\"sk-item\"><div class=\"sk-estimator sk-toggleable\"><input class=\"sk-toggleable__control sk-hidden--visually\" id=\"sk-estimator-id-19\" type=\"checkbox\" ><label for=\"sk-estimator-id-19\" class=\"sk-toggleable__label sk-toggleable__label-arrow\">KNeighborsClassifier</label><div class=\"sk-toggleable__content\"><pre>KNeighborsClassifier()</pre></div></div></div></div></div></div></div></div></div></div>"
      ],
      "text/plain": [
       "GridSearchCV(cv=5, estimator=KNeighborsClassifier(),\n",
       "             param_grid={'algorithm': ['auto', 'ball_tree', 'kd_tree', 'brute'],\n",
       "                         'n_neighbors': [1, 2, 3, 4, 5],\n",
       "                         'weights': ['uniform', 'distance']},\n",
       "             scoring='accuracy', verbose=3)"
      ]
     },
     "execution_count": 72,
     "metadata": {},
     "output_type": "execute_result"
    }
   ],
   "source": [
    "kn_grid.fit(X_train, y_train)"
   ]
  },
  {
   "cell_type": "code",
   "execution_count": 74,
   "id": "135afeb0",
   "metadata": {},
   "outputs": [
    {
     "data": {
      "text/html": [
       "<style>#sk-container-id-13 {color: black;background-color: white;}#sk-container-id-13 pre{padding: 0;}#sk-container-id-13 div.sk-toggleable {background-color: white;}#sk-container-id-13 label.sk-toggleable__label {cursor: pointer;display: block;width: 100%;margin-bottom: 0;padding: 0.3em;box-sizing: border-box;text-align: center;}#sk-container-id-13 label.sk-toggleable__label-arrow:before {content: \"▸\";float: left;margin-right: 0.25em;color: #696969;}#sk-container-id-13 label.sk-toggleable__label-arrow:hover:before {color: black;}#sk-container-id-13 div.sk-estimator:hover label.sk-toggleable__label-arrow:before {color: black;}#sk-container-id-13 div.sk-toggleable__content {max-height: 0;max-width: 0;overflow: hidden;text-align: left;background-color: #f0f8ff;}#sk-container-id-13 div.sk-toggleable__content pre {margin: 0.2em;color: black;border-radius: 0.25em;background-color: #f0f8ff;}#sk-container-id-13 input.sk-toggleable__control:checked~div.sk-toggleable__content {max-height: 200px;max-width: 100%;overflow: auto;}#sk-container-id-13 input.sk-toggleable__control:checked~label.sk-toggleable__label-arrow:before {content: \"▾\";}#sk-container-id-13 div.sk-estimator input.sk-toggleable__control:checked~label.sk-toggleable__label {background-color: #d4ebff;}#sk-container-id-13 div.sk-label input.sk-toggleable__control:checked~label.sk-toggleable__label {background-color: #d4ebff;}#sk-container-id-13 input.sk-hidden--visually {border: 0;clip: rect(1px 1px 1px 1px);clip: rect(1px, 1px, 1px, 1px);height: 1px;margin: -1px;overflow: hidden;padding: 0;position: absolute;width: 1px;}#sk-container-id-13 div.sk-estimator {font-family: monospace;background-color: #f0f8ff;border: 1px dotted black;border-radius: 0.25em;box-sizing: border-box;margin-bottom: 0.5em;}#sk-container-id-13 div.sk-estimator:hover {background-color: #d4ebff;}#sk-container-id-13 div.sk-parallel-item::after {content: \"\";width: 100%;border-bottom: 1px solid gray;flex-grow: 1;}#sk-container-id-13 div.sk-label:hover label.sk-toggleable__label {background-color: #d4ebff;}#sk-container-id-13 div.sk-serial::before {content: \"\";position: absolute;border-left: 1px solid gray;box-sizing: border-box;top: 0;bottom: 0;left: 50%;z-index: 0;}#sk-container-id-13 div.sk-serial {display: flex;flex-direction: column;align-items: center;background-color: white;padding-right: 0.2em;padding-left: 0.2em;position: relative;}#sk-container-id-13 div.sk-item {position: relative;z-index: 1;}#sk-container-id-13 div.sk-parallel {display: flex;align-items: stretch;justify-content: center;background-color: white;position: relative;}#sk-container-id-13 div.sk-item::before, #sk-container-id-13 div.sk-parallel-item::before {content: \"\";position: absolute;border-left: 1px solid gray;box-sizing: border-box;top: 0;bottom: 0;left: 50%;z-index: -1;}#sk-container-id-13 div.sk-parallel-item {display: flex;flex-direction: column;z-index: 1;position: relative;background-color: white;}#sk-container-id-13 div.sk-parallel-item:first-child::after {align-self: flex-end;width: 50%;}#sk-container-id-13 div.sk-parallel-item:last-child::after {align-self: flex-start;width: 50%;}#sk-container-id-13 div.sk-parallel-item:only-child::after {width: 0;}#sk-container-id-13 div.sk-dashed-wrapped {border: 1px dashed gray;margin: 0 0.4em 0.5em 0.4em;box-sizing: border-box;padding-bottom: 0.4em;background-color: white;}#sk-container-id-13 div.sk-label label {font-family: monospace;font-weight: bold;display: inline-block;line-height: 1.2em;}#sk-container-id-13 div.sk-label-container {text-align: center;}#sk-container-id-13 div.sk-container {/* jupyter's `normalize.less` sets `[hidden] { display: none; }` but bootstrap.min.css set `[hidden] { display: none !important; }` so we also need the `!important` here to be able to override the default hidden behavior on the sphinx rendered scikit-learn.org. See: https://github.com/scikit-learn/scikit-learn/issues/21755 */display: inline-block !important;position: relative;}#sk-container-id-13 div.sk-text-repr-fallback {display: none;}</style><div id=\"sk-container-id-13\" class=\"sk-top-container\"><div class=\"sk-text-repr-fallback\"><pre>KNeighborsClassifier(n_neighbors=1)</pre><b>In a Jupyter environment, please rerun this cell to show the HTML representation or trust the notebook. <br />On GitHub, the HTML representation is unable to render, please try loading this page with nbviewer.org.</b></div><div class=\"sk-container\" hidden><div class=\"sk-item\"><div class=\"sk-estimator sk-toggleable\"><input class=\"sk-toggleable__control sk-hidden--visually\" id=\"sk-estimator-id-21\" type=\"checkbox\" checked><label for=\"sk-estimator-id-21\" class=\"sk-toggleable__label sk-toggleable__label-arrow\">KNeighborsClassifier</label><div class=\"sk-toggleable__content\"><pre>KNeighborsClassifier(n_neighbors=1)</pre></div></div></div></div></div>"
      ],
      "text/plain": [
       "KNeighborsClassifier(n_neighbors=1)"
      ]
     },
     "execution_count": 74,
     "metadata": {},
     "output_type": "execute_result"
    }
   ],
   "source": [
    "knnClassifier=kn_grid.best_estimator_\n",
    "knnClassifier.fit(X_train, y_train)"
   ]
  },
  {
   "cell_type": "code",
   "execution_count": 75,
   "id": "9156c020",
   "metadata": {},
   "outputs": [
    {
     "name": "stdout",
     "output_type": "stream",
     "text": [
      "Accuracy of knnClassifier:  0.8913998744507219\n",
      "F1 score of knnClassifier:  0.8908506542885207\n",
      "Jaccard Score of knnClassifier:  0.7906836055656382\n"
     ]
    }
   ],
   "source": [
    "knnClassifier_predicted=knnClassifier.predict(X_test)\n",
    "knnClassifier_accuracy=metrics.accuracy_score(y_test,knnClassifier_predicted)\n",
    "knnClassifier_f1_score=metrics.f1_score(y_test,knnClassifier_predicted,average='weighted')\n",
    "knnClassifier_jaccard_score=metrics.jaccard_score(y_test,knnClassifier_predicted,pos_label=0)\n",
    "\n",
    "print('Accuracy of knnClassifier: ',knnClassifier_accuracy)\n",
    "print('F1 score of knnClassifier: ',knnClassifier_f1_score)\n",
    "print('Jaccard Score of knnClassifier: ',knnClassifier_jaccard_score)"
   ]
  },
  {
   "cell_type": "markdown",
   "id": "11d88f0c",
   "metadata": {},
   "source": [
    "### Model Evaluation"
   ]
  },
  {
   "cell_type": "code",
   "execution_count": 76,
   "id": "eeac9eaf",
   "metadata": {},
   "outputs": [],
   "source": [
    "result = pd.DataFrame({\n",
    "    'Model': ['SVM','Logistic Regression','Random Forest','Decision Tree','XG Boost','KNN'],\n",
    "    'Jaccard Score':[svm_jaccard_score,lrjaccard_score,rf_jaccard_score,dt_jaccard_score,xgbClassifier_jaccard_score,knnClassifier_jaccard_score],\n",
    "    'F1 Score': [svm_f1_score,lrf1_score,rf_f1_score,dt_f1_score,xgbClassifier_f1_score,knnClassifier_f1_score],\n",
    "    'Accuracy': [svm_accuracy,lraccuracy,rf_accuracy,dt_accuracy,xgbClassifier_accuracy,knnClassifier_accuracy]\n",
    "})"
   ]
  },
  {
   "cell_type": "code",
   "execution_count": 77,
   "id": "1c946913",
   "metadata": {},
   "outputs": [
    {
     "data": {
      "text/html": [
       "<div>\n",
       "<style scoped>\n",
       "    .dataframe tbody tr th:only-of-type {\n",
       "        vertical-align: middle;\n",
       "    }\n",
       "\n",
       "    .dataframe tbody tr th {\n",
       "        vertical-align: top;\n",
       "    }\n",
       "\n",
       "    .dataframe thead th {\n",
       "        text-align: right;\n",
       "    }\n",
       "</style>\n",
       "<table border=\"1\" class=\"dataframe\">\n",
       "  <thead>\n",
       "    <tr style=\"text-align: right;\">\n",
       "      <th></th>\n",
       "      <th>Model</th>\n",
       "      <th>Jaccard Score</th>\n",
       "      <th>F1 Score</th>\n",
       "      <th>Accuracy</th>\n",
       "    </tr>\n",
       "  </thead>\n",
       "  <tbody>\n",
       "    <tr>\n",
       "      <th>0</th>\n",
       "      <td>SVM</td>\n",
       "      <td>0.723582</td>\n",
       "      <td>0.843889</td>\n",
       "      <td>0.844005</td>\n",
       "    </tr>\n",
       "    <tr>\n",
       "      <th>1</th>\n",
       "      <td>Logistic Regression</td>\n",
       "      <td>0.543303</td>\n",
       "      <td>0.696944</td>\n",
       "      <td>0.697112</td>\n",
       "    </tr>\n",
       "    <tr>\n",
       "      <th>2</th>\n",
       "      <td>Random Forest</td>\n",
       "      <td>0.780830</td>\n",
       "      <td>0.877275</td>\n",
       "      <td>0.877276</td>\n",
       "    </tr>\n",
       "    <tr>\n",
       "      <th>3</th>\n",
       "      <td>Decision Tree</td>\n",
       "      <td>0.656120</td>\n",
       "      <td>0.791901</td>\n",
       "      <td>0.791902</td>\n",
       "    </tr>\n",
       "    <tr>\n",
       "      <th>4</th>\n",
       "      <td>XG Boost</td>\n",
       "      <td>0.826451</td>\n",
       "      <td>0.902313</td>\n",
       "      <td>0.902385</td>\n",
       "    </tr>\n",
       "    <tr>\n",
       "      <th>5</th>\n",
       "      <td>KNN</td>\n",
       "      <td>0.790684</td>\n",
       "      <td>0.890851</td>\n",
       "      <td>0.891400</td>\n",
       "    </tr>\n",
       "  </tbody>\n",
       "</table>\n",
       "</div>"
      ],
      "text/plain": [
       "                 Model  Jaccard Score  F1 Score  Accuracy\n",
       "0                  SVM       0.723582  0.843889  0.844005\n",
       "1  Logistic Regression       0.543303  0.696944  0.697112\n",
       "2        Random Forest       0.780830  0.877275  0.877276\n",
       "3        Decision Tree       0.656120  0.791901  0.791902\n",
       "4             XG Boost       0.826451  0.902313  0.902385\n",
       "5                  KNN       0.790684  0.890851  0.891400"
      ]
     },
     "execution_count": 77,
     "metadata": {},
     "output_type": "execute_result"
    }
   ],
   "source": [
    "result"
   ]
  },
  {
   "cell_type": "markdown",
   "id": "d9d09889",
   "metadata": {},
   "source": [
    "### K-fold cross validation"
   ]
  },
  {
   "cell_type": "code",
   "execution_count": 82,
   "id": "3aabd572",
   "metadata": {},
   "outputs": [],
   "source": [
    "from sklearn import model_selection\n",
    "seed=7\n",
    "models=[]\n",
    "models.append(('SVM',svm))\n",
    "models.append(('Logistic Regression',log_reg_tunned))\n",
    "models.append(('Random Forest',rf_classifier))\n",
    "models.append(('Decision Tree',dt_classifier))\n",
    "models.append(('XGB Classifier',xgbClassifier))\n",
    "models.append(('KNN Classifier',knnClassifier))\n",
    "results=[]\n",
    "names=[]\n",
    "scoring='accuracy'\n",
    "for name,model in models:\n",
    "    kfold=model_selection.KFold(n_splits=10,random_state=seed,shuffle=True)\n",
    "    cv_results=model_selection.cross_val_score(model,X_train,y_train,cv=kfold,scoring=scoring)\n",
    "    results.append(cv_results)\n",
    "    names.append(name)"
   ]
  },
  {
   "cell_type": "code",
   "execution_count": 83,
   "id": "c5054ba1",
   "metadata": {},
   "outputs": [
    {
     "name": "stdout",
     "output_type": "stream",
     "text": [
      "SVM : 0.8383045525902668\n",
      "Logistic Regression : 0.71287284144427\n",
      "Random Forest : 0.8684458398744113\n",
      "Decision Tree : 0.7725274725274726\n",
      "XGB Classifier : 0.8974097331240187\n",
      "KNN Classifier : 0.8845368916797488\n"
     ]
    }
   ],
   "source": [
    "for i in range(len(names)):\n",
    "    cv_result_arr=np.array(results[i])\n",
    "    print(names[i],\":\",np.mean(cv_result_arr))"
   ]
  },
  {
   "cell_type": "code",
   "execution_count": 84,
   "id": "09e139d4",
   "metadata": {},
   "outputs": [
    {
     "data": {
      "image/png": "[encoded data removed]",
      "text/plain": [
       "<Figure size 720x576 with 1 Axes>"
      ]
     },
     "metadata": {
      "needs_background": "light"
     },
     "output_type": "display_data"
    }
   ],
   "source": [
    "fig=plt.figure(figsize=(10,8))\n",
    "\n",
    "fig.suptitle('Algorithm comparison')\n",
    "ax=fig.add_subplot(111)\n",
    "plt.boxplot(results)\n",
    "ax.set_xticklabels(names)\n",
    "plt.show()"
   ]
  },
  {
   "cell_type": "markdown",
   "id": "758b5077",
   "metadata": {},
   "source": [
    "### XGB Classifier"
   ]
  },
  {
   "cell_type": "code",
   "execution_count": 86,
   "id": "996d552a",
   "metadata": {},
   "outputs": [
    {
     "name": "stdout",
     "output_type": "stream",
     "text": [
      "[[1481  112]\n",
      " [ 199 1394]]\n"
     ]
    }
   ],
   "source": [
    "from sklearn.metrics import confusion_matrix\n",
    "cmXGB = confusion_matrix(y_test, xgbClassifier_predicted)\n",
    "print(cmXGB)"
   ]
  },
  {
   "cell_type": "code",
   "execution_count": 89,
   "id": "e5dac13e",
   "metadata": {},
   "outputs": [
    {
     "name": "stdout",
     "output_type": "stream",
     "text": [
      "              precision    recall  f1-score   support\n",
      "\n",
      "           0       0.88      0.93      0.90      1593\n",
      "           1       0.93      0.88      0.90      1593\n",
      "\n",
      "    accuracy                           0.90      3186\n",
      "   macro avg       0.90      0.90      0.90      3186\n",
      "weighted avg       0.90      0.90      0.90      3186\n",
      "\n"
     ]
    }
   ],
   "source": [
    "from sklearn.metrics import classification_report\n",
    "print(classification_report(y_test, xgbClassifier_predicted))"
   ]
  },
  {
   "cell_type": "markdown",
   "id": "3b77ed18",
   "metadata": {},
   "source": [
    "### KNN Classifier"
   ]
  },
  {
   "cell_type": "code",
   "execution_count": 90,
   "id": "ccce20d8",
   "metadata": {},
   "outputs": [
    {
     "name": "stdout",
     "output_type": "stream",
     "text": [
      "[[1307  286]\n",
      " [  60 1533]]\n"
     ]
    }
   ],
   "source": [
    "cmKNN = confusion_matrix(y_test, knnClassifier_predicted)\n",
    "print(cmKNN)"
   ]
  },
  {
   "cell_type": "code",
   "execution_count": 91,
   "id": "19fecc20",
   "metadata": {},
   "outputs": [
    {
     "name": "stdout",
     "output_type": "stream",
     "text": [
      "              precision    recall  f1-score   support\n",
      "\n",
      "           0       0.96      0.82      0.88      1593\n",
      "           1       0.84      0.96      0.90      1593\n",
      "\n",
      "    accuracy                           0.89      3186\n",
      "   macro avg       0.90      0.89      0.89      3186\n",
      "weighted avg       0.90      0.89      0.89      3186\n",
      "\n"
     ]
    }
   ],
   "source": [
    "print(classification_report(y_test, knnClassifier_predicted))"
   ]
  },
  {
   "cell_type": "markdown",
   "id": "3ce8c862",
   "metadata": {},
   "source": [
    "### Plotting ROC_AUC Curve"
   ]
  },
  {
   "cell_type": "code",
   "execution_count": 92,
   "id": "6ae77ed8",
   "metadata": {},
   "outputs": [],
   "source": [
    "from sklearn.metrics import roc_curve, roc_auc_score\n",
    "classifiers = [svm,log_reg_tunned,rf_classifier,dt_classifier,xgbClassifier,knnClassifier]\n",
    "model=['SVM','Logistic Regression','Random Forest','Decision Tree','XGB Classifier','KNN']\n",
    "result_table = pd.DataFrame(columns=['model','fpr','tpr','auc'])\n",
    "\n",
    "for cls in classifiers:\n",
    "    model = cls.fit(X_train,y_train)\n",
    "    yproba = model.predict_proba(X_test)[::,1]\n",
    "    fpr,tpr, _=roc_curve(y_test,yproba)\n",
    "    auc = roc_auc_score(y_test,yproba)\n",
    "    result_table = result_table.append({\n",
    "        'model':cls.__class__.__name__,\n",
    "        'fpr':fpr,\n",
    "        'tpr':tpr,\n",
    "        'auc':auc\n",
    "    },ignore_index=True)\n",
    "result_table.set_index('model',inplace=True)"
   ]
  },
  {
   "cell_type": "code",
   "execution_count": 93,
   "id": "9c7eb1bb",
   "metadata": {},
   "outputs": [
    {
     "name": "stdout",
     "output_type": "stream",
     "text": [
      "                                                                      fpr  \\\n",
      "model                                                                       \n",
      "SVC                     [0.0, 0.0, 0.0, 0.0006277463904582549, 0.00062...   \n",
      "LogisticRegression      [0.0, 0.0, 0.0, 0.0006277463904582549, 0.00062...   \n",
      "RandomForestClassifier  [0.0, 0.0, 0.0, 0.0, 0.0, 0.0, 0.0, 0.0, 0.0, ...   \n",
      "DecisionTreeClassifier  [0.0, 0.0006277463904582549, 0.001883239171374...   \n",
      "XGBClassifier           [0.0, 0.0, 0.0, 0.0, 0.0, 0.0, 0.0, 0.0, 0.0, ...   \n",
      "KNeighborsClassifier                      [0.0, 0.17953546767106088, 1.0]   \n",
      "\n",
      "                                                                      tpr  \\\n",
      "model                                                                       \n",
      "SVC                     [0.0, 0.0006277463904582549, 0.053358443188951...   \n",
      "LogisticRegression      [0.0, 0.0006277463904582549, 0.005021971123666...   \n",
      "RandomForestClassifier  [0.0, 0.0006277463904582549, 0.026365348399246...   \n",
      "DecisionTreeClassifier  [0.0, 0.05273069679849341, 0.06340238543628374...   \n",
      "XGBClassifier           [0.0, 0.0006277463904582549, 0.012554927809165...   \n",
      "KNeighborsClassifier                       [0.0, 0.9623352165725048, 1.0]   \n",
      "\n",
      "                             auc  \n",
      "model                             \n",
      "SVC                     0.913825  \n",
      "LogisticRegression      0.778052  \n",
      "RandomForestClassifier  0.946472  \n",
      "DecisionTreeClassifier  0.861601  \n",
      "XGBClassifier           0.962703  \n",
      "KNeighborsClassifier    0.891400  \n"
     ]
    }
   ],
   "source": [
    "print(result_table)"
   ]
  },
  {
   "cell_type": "code",
   "execution_count": 94,
   "id": "a984d497",
   "metadata": {},
   "outputs": [
    {
     "data": {
      "image/png": "[encoded data removed]",
      "text/plain": [
       "<Figure size 720x576 with 1 Axes>"
      ]
     },
     "metadata": {
      "needs_background": "light"
     },
     "output_type": "display_data"
    }
   ],
   "source": [
    "fig=plt.figure(figsize=(10,8))\n",
    "for i in result_table.index:\n",
    "    plt.plot(result_table.loc[i]['fpr'],\n",
    "            result_table.loc[i]['tpr'],\n",
    "            label=\"{},AUC={:.3f}\".format(i,result_table.loc[i]['auc']))\n",
    "plt.plot([0,1],[0,1],color='black',linestyle='--')\n",
    "\n",
    "plt.xticks(np.arange(0.0,1.1,step=0.1))\n",
    "plt.xlabel(\"False positive rate\",fontsize=15)\n",
    "\n",
    "plt.yticks(np.arange(0.0,1.1,step=0.1))\n",
    "plt.ylabel(\"True positive rate\",fontsize=15)\n",
    "\n",
    "plt.title('ROC Curve Analysis', fontweight='bold',fontsize=15)\n",
    "plt.legend(prop={'size':13}, loc='lower right')\n",
    "\n",
    "plt.show()"
   ]
  },
  {
   "cell_type": "markdown",
   "id": "986b90fc",
   "metadata": {},
   "source": [
    "### Save model "
   ]
  },
  {
   "cell_type": "code",
   "execution_count": 95,
   "id": "f2670069",
   "metadata": {},
   "outputs": [
    {
     "data": {
      "text/plain": [
       "['xgb_classifier_model.pkl']"
      ]
     },
     "execution_count": 95,
     "metadata": {},
     "output_type": "execute_result"
    }
   ],
   "source": [
    "import joblib\n",
    "\n",
    "joblib.dump(xgbClassifier, 'xgb_classifier_model.pkl')"
   ]
  },
  {
   "cell_type": "code",
   "execution_count": 116,
   "id": "77743e81",
   "metadata": {},
   "outputs": [
    {
     "data": {
      "text/plain": [
       "['scaler.pkl']"
      ]
     },
     "execution_count": 116,
     "metadata": {},
     "output_type": "execute_result"
    }
   ],
   "source": [
    "joblib.dump(scaler, 'scaler.pkl')"
   ]
  },
  {
   "cell_type": "markdown",
   "id": "dbd4d5c9",
   "metadata": {},
   "source": [
    "### Load the saved model from file\n"
   ]
  },
  {
   "cell_type": "code",
   "execution_count": 96,
   "id": "b1e14202",
   "metadata": {},
   "outputs": [],
   "source": [
    "xgbClassifier_loaded = joblib.load('xgb_classifier_model.pkl')"
   ]
  },
  {
   "cell_type": "code",
   "execution_count": 105,
   "id": "f4014462",
   "metadata": {},
   "outputs": [
    {
     "data": {
      "text/html": [
       "<div>\n",
       "<style scoped>\n",
       "    .dataframe tbody tr th:only-of-type {\n",
       "        vertical-align: middle;\n",
       "    }\n",
       "\n",
       "    .dataframe tbody tr th {\n",
       "        vertical-align: top;\n",
       "    }\n",
       "\n",
       "    .dataframe thead th {\n",
       "        text-align: right;\n",
       "    }\n",
       "</style>\n",
       "<table border=\"1\" class=\"dataframe\">\n",
       "  <thead>\n",
       "    <tr style=\"text-align: right;\">\n",
       "      <th></th>\n",
       "      <th>encoder__Geography_France</th>\n",
       "      <th>encoder__Geography_Germany</th>\n",
       "      <th>encoder__Geography_Spain</th>\n",
       "      <th>remainder__CreditScore</th>\n",
       "      <th>remainder__Gender</th>\n",
       "      <th>remainder__Age</th>\n",
       "      <th>remainder__Tenure</th>\n",
       "      <th>remainder__Balance</th>\n",
       "      <th>remainder__NumOfProducts</th>\n",
       "      <th>remainder__HasCrCard</th>\n",
       "      <th>remainder__IsActiveMember</th>\n",
       "      <th>remainder__EstimatedSalary</th>\n",
       "    </tr>\n",
       "  </thead>\n",
       "  <tbody>\n",
       "    <tr>\n",
       "      <th>0</th>\n",
       "      <td>1.0</td>\n",
       "      <td>0.0</td>\n",
       "      <td>0.0</td>\n",
       "      <td>0.538</td>\n",
       "      <td>0.0</td>\n",
       "      <td>0.324324</td>\n",
       "      <td>0.2</td>\n",
       "      <td>0.0</td>\n",
       "      <td>0.0</td>\n",
       "      <td>1.0</td>\n",
       "      <td>1.0</td>\n",
       "      <td>0.506735</td>\n",
       "    </tr>\n",
       "  </tbody>\n",
       "</table>\n",
       "</div>"
      ],
      "text/plain": [
       "   encoder__Geography_France  encoder__Geography_Germany  \\\n",
       "0                        1.0                         0.0   \n",
       "\n",
       "   encoder__Geography_Spain  remainder__CreditScore  remainder__Gender  \\\n",
       "0                       0.0                   0.538                0.0   \n",
       "\n",
       "   remainder__Age  remainder__Tenure  remainder__Balance  \\\n",
       "0        0.324324                0.2                 0.0   \n",
       "\n",
       "   remainder__NumOfProducts  remainder__HasCrCard  remainder__IsActiveMember  \\\n",
       "0                       0.0                   1.0                        1.0   \n",
       "\n",
       "   remainder__EstimatedSalary  \n",
       "0                    0.506735  "
      ]
     },
     "execution_count": 105,
     "metadata": {},
     "output_type": "execute_result"
    }
   ],
   "source": [
    "X_sm[:1]"
   ]
  },
  {
   "cell_type": "code",
   "execution_count": 106,
   "id": "f472e2b6",
   "metadata": {},
   "outputs": [
    {
     "data": {
      "text/plain": [
       "0    1\n",
       "Name: Exited, dtype: int64"
      ]
     },
     "execution_count": 106,
     "metadata": {},
     "output_type": "execute_result"
    }
   ],
   "source": [
    "y_sm[:1]"
   ]
  },
  {
   "cell_type": "code",
   "execution_count": 104,
   "id": "22e1a854",
   "metadata": {},
   "outputs": [],
   "source": [
    "y_pred_loaded = xgbClassifier_loaded.predict([[1.0,0.0,0.0,0.538,0.0,0.324324,0.2,0.0,0.0,1.0,1.0,0.506735]])"
   ]
  },
  {
   "cell_type": "code",
   "execution_count": 100,
   "id": "aa5245a2",
   "metadata": {},
   "outputs": [
    {
     "data": {
      "text/plain": [
       "array([1])"
      ]
     },
     "execution_count": 100,
     "metadata": {},
     "output_type": "execute_result"
    }
   ],
   "source": [
    "y_pred_loaded"
   ]
  },
  {
   "cell_type": "code",
   "execution_count": null,
   "id": "62644d53",
   "metadata": {},
   "outputs": [],
   "source": []
  }
 ],
 "metadata": {
  "kernelspec": {
   "display_name": "Python 3 (ipykernel)",
   "language": "python",
   "name": "python3"
  },
  "language_info": {
   "codemirror_mode": {
    "name": "ipython",
    "version": 3
   },
   "file_extension": ".py",
   "mimetype": "text/x-python",
   "name": "python",
   "nbconvert_exporter": "python",
   "pygments_lexer": "ipython3",
   "version": "3.10.0"
  }
 },
 "nbformat": 4,
 "nbformat_minor": 5
}
